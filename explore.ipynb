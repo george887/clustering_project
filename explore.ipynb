{
 "cells": [
  {
   "cell_type": "code",
   "execution_count": 1,
   "metadata": {},
   "outputs": [],
   "source": [
    "import warnings\n",
    "warnings.filterwarnings(\"ignore\")\n",
    "\n",
    "import pandas as pd\n",
    "import numpy as np\n",
    "\n",
    "import matplotlib.pyplot as plt\n",
    "from matplotlib import cm\n",
    "import seaborn as sns\n",
    "\n",
    "from sklearn.model_selection import train_test_split\n",
    "from sklearn.preprocessing import StandardScaler, QuantileTransformer, PowerTransformer, RobustScaler, MinMaxScaler\n",
    "from sklearn.cluster import KMeans\n",
    "import wrangle_zillow as w\n",
    "import explore as e\n",
    "import scipy.stats as stats\n",
    "from sklearn.linear_model import LinearRegression\n",
    "from sklearn.feature_selection import RFE"
   ]
  },
  {
   "cell_type": "code",
   "execution_count": 2,
   "metadata": {},
   "outputs": [],
   "source": [
    "df = w.get_zillow_data()"
   ]
  },
  {
   "cell_type": "code",
   "execution_count": 3,
   "metadata": {},
   "outputs": [],
   "source": [
    "def fips_labels(x):\n",
    "    if x['fips'] == 6037:\n",
    "        return 'Los Angeles County'\n",
    "    elif x['fips'] == 6059:\n",
    "        return 'Orange County'\n",
    "    elif x['fips'] == 6111:\n",
    "        return 'Ventura County'"
   ]
  },
  {
   "cell_type": "code",
   "execution_count": 4,
   "metadata": {},
   "outputs": [
    {
     "data": {
      "text/html": [
       "<div>\n",
       "<style scoped>\n",
       "    .dataframe tbody tr th:only-of-type {\n",
       "        vertical-align: middle;\n",
       "    }\n",
       "\n",
       "    .dataframe tbody tr th {\n",
       "        vertical-align: top;\n",
       "    }\n",
       "\n",
       "    .dataframe thead th {\n",
       "        text-align: right;\n",
       "    }\n",
       "</style>\n",
       "<table border=\"1\" class=\"dataframe\">\n",
       "  <thead>\n",
       "    <tr style=\"text-align: right;\">\n",
       "      <th></th>\n",
       "      <th>parcelid</th>\n",
       "      <th>typeconstructiontypeid</th>\n",
       "      <th>storytypeid</th>\n",
       "      <th>propertylandusetypeid</th>\n",
       "      <th>heatingorsystemtypeid</th>\n",
       "      <th>buildingclasstypeid</th>\n",
       "      <th>architecturalstyletypeid</th>\n",
       "      <th>airconditioningtypeid</th>\n",
       "      <th>id</th>\n",
       "      <th>basementsqft</th>\n",
       "      <th>...</th>\n",
       "      <th>logerror</th>\n",
       "      <th>transactiondate</th>\n",
       "      <th>airconditioningdesc</th>\n",
       "      <th>architecturalstyledesc</th>\n",
       "      <th>buildingclassdesc</th>\n",
       "      <th>heatingorsystemdesc</th>\n",
       "      <th>propertylandusedesc</th>\n",
       "      <th>storydesc</th>\n",
       "      <th>typeconstructiondesc</th>\n",
       "      <th>county</th>\n",
       "    </tr>\n",
       "  </thead>\n",
       "  <tbody>\n",
       "    <tr>\n",
       "      <th>0</th>\n",
       "      <td>14297519</td>\n",
       "      <td>NaN</td>\n",
       "      <td>NaN</td>\n",
       "      <td>261.0</td>\n",
       "      <td>NaN</td>\n",
       "      <td>NaN</td>\n",
       "      <td>NaN</td>\n",
       "      <td>NaN</td>\n",
       "      <td>1727539</td>\n",
       "      <td>NaN</td>\n",
       "      <td>...</td>\n",
       "      <td>0.025595</td>\n",
       "      <td>2017-01-01</td>\n",
       "      <td>NaN</td>\n",
       "      <td>NaN</td>\n",
       "      <td>NaN</td>\n",
       "      <td>NaN</td>\n",
       "      <td>Single Family Residential</td>\n",
       "      <td>NaN</td>\n",
       "      <td>NaN</td>\n",
       "      <td>Orange County</td>\n",
       "    </tr>\n",
       "    <tr>\n",
       "      <th>1</th>\n",
       "      <td>17052889</td>\n",
       "      <td>NaN</td>\n",
       "      <td>NaN</td>\n",
       "      <td>261.0</td>\n",
       "      <td>NaN</td>\n",
       "      <td>NaN</td>\n",
       "      <td>NaN</td>\n",
       "      <td>NaN</td>\n",
       "      <td>1387261</td>\n",
       "      <td>NaN</td>\n",
       "      <td>...</td>\n",
       "      <td>0.055619</td>\n",
       "      <td>2017-01-01</td>\n",
       "      <td>NaN</td>\n",
       "      <td>NaN</td>\n",
       "      <td>NaN</td>\n",
       "      <td>NaN</td>\n",
       "      <td>Single Family Residential</td>\n",
       "      <td>NaN</td>\n",
       "      <td>NaN</td>\n",
       "      <td>Ventura County</td>\n",
       "    </tr>\n",
       "    <tr>\n",
       "      <th>2</th>\n",
       "      <td>14186244</td>\n",
       "      <td>NaN</td>\n",
       "      <td>NaN</td>\n",
       "      <td>261.0</td>\n",
       "      <td>NaN</td>\n",
       "      <td>NaN</td>\n",
       "      <td>NaN</td>\n",
       "      <td>NaN</td>\n",
       "      <td>11677</td>\n",
       "      <td>NaN</td>\n",
       "      <td>...</td>\n",
       "      <td>0.005383</td>\n",
       "      <td>2017-01-01</td>\n",
       "      <td>NaN</td>\n",
       "      <td>NaN</td>\n",
       "      <td>NaN</td>\n",
       "      <td>NaN</td>\n",
       "      <td>Single Family Residential</td>\n",
       "      <td>NaN</td>\n",
       "      <td>NaN</td>\n",
       "      <td>Orange County</td>\n",
       "    </tr>\n",
       "    <tr>\n",
       "      <th>3</th>\n",
       "      <td>12177905</td>\n",
       "      <td>NaN</td>\n",
       "      <td>NaN</td>\n",
       "      <td>261.0</td>\n",
       "      <td>2.0</td>\n",
       "      <td>NaN</td>\n",
       "      <td>NaN</td>\n",
       "      <td>NaN</td>\n",
       "      <td>2288172</td>\n",
       "      <td>NaN</td>\n",
       "      <td>...</td>\n",
       "      <td>-0.103410</td>\n",
       "      <td>2017-01-01</td>\n",
       "      <td>NaN</td>\n",
       "      <td>NaN</td>\n",
       "      <td>NaN</td>\n",
       "      <td>Central</td>\n",
       "      <td>Single Family Residential</td>\n",
       "      <td>NaN</td>\n",
       "      <td>NaN</td>\n",
       "      <td>Los Angeles County</td>\n",
       "    </tr>\n",
       "    <tr>\n",
       "      <th>4</th>\n",
       "      <td>10887214</td>\n",
       "      <td>NaN</td>\n",
       "      <td>NaN</td>\n",
       "      <td>266.0</td>\n",
       "      <td>2.0</td>\n",
       "      <td>NaN</td>\n",
       "      <td>NaN</td>\n",
       "      <td>1.0</td>\n",
       "      <td>1970746</td>\n",
       "      <td>NaN</td>\n",
       "      <td>...</td>\n",
       "      <td>0.006940</td>\n",
       "      <td>2017-01-01</td>\n",
       "      <td>Central</td>\n",
       "      <td>NaN</td>\n",
       "      <td>NaN</td>\n",
       "      <td>Central</td>\n",
       "      <td>Condominium</td>\n",
       "      <td>NaN</td>\n",
       "      <td>NaN</td>\n",
       "      <td>Los Angeles County</td>\n",
       "    </tr>\n",
       "  </tbody>\n",
       "</table>\n",
       "<p>5 rows × 70 columns</p>\n",
       "</div>"
      ],
      "text/plain": [
       "   parcelid  typeconstructiontypeid  storytypeid  propertylandusetypeid  \\\n",
       "0  14297519                     NaN          NaN                  261.0   \n",
       "1  17052889                     NaN          NaN                  261.0   \n",
       "2  14186244                     NaN          NaN                  261.0   \n",
       "3  12177905                     NaN          NaN                  261.0   \n",
       "4  10887214                     NaN          NaN                  266.0   \n",
       "\n",
       "   heatingorsystemtypeid  buildingclasstypeid  architecturalstyletypeid  \\\n",
       "0                    NaN                  NaN                       NaN   \n",
       "1                    NaN                  NaN                       NaN   \n",
       "2                    NaN                  NaN                       NaN   \n",
       "3                    2.0                  NaN                       NaN   \n",
       "4                    2.0                  NaN                       NaN   \n",
       "\n",
       "   airconditioningtypeid       id  basementsqft  ...  logerror  \\\n",
       "0                    NaN  1727539           NaN  ...  0.025595   \n",
       "1                    NaN  1387261           NaN  ...  0.055619   \n",
       "2                    NaN    11677           NaN  ...  0.005383   \n",
       "3                    NaN  2288172           NaN  ... -0.103410   \n",
       "4                    1.0  1970746           NaN  ...  0.006940   \n",
       "\n",
       "   transactiondate  airconditioningdesc  architecturalstyledesc  \\\n",
       "0       2017-01-01                  NaN                     NaN   \n",
       "1       2017-01-01                  NaN                     NaN   \n",
       "2       2017-01-01                  NaN                     NaN   \n",
       "3       2017-01-01                  NaN                     NaN   \n",
       "4       2017-01-01              Central                     NaN   \n",
       "\n",
       "   buildingclassdesc  heatingorsystemdesc        propertylandusedesc  \\\n",
       "0                NaN                  NaN  Single Family Residential   \n",
       "1                NaN                  NaN  Single Family Residential   \n",
       "2                NaN                  NaN  Single Family Residential   \n",
       "3                NaN              Central  Single Family Residential   \n",
       "4                NaN              Central                Condominium   \n",
       "\n",
       "   storydesc  typeconstructiondesc              county  \n",
       "0        NaN                   NaN       Orange County  \n",
       "1        NaN                   NaN      Ventura County  \n",
       "2        NaN                   NaN       Orange County  \n",
       "3        NaN                   NaN  Los Angeles County  \n",
       "4        NaN                   NaN  Los Angeles County  \n",
       "\n",
       "[5 rows x 70 columns]"
      ]
     },
     "execution_count": 4,
     "metadata": {},
     "output_type": "execute_result"
    }
   ],
   "source": [
    "# Creating a county column\n",
    "df['county'] = df.apply(lambda x: fips_labels(x), axis=1)\n",
    "df.head()"
   ]
  },
  {
   "cell_type": "code",
   "execution_count": 5,
   "metadata": {},
   "outputs": [],
   "source": [
    "df= w.single_unit_properties(df)"
   ]
  },
  {
   "cell_type": "code",
   "execution_count": 6,
   "metadata": {},
   "outputs": [],
   "source": [
    "df=w.handle_missing_values(df, prop_required_column = .60, prop_required_row = .60)"
   ]
  },
  {
   "cell_type": "code",
   "execution_count": 7,
   "metadata": {},
   "outputs": [],
   "source": [
    "train, validate, test =w.impute_missing_values(df)"
   ]
  },
  {
   "cell_type": "code",
   "execution_count": 8,
   "metadata": {},
   "outputs": [],
   "source": [
    "train, validate, test = w.impute_missing_values_1(train, validate, test)"
   ]
  },
  {
   "cell_type": "code",
   "execution_count": 9,
   "metadata": {},
   "outputs": [
    {
     "data": {
      "image/png": "[encoded data removed]",
      "text/plain": [
       "<Figure size 288x144 with 1 Axes>"
      ]
     },
     "metadata": {
      "needs_background": "light"
     },
     "output_type": "display_data"
    },
    {
     "data": {
      "image/png": "[encoded data removed]",
      "text/plain": [
       "<Figure size 288x144 with 1 Axes>"
      ]
     },
     "metadata": {
      "needs_background": "light"
     },
     "output_type": "display_data"
    },
    {
     "data": {
      "image/png": "[encoded data removed]",
      "text/plain": [
       "<Figure size 288x144 with 1 Axes>"
      ]
     },
     "metadata": {
      "needs_background": "light"
     },
     "output_type": "display_data"
    },
    {
     "data": {
      "image/png": "[encoded data removed]",
      "text/plain": [
       "<Figure size 288x144 with 1 Axes>"
      ]
     },
     "metadata": {
      "needs_background": "light"
     },
     "output_type": "display_data"
    },
    {
     "data": {
      "image/png": "[encoded data removed]",
      "text/plain": [
       "<Figure size 288x144 with 1 Axes>"
      ]
     },
     "metadata": {
      "needs_background": "light"
     },
     "output_type": "display_data"
    },
    {
     "data": {
      "image/png": "[encoded data removed]",
      "text/plain": [
       "<Figure size 288x144 with 1 Axes>"
      ]
     },
     "metadata": {
      "needs_background": "light"
     },
     "output_type": "display_data"
    },
    {
     "data": {
      "image/png": "[encoded data removed]",
      "text/plain": [
       "<Figure size 288x144 with 1 Axes>"
      ]
     },
     "metadata": {
      "needs_background": "light"
     },
     "output_type": "display_data"
    },
    {
     "data": {
      "image/png": "[encoded data removed]",
      "text/plain": [
       "<Figure size 288x144 with 1 Axes>"
      ]
     },
     "metadata": {
      "needs_background": "light"
     },
     "output_type": "display_data"
    },
    {
     "data": {
      "image/png": "[encoded data removed]",
      "text/plain": [
       "<Figure size 288x144 with 1 Axes>"
      ]
     },
     "metadata": {
      "needs_background": "light"
     },
     "output_type": "display_data"
    },
    {
     "data": {
      "image/png": "[encoded data removed]",
      "text/plain": [
       "<Figure size 288x144 with 1 Axes>"
      ]
     },
     "metadata": {
      "needs_background": "light"
     },
     "output_type": "display_data"
    },
    {
     "data": {
      "image/png": "[encoded data removed]",
      "text/plain": [
       "<Figure size 288x144 with 1 Axes>"
      ]
     },
     "metadata": {
      "needs_background": "light"
     },
     "output_type": "display_data"
    },
    {
     "data": {
      "image/png": "[encoded data removed]",
      "text/plain": [
       "<Figure size 288x144 with 1 Axes>"
      ]
     },
     "metadata": {
      "needs_background": "light"
     },
     "output_type": "display_data"
    },
    {
     "data": {
      "image/png": "[encoded data removed]",
      "text/plain": [
       "<Figure size 288x144 with 1 Axes>"
      ]
     },
     "metadata": {
      "needs_background": "light"
     },
     "output_type": "display_data"
    },
    {
     "data": {
      "image/png": "[encoded data removed]",
      "text/plain": [
       "<Figure size 288x144 with 1 Axes>"
      ]
     },
     "metadata": {
      "needs_background": "light"
     },
     "output_type": "display_data"
    },
    {
     "data": {
      "image/png": "[encoded data removed]",
      "text/plain": [
       "<Figure size 288x144 with 1 Axes>"
      ]
     },
     "metadata": {
      "needs_background": "light"
     },
     "output_type": "display_data"
    },
    {
     "data": {
      "image/png": "[encoded data removed]",
      "text/plain": [
       "<Figure size 288x144 with 1 Axes>"
      ]
     },
     "metadata": {
      "needs_background": "light"
     },
     "output_type": "display_data"
    },
    {
     "data": {
      "image/png": "[encoded data removed]",
      "text/plain": [
       "<Figure size 288x144 with 1 Axes>"
      ]
     },
     "metadata": {
      "needs_background": "light"
     },
     "output_type": "display_data"
    },
    {
     "data": {
      "image/png": "[encoded data removed]",
      "text/plain": [
       "<Figure size 288x144 with 1 Axes>"
      ]
     },
     "metadata": {
      "needs_background": "light"
     },
     "output_type": "display_data"
    },
    {
     "data": {
      "image/png": "[encoded data removed]",
      "text/plain": [
       "<Figure size 288x144 with 1 Axes>"
      ]
     },
     "metadata": {
      "needs_background": "light"
     },
     "output_type": "display_data"
    },
    {
     "data": {
      "image/png": "[encoded data removed]",
      "text/plain": [
       "<Figure size 288x144 with 1 Axes>"
      ]
     },
     "metadata": {
      "needs_background": "light"
     },
     "output_type": "display_data"
    },
    {
     "data": {
      "image/png": "[encoded data removed]",
      "text/plain": [
       "<Figure size 288x144 with 1 Axes>"
      ]
     },
     "metadata": {
      "needs_background": "light"
     },
     "output_type": "display_data"
    },
    {
     "data": {
      "image/png": "[encoded data removed]",
      "text/plain": [
       "<Figure size 288x144 with 1 Axes>"
      ]
     },
     "metadata": {
      "needs_background": "light"
     },
     "output_type": "display_data"
    },
    {
     "data": {
      "image/png": "[encoded data removed]",
      "text/plain": [
       "<Figure size 288x144 with 1 Axes>"
      ]
     },
     "metadata": {
      "needs_background": "light"
     },
     "output_type": "display_data"
    },
    {
     "data": {
      "image/png": "[encoded data removed]",
      "text/plain": [
       "<Figure size 288x144 with 1 Axes>"
      ]
     },
     "metadata": {
      "needs_background": "light"
     },
     "output_type": "display_data"
    },
    {
     "data": {
      "image/png": "[encoded data removed]",
      "text/plain": [
       "<Figure size 288x144 with 1 Axes>"
      ]
     },
     "metadata": {
      "needs_background": "light"
     },
     "output_type": "display_data"
    },
    {
     "data": {
      "image/png": "[encoded data removed]",
      "text/plain": [
       "<Figure size 288x144 with 1 Axes>"
      ]
     },
     "metadata": {
      "needs_background": "light"
     },
     "output_type": "display_data"
    }
   ],
   "source": [
    " for col in train.columns:\n",
    "    plt.figure(figsize=(4,2))\n",
    "    plt.hist(train[col])\n",
    "    plt.title(col)\n",
    "    plt.show()"
   ]
  },
  {
   "cell_type": "markdown",
   "metadata": {},
   "source": [
    "## Features normally distributed\n",
    "    - bedroomcnt\n",
    "    - building quality type id\n",
    "    - fullbathcnt\n",
    "    - latitude\n",
    "    - year built\n",
    "    - age\n",
    "    - bed bath ratio\n",
    "    \n",
    "## Features skewed right\n",
    "    - sqft\n",
    "    \n",
    "## Features skewed left\n",
    "    - longitude\n",
    "    "
   ]
  },
  {
   "cell_type": "markdown",
   "metadata": {},
   "source": [
    "## Is there a relationship between price_per_sqft and logerror?"
   ]
  },
  {
   "cell_type": "code",
   "execution_count": 10,
   "metadata": {},
   "outputs": [
    {
     "data": {
      "text/html": [
       "<div>\n",
       "<style scoped>\n",
       "    .dataframe tbody tr th:only-of-type {\n",
       "        vertical-align: middle;\n",
       "    }\n",
       "\n",
       "    .dataframe tbody tr th {\n",
       "        vertical-align: top;\n",
       "    }\n",
       "\n",
       "    .dataframe thead th {\n",
       "        text-align: right;\n",
       "    }\n",
       "</style>\n",
       "<table border=\"1\" class=\"dataframe\">\n",
       "  <thead>\n",
       "    <tr style=\"text-align: right;\">\n",
       "      <th></th>\n",
       "      <th>1616</th>\n",
       "      <th>33322</th>\n",
       "      <th>44530</th>\n",
       "      <th>32756</th>\n",
       "      <th>67546</th>\n",
       "    </tr>\n",
       "  </thead>\n",
       "  <tbody>\n",
       "    <tr>\n",
       "      <th>bathroomcnt</th>\n",
       "      <td>1</td>\n",
       "      <td>3</td>\n",
       "      <td>4.5</td>\n",
       "      <td>3</td>\n",
       "      <td>3</td>\n",
       "    </tr>\n",
       "    <tr>\n",
       "      <th>bedroomcnt</th>\n",
       "      <td>2</td>\n",
       "      <td>4</td>\n",
       "      <td>5</td>\n",
       "      <td>4</td>\n",
       "      <td>2</td>\n",
       "    </tr>\n",
       "    <tr>\n",
       "      <th>buildingqualitytypeid</th>\n",
       "      <td>6</td>\n",
       "      <td>7</td>\n",
       "      <td>6</td>\n",
       "      <td>6</td>\n",
       "      <td>7</td>\n",
       "    </tr>\n",
       "    <tr>\n",
       "      <th>sqft</th>\n",
       "      <td>906</td>\n",
       "      <td>2548</td>\n",
       "      <td>4733</td>\n",
       "      <td>2776</td>\n",
       "      <td>2083</td>\n",
       "    </tr>\n",
       "    <tr>\n",
       "      <th>fips</th>\n",
       "      <td>6059</td>\n",
       "      <td>6037</td>\n",
       "      <td>6059</td>\n",
       "      <td>6059</td>\n",
       "      <td>6037</td>\n",
       "    </tr>\n",
       "    <tr>\n",
       "      <th>fullbathcnt</th>\n",
       "      <td>1</td>\n",
       "      <td>3</td>\n",
       "      <td>4</td>\n",
       "      <td>3</td>\n",
       "      <td>3</td>\n",
       "    </tr>\n",
       "    <tr>\n",
       "      <th>latitude</th>\n",
       "      <td>3.38536e+07</td>\n",
       "      <td>3.44671e+07</td>\n",
       "      <td>3.35811e+07</td>\n",
       "      <td>3.37002e+07</td>\n",
       "      <td>3.40441e+07</td>\n",
       "    </tr>\n",
       "    <tr>\n",
       "      <th>longitude</th>\n",
       "      <td>-1.18013e+08</td>\n",
       "      <td>-1.18203e+08</td>\n",
       "      <td>-1.17691e+08</td>\n",
       "      <td>-1.17726e+08</td>\n",
       "      <td>-1.1839e+08</td>\n",
       "    </tr>\n",
       "    <tr>\n",
       "      <th>lotsizesquarefeet</th>\n",
       "      <td>4536</td>\n",
       "      <td>107586</td>\n",
       "      <td>29600</td>\n",
       "      <td>6933</td>\n",
       "      <td>6379</td>\n",
       "    </tr>\n",
       "    <tr>\n",
       "      <th>propertycountylandusecode</th>\n",
       "      <td>122</td>\n",
       "      <td>0101</td>\n",
       "      <td>122</td>\n",
       "      <td>1</td>\n",
       "      <td>0100</td>\n",
       "    </tr>\n",
       "    <tr>\n",
       "      <th>roomcnt</th>\n",
       "      <td>4</td>\n",
       "      <td>0</td>\n",
       "      <td>9</td>\n",
       "      <td>0</td>\n",
       "      <td>0</td>\n",
       "    </tr>\n",
       "    <tr>\n",
       "      <th>unitcnt</th>\n",
       "      <td>1</td>\n",
       "      <td>1</td>\n",
       "      <td>1</td>\n",
       "      <td>1</td>\n",
       "      <td>1</td>\n",
       "    </tr>\n",
       "    <tr>\n",
       "      <th>yearbuilt</th>\n",
       "      <td>1960</td>\n",
       "      <td>1982</td>\n",
       "      <td>2007</td>\n",
       "      <td>2014</td>\n",
       "      <td>1947</td>\n",
       "    </tr>\n",
       "    <tr>\n",
       "      <th>structuretaxvaluedollarcnt</th>\n",
       "      <td>44428</td>\n",
       "      <td>329392</td>\n",
       "      <td>878598</td>\n",
       "      <td>378264</td>\n",
       "      <td>154667</td>\n",
       "    </tr>\n",
       "    <tr>\n",
       "      <th>home_value</th>\n",
       "      <td>280779</td>\n",
       "      <td>423748</td>\n",
       "      <td>2.04471e+06</td>\n",
       "      <td>1.08956e+06</td>\n",
       "      <td>758666</td>\n",
       "    </tr>\n",
       "    <tr>\n",
       "      <th>taxamount</th>\n",
       "      <td>3361.64</td>\n",
       "      <td>5051.99</td>\n",
       "      <td>21014.9</td>\n",
       "      <td>17815.3</td>\n",
       "      <td>9308.98</td>\n",
       "    </tr>\n",
       "    <tr>\n",
       "      <th>logerror</th>\n",
       "      <td>0.0349235</td>\n",
       "      <td>0.031105</td>\n",
       "      <td>-0.0415239</td>\n",
       "      <td>0.0399215</td>\n",
       "      <td>-0.0550178</td>\n",
       "    </tr>\n",
       "    <tr>\n",
       "      <th>transactiondate</th>\n",
       "      <td>2017-01-09</td>\n",
       "      <td>2017-05-05</td>\n",
       "      <td>2017-06-08</td>\n",
       "      <td>2017-05-04</td>\n",
       "      <td>2017-08-17</td>\n",
       "    </tr>\n",
       "    <tr>\n",
       "      <th>heatingorsystemdesc</th>\n",
       "      <td>Floor/Wall</td>\n",
       "      <td>Central</td>\n",
       "      <td>none</td>\n",
       "      <td>none</td>\n",
       "      <td>Central</td>\n",
       "    </tr>\n",
       "    <tr>\n",
       "      <th>county</th>\n",
       "      <td>Orange County</td>\n",
       "      <td>Los Angeles County</td>\n",
       "      <td>Orange County</td>\n",
       "      <td>Orange County</td>\n",
       "      <td>Los Angeles County</td>\n",
       "    </tr>\n",
       "    <tr>\n",
       "      <th>age</th>\n",
       "      <td>57</td>\n",
       "      <td>35</td>\n",
       "      <td>10</td>\n",
       "      <td>3</td>\n",
       "      <td>70</td>\n",
       "    </tr>\n",
       "    <tr>\n",
       "      <th>taxrate</th>\n",
       "      <td>0.0119725</td>\n",
       "      <td>0.0119222</td>\n",
       "      <td>0.0102777</td>\n",
       "      <td>0.0163509</td>\n",
       "      <td>0.0122702</td>\n",
       "    </tr>\n",
       "    <tr>\n",
       "      <th>acres</th>\n",
       "      <td>0.104132</td>\n",
       "      <td>2.46983</td>\n",
       "      <td>0.679522</td>\n",
       "      <td>0.15916</td>\n",
       "      <td>0.146442</td>\n",
       "    </tr>\n",
       "    <tr>\n",
       "      <th>price_per_sqft</th>\n",
       "      <td>309.911</td>\n",
       "      <td>166.306</td>\n",
       "      <td>432.012</td>\n",
       "      <td>392.491</td>\n",
       "      <td>364.218</td>\n",
       "    </tr>\n",
       "    <tr>\n",
       "      <th>lotsize_per_sqft</th>\n",
       "      <td>61.9001</td>\n",
       "      <td>3.93869</td>\n",
       "      <td>69.0781</td>\n",
       "      <td>157.155</td>\n",
       "      <td>118.932</td>\n",
       "    </tr>\n",
       "    <tr>\n",
       "      <th>bed_bath_ratio</th>\n",
       "      <td>2</td>\n",
       "      <td>1.33333</td>\n",
       "      <td>1.11111</td>\n",
       "      <td>1.33333</td>\n",
       "      <td>0.666667</td>\n",
       "    </tr>\n",
       "  </tbody>\n",
       "</table>\n",
       "</div>"
      ],
      "text/plain": [
       "                                    1616                33322          44530  \\\n",
       "bathroomcnt                             1                   3            4.5   \n",
       "bedroomcnt                              2                   4              5   \n",
       "buildingqualitytypeid                   6                   7              6   \n",
       "sqft                                  906                2548           4733   \n",
       "fips                                 6059                6037           6059   \n",
       "fullbathcnt                             1                   3              4   \n",
       "latitude                      3.38536e+07         3.44671e+07    3.35811e+07   \n",
       "longitude                    -1.18013e+08        -1.18203e+08   -1.17691e+08   \n",
       "lotsizesquarefeet                    4536              107586          29600   \n",
       "propertycountylandusecode             122                0101            122   \n",
       "roomcnt                                 4                   0              9   \n",
       "unitcnt                                 1                   1              1   \n",
       "yearbuilt                            1960                1982           2007   \n",
       "structuretaxvaluedollarcnt          44428              329392         878598   \n",
       "home_value                         280779              423748    2.04471e+06   \n",
       "taxamount                         3361.64             5051.99        21014.9   \n",
       "logerror                        0.0349235            0.031105     -0.0415239   \n",
       "transactiondate                2017-01-09          2017-05-05     2017-06-08   \n",
       "heatingorsystemdesc            Floor/Wall             Central           none   \n",
       "county                      Orange County  Los Angeles County  Orange County   \n",
       "age                                    57                  35             10   \n",
       "taxrate                         0.0119725           0.0119222      0.0102777   \n",
       "acres                            0.104132             2.46983       0.679522   \n",
       "price_per_sqft                    309.911             166.306        432.012   \n",
       "lotsize_per_sqft                  61.9001             3.93869        69.0781   \n",
       "bed_bath_ratio                          2             1.33333        1.11111   \n",
       "\n",
       "                                    32756               67546  \n",
       "bathroomcnt                             3                   3  \n",
       "bedroomcnt                              4                   2  \n",
       "buildingqualitytypeid                   6                   7  \n",
       "sqft                                 2776                2083  \n",
       "fips                                 6059                6037  \n",
       "fullbathcnt                             3                   3  \n",
       "latitude                      3.37002e+07         3.40441e+07  \n",
       "longitude                    -1.17726e+08         -1.1839e+08  \n",
       "lotsizesquarefeet                    6933                6379  \n",
       "propertycountylandusecode               1                0100  \n",
       "roomcnt                                 0                   0  \n",
       "unitcnt                                 1                   1  \n",
       "yearbuilt                            2014                1947  \n",
       "structuretaxvaluedollarcnt         378264              154667  \n",
       "home_value                    1.08956e+06              758666  \n",
       "taxamount                         17815.3             9308.98  \n",
       "logerror                        0.0399215          -0.0550178  \n",
       "transactiondate                2017-05-04          2017-08-17  \n",
       "heatingorsystemdesc                  none             Central  \n",
       "county                      Orange County  Los Angeles County  \n",
       "age                                     3                  70  \n",
       "taxrate                         0.0163509           0.0122702  \n",
       "acres                             0.15916            0.146442  \n",
       "price_per_sqft                    392.491             364.218  \n",
       "lotsize_per_sqft                  157.155             118.932  \n",
       "bed_bath_ratio                    1.33333            0.666667  "
      ]
     },
     "execution_count": 10,
     "metadata": {},
     "output_type": "execute_result"
    }
   ],
   "source": [
    "train.head().T"
   ]
  },
  {
   "cell_type": "code",
   "execution_count": 11,
   "metadata": {},
   "outputs": [
    {
     "data": {
      "image/png": "[encoded data removed]",
      "text/plain": [
       "<Figure size 864x432 with 1 Axes>"
      ]
     },
     "metadata": {
      "needs_background": "light"
     },
     "output_type": "display_data"
    }
   ],
   "source": [
    "plt.figure(figsize=(12,6))\n",
    "sns.scatterplot(data=train, x='price_per_sqft', y='logerror')\n",
    "plt.title('Is there a relationship between price per sqft and logerror?')\n",
    "plt.show()"
   ]
  },
  {
   "cell_type": "markdown",
   "metadata": {},
   "source": [
    "- Going to bin price_per_sqft. May want to get rid of the price per sqft over 2K??"
   ]
  },
  {
   "cell_type": "code",
   "execution_count": 12,
   "metadata": {},
   "outputs": [],
   "source": [
    "train['binned_price_per_sqft'] = pd.cut(train.price_per_sqft, [0,1000,2000,5000] , labels=[\"small\", \"medium\", \"large\"])\n",
    "validate['binned_price_per_sqft'] = pd.cut(validate.price_per_sqft, [0,1000,2000,5000] , labels=[\"small\", \"medium\", \"large\"])\n",
    "test['binned_price_per_sqft'] = pd.cut(test.price_per_sqft, [0,1000,2000,5000] , labels=[\"small\", \"medium\", \"large\"])"
   ]
  },
  {
   "cell_type": "code",
   "execution_count": 13,
   "metadata": {},
   "outputs": [
    {
     "data": {
      "text/plain": [
       "small     27845\n",
       "medium      264\n",
       "large        24\n",
       "Name: binned_price_per_sqft, dtype: int64"
      ]
     },
     "execution_count": 13,
     "metadata": {},
     "output_type": "execute_result"
    }
   ],
   "source": [
    "train.binned_price_per_sqft.value_counts(dropna=False)"
   ]
  },
  {
   "cell_type": "code",
   "execution_count": 14,
   "metadata": {},
   "outputs": [
    {
     "data": {
      "image/png": "[encoded data removed]",
      "text/plain": [
       "<Figure size 1080x648 with 1 Axes>"
      ]
     },
     "metadata": {
      "needs_background": "light"
     },
     "output_type": "display_data"
    }
   ],
   "source": [
    "plt.figure(figsize=(15,9))\n",
    "sns.boxplot(x= 'binned_price_per_sqft', y = 'logerror', data = train)\n",
    "plt.title('Is there a relationship between price per sqft and logerror?')\n",
    "plt.show()"
   ]
  },
  {
   "cell_type": "markdown",
   "metadata": {},
   "source": [
    "## Hard to see if there is a correlation here. Going to run a statistical test (ANOVA) to see if there is a significance in the means of price per sqft and log error."
   ]
  },
  {
   "cell_type": "code",
   "execution_count": 15,
   "metadata": {},
   "outputs": [],
   "source": [
    "small_price_per_sqft_ratio = train[train.binned_price_per_sqft == 'small'].price_per_sqft\n",
    "medium_price_per_sqft_ratio = train[train.binned_price_per_sqft == 'medium'].price_per_sqft\n",
    "large_price_per_sqft_ratio = train[train.binned_price_per_sqft == 'large'].price_per_sqft"
   ]
  },
  {
   "cell_type": "markdown",
   "metadata": {},
   "source": [
    "- Ho: Means of binned price_per_sqft_ratio small, medium, large are equal\n",
    "- Ha: Means of binned price_per_sqft_ratio, medium, large are not equal\n",
    "- alpha = .05"
   ]
  },
  {
   "cell_type": "code",
   "execution_count": 16,
   "metadata": {},
   "outputs": [
    {
     "name": "stdout",
     "output_type": "stream",
     "text": [
      "25797.376400826815\n",
      "66359.22062652641\n",
      "441774.5297190322\n"
     ]
    }
   ],
   "source": [
    "print(small_price_per_sqft_ratio.var())\n",
    "print(medium_price_per_sqft_ratio.var())\n",
    "print(large_price_per_sqft_ratio.var())"
   ]
  },
  {
   "cell_type": "code",
   "execution_count": 17,
   "metadata": {},
   "outputs": [
    {
     "data": {
      "text/plain": [
       "(8553.03763805571, 0.0)"
      ]
     },
     "execution_count": 17,
     "metadata": {},
     "output_type": "execute_result"
    }
   ],
   "source": [
    "f, p = stats.f_oneway(small_price_per_sqft_ratio, medium_price_per_sqft_ratio, large_price_per_sqft_ratio)\n",
    "f, p"
   ]
  },
  {
   "cell_type": "markdown",
   "metadata": {},
   "source": [
    "- We reject the null Hypothesis. p-value is less than alpha. The means of binned price per sqft ratio are not equal."
   ]
  },
  {
   "cell_type": "code",
   "execution_count": null,
   "metadata": {},
   "outputs": [],
   "source": []
  },
  {
   "cell_type": "code",
   "execution_count": 18,
   "metadata": {
    "scrolled": true
   },
   "outputs": [
    {
     "data": {
      "image/png": "[encoded data removed]",
      "text/plain": [
       "<Figure size 1080x648 with 1 Axes>"
      ]
     },
     "metadata": {
      "needs_background": "light"
     },
     "output_type": "display_data"
    }
   ],
   "source": [
    "plt.figure(figsize=(15,9))\n",
    "sns.barplot(x= 'bed_bath_ratio', y = 'logerror', data = train)\n",
    "plt.title('Is there a relationship between bed bath ratio and logerror?')\n",
    "plt.show()"
   ]
  },
  {
   "cell_type": "code",
   "execution_count": 19,
   "metadata": {},
   "outputs": [],
   "source": [
    "train['binned_bed_bath_ratio'] = pd.qcut(train.bed_bath_ratio, 3, labels=[\"small\", \"medium\", \"large\"])\n",
    "validate['binned_bed_bath_ratio'] = pd.qcut(train.bed_bath_ratio, 3, labels=[\"small\", \"medium\", \"large\"])\n",
    "test['binned_bed_bath_ratio'] = pd.qcut(train.bed_bath_ratio, 3, labels=[\"small\", \"medium\", \"large\"])"
   ]
  },
  {
   "cell_type": "code",
   "execution_count": 20,
   "metadata": {},
   "outputs": [
    {
     "data": {
      "text/html": [
       "<div>\n",
       "<style scoped>\n",
       "    .dataframe tbody tr th:only-of-type {\n",
       "        vertical-align: middle;\n",
       "    }\n",
       "\n",
       "    .dataframe tbody tr th {\n",
       "        vertical-align: top;\n",
       "    }\n",
       "\n",
       "    .dataframe thead th {\n",
       "        text-align: right;\n",
       "    }\n",
       "</style>\n",
       "<table border=\"1\" class=\"dataframe\">\n",
       "  <thead>\n",
       "    <tr style=\"text-align: right;\">\n",
       "      <th></th>\n",
       "      <th>bathroomcnt</th>\n",
       "      <th>bedroomcnt</th>\n",
       "      <th>buildingqualitytypeid</th>\n",
       "      <th>sqft</th>\n",
       "      <th>fips</th>\n",
       "      <th>fullbathcnt</th>\n",
       "      <th>latitude</th>\n",
       "      <th>longitude</th>\n",
       "      <th>lotsizesquarefeet</th>\n",
       "      <th>propertycountylandusecode</th>\n",
       "      <th>...</th>\n",
       "      <th>heatingorsystemdesc</th>\n",
       "      <th>county</th>\n",
       "      <th>age</th>\n",
       "      <th>taxrate</th>\n",
       "      <th>acres</th>\n",
       "      <th>price_per_sqft</th>\n",
       "      <th>lotsize_per_sqft</th>\n",
       "      <th>bed_bath_ratio</th>\n",
       "      <th>binned_price_per_sqft</th>\n",
       "      <th>binned_bed_bath_ratio</th>\n",
       "    </tr>\n",
       "  </thead>\n",
       "  <tbody>\n",
       "    <tr>\n",
       "      <th>1616</th>\n",
       "      <td>1.0</td>\n",
       "      <td>2.0</td>\n",
       "      <td>6.0</td>\n",
       "      <td>906.0</td>\n",
       "      <td>6059.0</td>\n",
       "      <td>1.0</td>\n",
       "      <td>33853594.0</td>\n",
       "      <td>-118013182.0</td>\n",
       "      <td>4536.0</td>\n",
       "      <td>122</td>\n",
       "      <td>...</td>\n",
       "      <td>Floor/Wall</td>\n",
       "      <td>Orange County</td>\n",
       "      <td>57.0</td>\n",
       "      <td>0.011973</td>\n",
       "      <td>0.104132</td>\n",
       "      <td>309.910596</td>\n",
       "      <td>61.900132</td>\n",
       "      <td>2.000000</td>\n",
       "      <td>small</td>\n",
       "      <td>large</td>\n",
       "    </tr>\n",
       "    <tr>\n",
       "      <th>33322</th>\n",
       "      <td>3.0</td>\n",
       "      <td>4.0</td>\n",
       "      <td>7.0</td>\n",
       "      <td>2548.0</td>\n",
       "      <td>6037.0</td>\n",
       "      <td>3.0</td>\n",
       "      <td>34467094.0</td>\n",
       "      <td>-118202886.0</td>\n",
       "      <td>107586.0</td>\n",
       "      <td>0101</td>\n",
       "      <td>...</td>\n",
       "      <td>Central</td>\n",
       "      <td>Los Angeles County</td>\n",
       "      <td>35.0</td>\n",
       "      <td>0.011922</td>\n",
       "      <td>2.469835</td>\n",
       "      <td>166.306122</td>\n",
       "      <td>3.938691</td>\n",
       "      <td>1.333333</td>\n",
       "      <td>small</td>\n",
       "      <td>small</td>\n",
       "    </tr>\n",
       "    <tr>\n",
       "      <th>44530</th>\n",
       "      <td>4.5</td>\n",
       "      <td>5.0</td>\n",
       "      <td>6.0</td>\n",
       "      <td>4733.0</td>\n",
       "      <td>6059.0</td>\n",
       "      <td>4.0</td>\n",
       "      <td>33581133.0</td>\n",
       "      <td>-117690741.0</td>\n",
       "      <td>29600.0</td>\n",
       "      <td>122</td>\n",
       "      <td>...</td>\n",
       "      <td>none</td>\n",
       "      <td>Orange County</td>\n",
       "      <td>10.0</td>\n",
       "      <td>0.010278</td>\n",
       "      <td>0.679522</td>\n",
       "      <td>432.012043</td>\n",
       "      <td>69.078142</td>\n",
       "      <td>1.111111</td>\n",
       "      <td>small</td>\n",
       "      <td>small</td>\n",
       "    </tr>\n",
       "    <tr>\n",
       "      <th>32756</th>\n",
       "      <td>3.0</td>\n",
       "      <td>4.0</td>\n",
       "      <td>6.0</td>\n",
       "      <td>2776.0</td>\n",
       "      <td>6059.0</td>\n",
       "      <td>3.0</td>\n",
       "      <td>33700191.0</td>\n",
       "      <td>-117725630.0</td>\n",
       "      <td>6933.0</td>\n",
       "      <td>1</td>\n",
       "      <td>...</td>\n",
       "      <td>none</td>\n",
       "      <td>Orange County</td>\n",
       "      <td>3.0</td>\n",
       "      <td>0.016351</td>\n",
       "      <td>0.159160</td>\n",
       "      <td>392.491354</td>\n",
       "      <td>157.155056</td>\n",
       "      <td>1.333333</td>\n",
       "      <td>small</td>\n",
       "      <td>small</td>\n",
       "    </tr>\n",
       "    <tr>\n",
       "      <th>67546</th>\n",
       "      <td>3.0</td>\n",
       "      <td>2.0</td>\n",
       "      <td>7.0</td>\n",
       "      <td>2083.0</td>\n",
       "      <td>6037.0</td>\n",
       "      <td>3.0</td>\n",
       "      <td>34044109.0</td>\n",
       "      <td>-118390335.0</td>\n",
       "      <td>6379.0</td>\n",
       "      <td>0100</td>\n",
       "      <td>...</td>\n",
       "      <td>Central</td>\n",
       "      <td>Los Angeles County</td>\n",
       "      <td>70.0</td>\n",
       "      <td>0.012270</td>\n",
       "      <td>0.146442</td>\n",
       "      <td>364.217955</td>\n",
       "      <td>118.931807</td>\n",
       "      <td>0.666667</td>\n",
       "      <td>small</td>\n",
       "      <td>small</td>\n",
       "    </tr>\n",
       "  </tbody>\n",
       "</table>\n",
       "<p>5 rows × 28 columns</p>\n",
       "</div>"
      ],
      "text/plain": [
       "       bathroomcnt  bedroomcnt  buildingqualitytypeid    sqft    fips  \\\n",
       "1616           1.0         2.0                    6.0   906.0  6059.0   \n",
       "33322          3.0         4.0                    7.0  2548.0  6037.0   \n",
       "44530          4.5         5.0                    6.0  4733.0  6059.0   \n",
       "32756          3.0         4.0                    6.0  2776.0  6059.0   \n",
       "67546          3.0         2.0                    7.0  2083.0  6037.0   \n",
       "\n",
       "       fullbathcnt    latitude    longitude  lotsizesquarefeet  \\\n",
       "1616           1.0  33853594.0 -118013182.0             4536.0   \n",
       "33322          3.0  34467094.0 -118202886.0           107586.0   \n",
       "44530          4.0  33581133.0 -117690741.0            29600.0   \n",
       "32756          3.0  33700191.0 -117725630.0             6933.0   \n",
       "67546          3.0  34044109.0 -118390335.0             6379.0   \n",
       "\n",
       "      propertycountylandusecode  ...  heatingorsystemdesc              county  \\\n",
       "1616                        122  ...           Floor/Wall       Orange County   \n",
       "33322                      0101  ...              Central  Los Angeles County   \n",
       "44530                       122  ...                 none       Orange County   \n",
       "32756                         1  ...                 none       Orange County   \n",
       "67546                      0100  ...              Central  Los Angeles County   \n",
       "\n",
       "        age   taxrate     acres  price_per_sqft  lotsize_per_sqft  \\\n",
       "1616   57.0  0.011973  0.104132      309.910596         61.900132   \n",
       "33322  35.0  0.011922  2.469835      166.306122          3.938691   \n",
       "44530  10.0  0.010278  0.679522      432.012043         69.078142   \n",
       "32756   3.0  0.016351  0.159160      392.491354        157.155056   \n",
       "67546  70.0  0.012270  0.146442      364.217955        118.931807   \n",
       "\n",
       "      bed_bath_ratio binned_price_per_sqft binned_bed_bath_ratio  \n",
       "1616        2.000000                 small                 large  \n",
       "33322       1.333333                 small                 small  \n",
       "44530       1.111111                 small                 small  \n",
       "32756       1.333333                 small                 small  \n",
       "67546       0.666667                 small                 small  \n",
       "\n",
       "[5 rows x 28 columns]"
      ]
     },
     "execution_count": 20,
     "metadata": {},
     "output_type": "execute_result"
    }
   ],
   "source": [
    "train.head()"
   ]
  },
  {
   "cell_type": "code",
   "execution_count": 21,
   "metadata": {
    "scrolled": true
   },
   "outputs": [
    {
     "data": {
      "image/png": "[encoded data removed]",
      "text/plain": [
       "<Figure size 1080x648 with 1 Axes>"
      ]
     },
     "metadata": {
      "needs_background": "light"
     },
     "output_type": "display_data"
    }
   ],
   "source": [
    "plt.figure(figsize=(15,9))\n",
    "sns.barplot(x= 'binned_bed_bath_ratio', y = 'logerror', data = train)\n",
    "plt.title('Is there a relationship between bed bath ratio and logerror?')\n",
    "plt.show()"
   ]
  },
  {
   "cell_type": "markdown",
   "metadata": {},
   "source": [
    "## Going to run a Annova Test to see if there is a significance in bed_bath_ratio to logerror"
   ]
  },
  {
   "cell_type": "code",
   "execution_count": 22,
   "metadata": {},
   "outputs": [],
   "source": [
    "small_bed_bath_ratio = train[train.binned_bed_bath_ratio == 'small'].bed_bath_ratio\n",
    "medium_bed_bath_ratio = train[train.binned_bed_bath_ratio == 'medium'].bed_bath_ratio\n",
    "large_bed_bath_ratio = train[train.binned_bed_bath_ratio == 'large'].bed_bath_ratio"
   ]
  },
  {
   "cell_type": "markdown",
   "metadata": {},
   "source": [
    " - Ho: Means of binned bed_bath_ratio small, medium, large are equal\n",
    " - Ha: Means of binned bed_bath_ratio small, medium, large are not equal\n",
    " - alpha = .05"
   ]
  },
  {
   "cell_type": "code",
   "execution_count": 23,
   "metadata": {},
   "outputs": [
    {
     "name": "stdout",
     "output_type": "stream",
     "text": [
      "0.033051008814788396\n",
      "0.0029452921387648568\n",
      "0.24418842500563911\n"
     ]
    }
   ],
   "source": [
    "print(small_bed_bath_ratio.var())\n",
    "print(medium_bed_bath_ratio.var())\n",
    "print(large_bed_bath_ratio.var())"
   ]
  },
  {
   "cell_type": "code",
   "execution_count": 24,
   "metadata": {},
   "outputs": [
    {
     "data": {
      "text/plain": [
       "(36437.66493599394, 0.0)"
      ]
     },
     "execution_count": 24,
     "metadata": {},
     "output_type": "execute_result"
    }
   ],
   "source": [
    "f, p = stats.f_oneway(small_bed_bath_ratio, medium_bed_bath_ratio, large_bed_bath_ratio)\n",
    "f, p"
   ]
  },
  {
   "cell_type": "markdown",
   "metadata": {},
   "source": [
    "- We reject the null Hypothesis. p-value is less than alpha.  The means of binned bed bath ratio are not equal."
   ]
  },
  {
   "cell_type": "code",
   "execution_count": 25,
   "metadata": {
    "scrolled": true
   },
   "outputs": [
    {
     "data": {
      "image/png": "[encoded data removed]",
      "text/plain": [
       "<Figure size 864x432 with 1 Axes>"
      ]
     },
     "metadata": {
      "needs_background": "light"
     },
     "output_type": "display_data"
    }
   ],
   "source": [
    "plt.figure(figsize = (12,6))\n",
    "sns.scatterplot(data=train, x='age', y='logerror')\n",
    "plt.title('Is there a relationship between how old a home is and logerror?')\n",
    "plt.show()\n"
   ]
  },
  {
   "cell_type": "code",
   "execution_count": 26,
   "metadata": {},
   "outputs": [
    {
     "data": {
      "image/png": "[encoded data removed]",
      "text/plain": [
       "<Figure size 1008x720 with 2 Axes>"
      ]
     },
     "metadata": {
      "needs_background": "light"
     },
     "output_type": "display_data"
    }
   ],
   "source": [
    "# Heat map showing how the variables correlate to each other\n",
    "plt.figure(figsize=(14,10))\n",
    "sns.heatmap(train.corr(),\n",
    "            vmin = -1, \n",
    "            cmap='coolwarm',\n",
    "           annot=False).set_title(\"Zillow Heatmap\", fontsize=20);"
   ]
  },
  {
   "cell_type": "markdown",
   "metadata": {},
   "source": [
    "- Looking at the bottom 3 variables. They seem to have a correlation. Age, bathroomcnt, bedroomcnt, sqft, fullbath,yearbuilt, structure tax value count and building quality type id looks like they have some correlation"
   ]
  },
  {
   "cell_type": "code",
   "execution_count": 27,
   "metadata": {},
   "outputs": [
    {
     "data": {
      "text/html": [
       "<div>\n",
       "<style scoped>\n",
       "    .dataframe tbody tr th:only-of-type {\n",
       "        vertical-align: middle;\n",
       "    }\n",
       "\n",
       "    .dataframe tbody tr th {\n",
       "        vertical-align: top;\n",
       "    }\n",
       "\n",
       "    .dataframe thead th {\n",
       "        text-align: right;\n",
       "    }\n",
       "</style>\n",
       "<table border=\"1\" class=\"dataframe\">\n",
       "  <thead>\n",
       "    <tr style=\"text-align: right;\">\n",
       "      <th></th>\n",
       "      <th>bathroomcnt</th>\n",
       "      <th>bedroomcnt</th>\n",
       "      <th>buildingqualitytypeid</th>\n",
       "      <th>sqft</th>\n",
       "      <th>fips</th>\n",
       "      <th>fullbathcnt</th>\n",
       "      <th>latitude</th>\n",
       "      <th>longitude</th>\n",
       "      <th>lotsizesquarefeet</th>\n",
       "      <th>roomcnt</th>\n",
       "      <th>...</th>\n",
       "      <th>structuretaxvaluedollarcnt</th>\n",
       "      <th>home_value</th>\n",
       "      <th>taxamount</th>\n",
       "      <th>logerror</th>\n",
       "      <th>age</th>\n",
       "      <th>taxrate</th>\n",
       "      <th>acres</th>\n",
       "      <th>price_per_sqft</th>\n",
       "      <th>lotsize_per_sqft</th>\n",
       "      <th>bed_bath_ratio</th>\n",
       "    </tr>\n",
       "  </thead>\n",
       "  <tbody>\n",
       "    <tr>\n",
       "      <th>bathroomcnt</th>\n",
       "      <td>1.000000</td>\n",
       "      <td>0.599332</td>\n",
       "      <td>0.543201</td>\n",
       "      <td>0.807946</td>\n",
       "      <td>0.154347</td>\n",
       "      <td>0.978971</td>\n",
       "      <td>-0.016331</td>\n",
       "      <td>0.029158</td>\n",
       "      <td>0.015594</td>\n",
       "      <td>0.119313</td>\n",
       "      <td>...</td>\n",
       "      <td>0.604623</td>\n",
       "      <td>0.425775</td>\n",
       "      <td>0.431182</td>\n",
       "      <td>0.023609</td>\n",
       "      <td>-0.562665</td>\n",
       "      <td>-0.064004</td>\n",
       "      <td>0.015594</td>\n",
       "      <td>0.035496</td>\n",
       "      <td>0.225420</td>\n",
       "      <td>-0.682809</td>\n",
       "    </tr>\n",
       "    <tr>\n",
       "      <th>bedroomcnt</th>\n",
       "      <td>0.599332</td>\n",
       "      <td>1.000000</td>\n",
       "      <td>0.329855</td>\n",
       "      <td>0.599616</td>\n",
       "      <td>0.154581</td>\n",
       "      <td>0.589462</td>\n",
       "      <td>0.018889</td>\n",
       "      <td>0.007504</td>\n",
       "      <td>-0.002383</td>\n",
       "      <td>0.196376</td>\n",
       "      <td>...</td>\n",
       "      <td>0.335254</td>\n",
       "      <td>0.190629</td>\n",
       "      <td>0.195118</td>\n",
       "      <td>0.031455</td>\n",
       "      <td>-0.380906</td>\n",
       "      <td>-0.040952</td>\n",
       "      <td>-0.002383</td>\n",
       "      <td>-0.113319</td>\n",
       "      <td>0.018396</td>\n",
       "      <td>0.061149</td>\n",
       "    </tr>\n",
       "    <tr>\n",
       "      <th>buildingqualitytypeid</th>\n",
       "      <td>0.543201</td>\n",
       "      <td>0.329855</td>\n",
       "      <td>1.000000</td>\n",
       "      <td>0.473765</td>\n",
       "      <td>-0.043583</td>\n",
       "      <td>0.565473</td>\n",
       "      <td>0.184546</td>\n",
       "      <td>-0.073117</td>\n",
       "      <td>0.030377</td>\n",
       "      <td>-0.046097</td>\n",
       "      <td>...</td>\n",
       "      <td>0.364279</td>\n",
       "      <td>0.277152</td>\n",
       "      <td>0.294188</td>\n",
       "      <td>-0.012662</td>\n",
       "      <td>-0.369413</td>\n",
       "      <td>-0.030227</td>\n",
       "      <td>0.030377</td>\n",
       "      <td>0.059915</td>\n",
       "      <td>0.110288</td>\n",
       "      <td>-0.444048</td>\n",
       "    </tr>\n",
       "    <tr>\n",
       "      <th>sqft</th>\n",
       "      <td>0.807946</td>\n",
       "      <td>0.599616</td>\n",
       "      <td>0.473765</td>\n",
       "      <td>1.000000</td>\n",
       "      <td>0.151637</td>\n",
       "      <td>0.777631</td>\n",
       "      <td>-0.046927</td>\n",
       "      <td>0.025888</td>\n",
       "      <td>0.029640</td>\n",
       "      <td>0.127964</td>\n",
       "      <td>...</td>\n",
       "      <td>0.710090</td>\n",
       "      <td>0.515796</td>\n",
       "      <td>0.518985</td>\n",
       "      <td>0.028839</td>\n",
       "      <td>-0.486019</td>\n",
       "      <td>-0.069366</td>\n",
       "      <td>0.029640</td>\n",
       "      <td>0.032310</td>\n",
       "      <td>0.202058</td>\n",
       "      <td>-0.410590</td>\n",
       "    </tr>\n",
       "    <tr>\n",
       "      <th>fips</th>\n",
       "      <td>0.154347</td>\n",
       "      <td>0.154581</td>\n",
       "      <td>-0.043583</td>\n",
       "      <td>0.151637</td>\n",
       "      <td>1.000000</td>\n",
       "      <td>0.081357</td>\n",
       "      <td>-0.065461</td>\n",
       "      <td>-0.381245</td>\n",
       "      <td>-0.007154</td>\n",
       "      <td>0.743087</td>\n",
       "      <td>...</td>\n",
       "      <td>0.125464</td>\n",
       "      <td>0.061153</td>\n",
       "      <td>0.025024</td>\n",
       "      <td>0.004583</td>\n",
       "      <td>-0.305765</td>\n",
       "      <td>-0.109609</td>\n",
       "      <td>-0.007154</td>\n",
       "      <td>-0.005193</td>\n",
       "      <td>0.070395</td>\n",
       "      <td>-0.097681</td>\n",
       "    </tr>\n",
       "    <tr>\n",
       "      <th>fullbathcnt</th>\n",
       "      <td>0.978971</td>\n",
       "      <td>0.589462</td>\n",
       "      <td>0.565473</td>\n",
       "      <td>0.777631</td>\n",
       "      <td>0.081357</td>\n",
       "      <td>1.000000</td>\n",
       "      <td>0.042867</td>\n",
       "      <td>0.000112</td>\n",
       "      <td>0.018100</td>\n",
       "      <td>0.053024</td>\n",
       "      <td>...</td>\n",
       "      <td>0.575977</td>\n",
       "      <td>0.403224</td>\n",
       "      <td>0.413329</td>\n",
       "      <td>0.020780</td>\n",
       "      <td>-0.510227</td>\n",
       "      <td>-0.049774</td>\n",
       "      <td>0.018100</td>\n",
       "      <td>0.028547</td>\n",
       "      <td>0.179162</td>\n",
       "      <td>-0.668172</td>\n",
       "    </tr>\n",
       "    <tr>\n",
       "      <th>latitude</th>\n",
       "      <td>-0.016331</td>\n",
       "      <td>0.018889</td>\n",
       "      <td>0.184546</td>\n",
       "      <td>-0.046927</td>\n",
       "      <td>-0.065461</td>\n",
       "      <td>0.042867</td>\n",
       "      <td>1.000000</td>\n",
       "      <td>-0.540240</td>\n",
       "      <td>0.055444</td>\n",
       "      <td>-0.289952</td>\n",
       "      <td>...</td>\n",
       "      <td>-0.030112</td>\n",
       "      <td>-0.176548</td>\n",
       "      <td>-0.130714</td>\n",
       "      <td>-0.021793</td>\n",
       "      <td>-0.056661</td>\n",
       "      <td>0.125231</td>\n",
       "      <td>0.055444</td>\n",
       "      <td>-0.174146</td>\n",
       "      <td>-0.285584</td>\n",
       "      <td>0.015361</td>\n",
       "    </tr>\n",
       "    <tr>\n",
       "      <th>longitude</th>\n",
       "      <td>0.029158</td>\n",
       "      <td>0.007504</td>\n",
       "      <td>-0.073117</td>\n",
       "      <td>0.025888</td>\n",
       "      <td>-0.381245</td>\n",
       "      <td>0.000112</td>\n",
       "      <td>-0.540240</td>\n",
       "      <td>1.000000</td>\n",
       "      <td>-0.013733</td>\n",
       "      <td>-0.020430</td>\n",
       "      <td>...</td>\n",
       "      <td>-0.053417</td>\n",
       "      <td>-0.013329</td>\n",
       "      <td>-0.024640</td>\n",
       "      <td>0.030431</td>\n",
       "      <td>-0.100845</td>\n",
       "      <td>0.005559</td>\n",
       "      <td>-0.013733</td>\n",
       "      <td>-0.038402</td>\n",
       "      <td>0.077910</td>\n",
       "      <td>-0.024365</td>\n",
       "    </tr>\n",
       "    <tr>\n",
       "      <th>lotsizesquarefeet</th>\n",
       "      <td>0.015594</td>\n",
       "      <td>-0.002383</td>\n",
       "      <td>0.030377</td>\n",
       "      <td>0.029640</td>\n",
       "      <td>-0.007154</td>\n",
       "      <td>0.018100</td>\n",
       "      <td>0.055444</td>\n",
       "      <td>-0.013733</td>\n",
       "      <td>1.000000</td>\n",
       "      <td>-0.011789</td>\n",
       "      <td>...</td>\n",
       "      <td>0.024579</td>\n",
       "      <td>0.008877</td>\n",
       "      <td>0.008118</td>\n",
       "      <td>0.012430</td>\n",
       "      <td>-0.030105</td>\n",
       "      <td>-0.002196</td>\n",
       "      <td>1.000000</td>\n",
       "      <td>-0.008904</td>\n",
       "      <td>-0.039122</td>\n",
       "      <td>-0.021688</td>\n",
       "    </tr>\n",
       "    <tr>\n",
       "      <th>roomcnt</th>\n",
       "      <td>0.119313</td>\n",
       "      <td>0.196376</td>\n",
       "      <td>-0.046097</td>\n",
       "      <td>0.127964</td>\n",
       "      <td>0.743087</td>\n",
       "      <td>0.053024</td>\n",
       "      <td>-0.289952</td>\n",
       "      <td>-0.020430</td>\n",
       "      <td>-0.011789</td>\n",
       "      <td>1.000000</td>\n",
       "      <td>...</td>\n",
       "      <td>-0.022069</td>\n",
       "      <td>0.024164</td>\n",
       "      <td>-0.023083</td>\n",
       "      <td>0.015011</td>\n",
       "      <td>-0.198811</td>\n",
       "      <td>-0.111146</td>\n",
       "      <td>-0.011789</td>\n",
       "      <td>-0.026727</td>\n",
       "      <td>0.043539</td>\n",
       "      <td>-0.052657</td>\n",
       "    </tr>\n",
       "    <tr>\n",
       "      <th>unitcnt</th>\n",
       "      <td>NaN</td>\n",
       "      <td>NaN</td>\n",
       "      <td>NaN</td>\n",
       "      <td>NaN</td>\n",
       "      <td>NaN</td>\n",
       "      <td>NaN</td>\n",
       "      <td>NaN</td>\n",
       "      <td>NaN</td>\n",
       "      <td>NaN</td>\n",
       "      <td>NaN</td>\n",
       "      <td>...</td>\n",
       "      <td>NaN</td>\n",
       "      <td>NaN</td>\n",
       "      <td>NaN</td>\n",
       "      <td>NaN</td>\n",
       "      <td>NaN</td>\n",
       "      <td>NaN</td>\n",
       "      <td>NaN</td>\n",
       "      <td>NaN</td>\n",
       "      <td>NaN</td>\n",
       "      <td>NaN</td>\n",
       "    </tr>\n",
       "    <tr>\n",
       "      <th>yearbuilt</th>\n",
       "      <td>0.562665</td>\n",
       "      <td>0.380906</td>\n",
       "      <td>0.369413</td>\n",
       "      <td>0.486019</td>\n",
       "      <td>0.305765</td>\n",
       "      <td>0.510227</td>\n",
       "      <td>0.056661</td>\n",
       "      <td>0.100845</td>\n",
       "      <td>0.030105</td>\n",
       "      <td>0.198811</td>\n",
       "      <td>...</td>\n",
       "      <td>0.407321</td>\n",
       "      <td>0.172762</td>\n",
       "      <td>0.185597</td>\n",
       "      <td>0.013257</td>\n",
       "      <td>-1.000000</td>\n",
       "      <td>-0.019011</td>\n",
       "      <td>0.030105</td>\n",
       "      <td>-0.070686</td>\n",
       "      <td>0.165858</td>\n",
       "      <td>-0.384497</td>\n",
       "    </tr>\n",
       "    <tr>\n",
       "      <th>structuretaxvaluedollarcnt</th>\n",
       "      <td>0.604623</td>\n",
       "      <td>0.335254</td>\n",
       "      <td>0.364279</td>\n",
       "      <td>0.710090</td>\n",
       "      <td>0.125464</td>\n",
       "      <td>0.575977</td>\n",
       "      <td>-0.030112</td>\n",
       "      <td>-0.053417</td>\n",
       "      <td>0.024579</td>\n",
       "      <td>-0.022069</td>\n",
       "      <td>...</td>\n",
       "      <td>1.000000</td>\n",
       "      <td>0.778540</td>\n",
       "      <td>0.782917</td>\n",
       "      <td>-0.008667</td>\n",
       "      <td>-0.407321</td>\n",
       "      <td>-0.114923</td>\n",
       "      <td>0.024579</td>\n",
       "      <td>0.451737</td>\n",
       "      <td>0.451612</td>\n",
       "      <td>-0.354875</td>\n",
       "    </tr>\n",
       "    <tr>\n",
       "      <th>home_value</th>\n",
       "      <td>0.425775</td>\n",
       "      <td>0.190629</td>\n",
       "      <td>0.277152</td>\n",
       "      <td>0.515796</td>\n",
       "      <td>0.061153</td>\n",
       "      <td>0.403224</td>\n",
       "      <td>-0.176548</td>\n",
       "      <td>-0.013329</td>\n",
       "      <td>0.008877</td>\n",
       "      <td>0.024164</td>\n",
       "      <td>...</td>\n",
       "      <td>0.778540</td>\n",
       "      <td>1.000000</td>\n",
       "      <td>0.981508</td>\n",
       "      <td>-0.014291</td>\n",
       "      <td>-0.172762</td>\n",
       "      <td>-0.151944</td>\n",
       "      <td>0.008877</td>\n",
       "      <td>0.786875</td>\n",
       "      <td>0.667096</td>\n",
       "      <td>-0.271609</td>\n",
       "    </tr>\n",
       "    <tr>\n",
       "      <th>taxamount</th>\n",
       "      <td>0.431182</td>\n",
       "      <td>0.195118</td>\n",
       "      <td>0.294188</td>\n",
       "      <td>0.518985</td>\n",
       "      <td>0.025024</td>\n",
       "      <td>0.413329</td>\n",
       "      <td>-0.130714</td>\n",
       "      <td>-0.024640</td>\n",
       "      <td>0.008118</td>\n",
       "      <td>-0.023083</td>\n",
       "      <td>...</td>\n",
       "      <td>0.782917</td>\n",
       "      <td>0.981508</td>\n",
       "      <td>1.000000</td>\n",
       "      <td>-0.015160</td>\n",
       "      <td>-0.185597</td>\n",
       "      <td>-0.083615</td>\n",
       "      <td>0.008118</td>\n",
       "      <td>0.767859</td>\n",
       "      <td>0.644685</td>\n",
       "      <td>-0.272116</td>\n",
       "    </tr>\n",
       "    <tr>\n",
       "      <th>logerror</th>\n",
       "      <td>0.023609</td>\n",
       "      <td>0.031455</td>\n",
       "      <td>-0.012662</td>\n",
       "      <td>0.028839</td>\n",
       "      <td>0.004583</td>\n",
       "      <td>0.020780</td>\n",
       "      <td>-0.021793</td>\n",
       "      <td>0.030431</td>\n",
       "      <td>0.012430</td>\n",
       "      <td>0.015011</td>\n",
       "      <td>...</td>\n",
       "      <td>-0.008667</td>\n",
       "      <td>-0.014291</td>\n",
       "      <td>-0.015160</td>\n",
       "      <td>1.000000</td>\n",
       "      <td>-0.013257</td>\n",
       "      <td>0.007131</td>\n",
       "      <td>0.012430</td>\n",
       "      <td>-0.039243</td>\n",
       "      <td>-0.017947</td>\n",
       "      <td>-0.001665</td>\n",
       "    </tr>\n",
       "    <tr>\n",
       "      <th>age</th>\n",
       "      <td>-0.562665</td>\n",
       "      <td>-0.380906</td>\n",
       "      <td>-0.369413</td>\n",
       "      <td>-0.486019</td>\n",
       "      <td>-0.305765</td>\n",
       "      <td>-0.510227</td>\n",
       "      <td>-0.056661</td>\n",
       "      <td>-0.100845</td>\n",
       "      <td>-0.030105</td>\n",
       "      <td>-0.198811</td>\n",
       "      <td>...</td>\n",
       "      <td>-0.407321</td>\n",
       "      <td>-0.172762</td>\n",
       "      <td>-0.185597</td>\n",
       "      <td>-0.013257</td>\n",
       "      <td>1.000000</td>\n",
       "      <td>0.019011</td>\n",
       "      <td>-0.030105</td>\n",
       "      <td>0.070686</td>\n",
       "      <td>-0.165858</td>\n",
       "      <td>0.384497</td>\n",
       "    </tr>\n",
       "    <tr>\n",
       "      <th>taxrate</th>\n",
       "      <td>-0.064004</td>\n",
       "      <td>-0.040952</td>\n",
       "      <td>-0.030227</td>\n",
       "      <td>-0.069366</td>\n",
       "      <td>-0.109609</td>\n",
       "      <td>-0.049774</td>\n",
       "      <td>0.125231</td>\n",
       "      <td>0.005559</td>\n",
       "      <td>-0.002196</td>\n",
       "      <td>-0.111146</td>\n",
       "      <td>...</td>\n",
       "      <td>-0.114923</td>\n",
       "      <td>-0.151944</td>\n",
       "      <td>-0.083615</td>\n",
       "      <td>0.007131</td>\n",
       "      <td>0.019011</td>\n",
       "      <td>1.000000</td>\n",
       "      <td>-0.002196</td>\n",
       "      <td>-0.165964</td>\n",
       "      <td>-0.126966</td>\n",
       "      <td>0.055614</td>\n",
       "    </tr>\n",
       "    <tr>\n",
       "      <th>acres</th>\n",
       "      <td>0.015594</td>\n",
       "      <td>-0.002383</td>\n",
       "      <td>0.030377</td>\n",
       "      <td>0.029640</td>\n",
       "      <td>-0.007154</td>\n",
       "      <td>0.018100</td>\n",
       "      <td>0.055444</td>\n",
       "      <td>-0.013733</td>\n",
       "      <td>1.000000</td>\n",
       "      <td>-0.011789</td>\n",
       "      <td>...</td>\n",
       "      <td>0.024579</td>\n",
       "      <td>0.008877</td>\n",
       "      <td>0.008118</td>\n",
       "      <td>0.012430</td>\n",
       "      <td>-0.030105</td>\n",
       "      <td>-0.002196</td>\n",
       "      <td>1.000000</td>\n",
       "      <td>-0.008904</td>\n",
       "      <td>-0.039122</td>\n",
       "      <td>-0.021688</td>\n",
       "    </tr>\n",
       "    <tr>\n",
       "      <th>price_per_sqft</th>\n",
       "      <td>0.035496</td>\n",
       "      <td>-0.113319</td>\n",
       "      <td>0.059915</td>\n",
       "      <td>0.032310</td>\n",
       "      <td>-0.005193</td>\n",
       "      <td>0.028547</td>\n",
       "      <td>-0.174146</td>\n",
       "      <td>-0.038402</td>\n",
       "      <td>-0.008904</td>\n",
       "      <td>-0.026727</td>\n",
       "      <td>...</td>\n",
       "      <td>0.451737</td>\n",
       "      <td>0.786875</td>\n",
       "      <td>0.767859</td>\n",
       "      <td>-0.039243</td>\n",
       "      <td>0.070686</td>\n",
       "      <td>-0.165964</td>\n",
       "      <td>-0.008904</td>\n",
       "      <td>1.000000</td>\n",
       "      <td>0.656079</td>\n",
       "      <td>-0.097242</td>\n",
       "    </tr>\n",
       "    <tr>\n",
       "      <th>lotsize_per_sqft</th>\n",
       "      <td>0.225420</td>\n",
       "      <td>0.018396</td>\n",
       "      <td>0.110288</td>\n",
       "      <td>0.202058</td>\n",
       "      <td>0.070395</td>\n",
       "      <td>0.179162</td>\n",
       "      <td>-0.285584</td>\n",
       "      <td>0.077910</td>\n",
       "      <td>-0.039122</td>\n",
       "      <td>0.043539</td>\n",
       "      <td>...</td>\n",
       "      <td>0.451612</td>\n",
       "      <td>0.667096</td>\n",
       "      <td>0.644685</td>\n",
       "      <td>-0.017947</td>\n",
       "      <td>-0.165858</td>\n",
       "      <td>-0.126966</td>\n",
       "      <td>-0.039122</td>\n",
       "      <td>0.656079</td>\n",
       "      <td>1.000000</td>\n",
       "      <td>-0.205960</td>\n",
       "    </tr>\n",
       "    <tr>\n",
       "      <th>bed_bath_ratio</th>\n",
       "      <td>-0.682809</td>\n",
       "      <td>0.061149</td>\n",
       "      <td>-0.444048</td>\n",
       "      <td>-0.410590</td>\n",
       "      <td>-0.097681</td>\n",
       "      <td>-0.668172</td>\n",
       "      <td>0.015361</td>\n",
       "      <td>-0.024365</td>\n",
       "      <td>-0.021688</td>\n",
       "      <td>-0.052657</td>\n",
       "      <td>...</td>\n",
       "      <td>-0.354875</td>\n",
       "      <td>-0.271609</td>\n",
       "      <td>-0.272116</td>\n",
       "      <td>-0.001665</td>\n",
       "      <td>0.384497</td>\n",
       "      <td>0.055614</td>\n",
       "      <td>-0.021688</td>\n",
       "      <td>-0.097242</td>\n",
       "      <td>-0.205960</td>\n",
       "      <td>1.000000</td>\n",
       "    </tr>\n",
       "  </tbody>\n",
       "</table>\n",
       "<p>22 rows × 22 columns</p>\n",
       "</div>"
      ],
      "text/plain": [
       "                            bathroomcnt  bedroomcnt  buildingqualitytypeid  \\\n",
       "bathroomcnt                    1.000000    0.599332               0.543201   \n",
       "bedroomcnt                     0.599332    1.000000               0.329855   \n",
       "buildingqualitytypeid          0.543201    0.329855               1.000000   \n",
       "sqft                           0.807946    0.599616               0.473765   \n",
       "fips                           0.154347    0.154581              -0.043583   \n",
       "fullbathcnt                    0.978971    0.589462               0.565473   \n",
       "latitude                      -0.016331    0.018889               0.184546   \n",
       "longitude                      0.029158    0.007504              -0.073117   \n",
       "lotsizesquarefeet              0.015594   -0.002383               0.030377   \n",
       "roomcnt                        0.119313    0.196376              -0.046097   \n",
       "unitcnt                             NaN         NaN                    NaN   \n",
       "yearbuilt                      0.562665    0.380906               0.369413   \n",
       "structuretaxvaluedollarcnt     0.604623    0.335254               0.364279   \n",
       "home_value                     0.425775    0.190629               0.277152   \n",
       "taxamount                      0.431182    0.195118               0.294188   \n",
       "logerror                       0.023609    0.031455              -0.012662   \n",
       "age                           -0.562665   -0.380906              -0.369413   \n",
       "taxrate                       -0.064004   -0.040952              -0.030227   \n",
       "acres                          0.015594   -0.002383               0.030377   \n",
       "price_per_sqft                 0.035496   -0.113319               0.059915   \n",
       "lotsize_per_sqft               0.225420    0.018396               0.110288   \n",
       "bed_bath_ratio                -0.682809    0.061149              -0.444048   \n",
       "\n",
       "                                sqft      fips  fullbathcnt  latitude  \\\n",
       "bathroomcnt                 0.807946  0.154347     0.978971 -0.016331   \n",
       "bedroomcnt                  0.599616  0.154581     0.589462  0.018889   \n",
       "buildingqualitytypeid       0.473765 -0.043583     0.565473  0.184546   \n",
       "sqft                        1.000000  0.151637     0.777631 -0.046927   \n",
       "fips                        0.151637  1.000000     0.081357 -0.065461   \n",
       "fullbathcnt                 0.777631  0.081357     1.000000  0.042867   \n",
       "latitude                   -0.046927 -0.065461     0.042867  1.000000   \n",
       "longitude                   0.025888 -0.381245     0.000112 -0.540240   \n",
       "lotsizesquarefeet           0.029640 -0.007154     0.018100  0.055444   \n",
       "roomcnt                     0.127964  0.743087     0.053024 -0.289952   \n",
       "unitcnt                          NaN       NaN          NaN       NaN   \n",
       "yearbuilt                   0.486019  0.305765     0.510227  0.056661   \n",
       "structuretaxvaluedollarcnt  0.710090  0.125464     0.575977 -0.030112   \n",
       "home_value                  0.515796  0.061153     0.403224 -0.176548   \n",
       "taxamount                   0.518985  0.025024     0.413329 -0.130714   \n",
       "logerror                    0.028839  0.004583     0.020780 -0.021793   \n",
       "age                        -0.486019 -0.305765    -0.510227 -0.056661   \n",
       "taxrate                    -0.069366 -0.109609    -0.049774  0.125231   \n",
       "acres                       0.029640 -0.007154     0.018100  0.055444   \n",
       "price_per_sqft              0.032310 -0.005193     0.028547 -0.174146   \n",
       "lotsize_per_sqft            0.202058  0.070395     0.179162 -0.285584   \n",
       "bed_bath_ratio             -0.410590 -0.097681    -0.668172  0.015361   \n",
       "\n",
       "                            longitude  lotsizesquarefeet   roomcnt  ...  \\\n",
       "bathroomcnt                  0.029158           0.015594  0.119313  ...   \n",
       "bedroomcnt                   0.007504          -0.002383  0.196376  ...   \n",
       "buildingqualitytypeid       -0.073117           0.030377 -0.046097  ...   \n",
       "sqft                         0.025888           0.029640  0.127964  ...   \n",
       "fips                        -0.381245          -0.007154  0.743087  ...   \n",
       "fullbathcnt                  0.000112           0.018100  0.053024  ...   \n",
       "latitude                    -0.540240           0.055444 -0.289952  ...   \n",
       "longitude                    1.000000          -0.013733 -0.020430  ...   \n",
       "lotsizesquarefeet           -0.013733           1.000000 -0.011789  ...   \n",
       "roomcnt                     -0.020430          -0.011789  1.000000  ...   \n",
       "unitcnt                           NaN                NaN       NaN  ...   \n",
       "yearbuilt                    0.100845           0.030105  0.198811  ...   \n",
       "structuretaxvaluedollarcnt  -0.053417           0.024579 -0.022069  ...   \n",
       "home_value                  -0.013329           0.008877  0.024164  ...   \n",
       "taxamount                   -0.024640           0.008118 -0.023083  ...   \n",
       "logerror                     0.030431           0.012430  0.015011  ...   \n",
       "age                         -0.100845          -0.030105 -0.198811  ...   \n",
       "taxrate                      0.005559          -0.002196 -0.111146  ...   \n",
       "acres                       -0.013733           1.000000 -0.011789  ...   \n",
       "price_per_sqft              -0.038402          -0.008904 -0.026727  ...   \n",
       "lotsize_per_sqft             0.077910          -0.039122  0.043539  ...   \n",
       "bed_bath_ratio              -0.024365          -0.021688 -0.052657  ...   \n",
       "\n",
       "                            structuretaxvaluedollarcnt  home_value  taxamount  \\\n",
       "bathroomcnt                                   0.604623    0.425775   0.431182   \n",
       "bedroomcnt                                    0.335254    0.190629   0.195118   \n",
       "buildingqualitytypeid                         0.364279    0.277152   0.294188   \n",
       "sqft                                          0.710090    0.515796   0.518985   \n",
       "fips                                          0.125464    0.061153   0.025024   \n",
       "fullbathcnt                                   0.575977    0.403224   0.413329   \n",
       "latitude                                     -0.030112   -0.176548  -0.130714   \n",
       "longitude                                    -0.053417   -0.013329  -0.024640   \n",
       "lotsizesquarefeet                             0.024579    0.008877   0.008118   \n",
       "roomcnt                                      -0.022069    0.024164  -0.023083   \n",
       "unitcnt                                            NaN         NaN        NaN   \n",
       "yearbuilt                                     0.407321    0.172762   0.185597   \n",
       "structuretaxvaluedollarcnt                    1.000000    0.778540   0.782917   \n",
       "home_value                                    0.778540    1.000000   0.981508   \n",
       "taxamount                                     0.782917    0.981508   1.000000   \n",
       "logerror                                     -0.008667   -0.014291  -0.015160   \n",
       "age                                          -0.407321   -0.172762  -0.185597   \n",
       "taxrate                                      -0.114923   -0.151944  -0.083615   \n",
       "acres                                         0.024579    0.008877   0.008118   \n",
       "price_per_sqft                                0.451737    0.786875   0.767859   \n",
       "lotsize_per_sqft                              0.451612    0.667096   0.644685   \n",
       "bed_bath_ratio                               -0.354875   -0.271609  -0.272116   \n",
       "\n",
       "                            logerror       age   taxrate     acres  \\\n",
       "bathroomcnt                 0.023609 -0.562665 -0.064004  0.015594   \n",
       "bedroomcnt                  0.031455 -0.380906 -0.040952 -0.002383   \n",
       "buildingqualitytypeid      -0.012662 -0.369413 -0.030227  0.030377   \n",
       "sqft                        0.028839 -0.486019 -0.069366  0.029640   \n",
       "fips                        0.004583 -0.305765 -0.109609 -0.007154   \n",
       "fullbathcnt                 0.020780 -0.510227 -0.049774  0.018100   \n",
       "latitude                   -0.021793 -0.056661  0.125231  0.055444   \n",
       "longitude                   0.030431 -0.100845  0.005559 -0.013733   \n",
       "lotsizesquarefeet           0.012430 -0.030105 -0.002196  1.000000   \n",
       "roomcnt                     0.015011 -0.198811 -0.111146 -0.011789   \n",
       "unitcnt                          NaN       NaN       NaN       NaN   \n",
       "yearbuilt                   0.013257 -1.000000 -0.019011  0.030105   \n",
       "structuretaxvaluedollarcnt -0.008667 -0.407321 -0.114923  0.024579   \n",
       "home_value                 -0.014291 -0.172762 -0.151944  0.008877   \n",
       "taxamount                  -0.015160 -0.185597 -0.083615  0.008118   \n",
       "logerror                    1.000000 -0.013257  0.007131  0.012430   \n",
       "age                        -0.013257  1.000000  0.019011 -0.030105   \n",
       "taxrate                     0.007131  0.019011  1.000000 -0.002196   \n",
       "acres                       0.012430 -0.030105 -0.002196  1.000000   \n",
       "price_per_sqft             -0.039243  0.070686 -0.165964 -0.008904   \n",
       "lotsize_per_sqft           -0.017947 -0.165858 -0.126966 -0.039122   \n",
       "bed_bath_ratio             -0.001665  0.384497  0.055614 -0.021688   \n",
       "\n",
       "                            price_per_sqft  lotsize_per_sqft  bed_bath_ratio  \n",
       "bathroomcnt                       0.035496          0.225420       -0.682809  \n",
       "bedroomcnt                       -0.113319          0.018396        0.061149  \n",
       "buildingqualitytypeid             0.059915          0.110288       -0.444048  \n",
       "sqft                              0.032310          0.202058       -0.410590  \n",
       "fips                             -0.005193          0.070395       -0.097681  \n",
       "fullbathcnt                       0.028547          0.179162       -0.668172  \n",
       "latitude                         -0.174146         -0.285584        0.015361  \n",
       "longitude                        -0.038402          0.077910       -0.024365  \n",
       "lotsizesquarefeet                -0.008904         -0.039122       -0.021688  \n",
       "roomcnt                          -0.026727          0.043539       -0.052657  \n",
       "unitcnt                                NaN               NaN             NaN  \n",
       "yearbuilt                        -0.070686          0.165858       -0.384497  \n",
       "structuretaxvaluedollarcnt        0.451737          0.451612       -0.354875  \n",
       "home_value                        0.786875          0.667096       -0.271609  \n",
       "taxamount                         0.767859          0.644685       -0.272116  \n",
       "logerror                         -0.039243         -0.017947       -0.001665  \n",
       "age                               0.070686         -0.165858        0.384497  \n",
       "taxrate                          -0.165964         -0.126966        0.055614  \n",
       "acres                            -0.008904         -0.039122       -0.021688  \n",
       "price_per_sqft                    1.000000          0.656079       -0.097242  \n",
       "lotsize_per_sqft                  0.656079          1.000000       -0.205960  \n",
       "bed_bath_ratio                   -0.097242         -0.205960        1.000000  \n",
       "\n",
       "[22 rows x 22 columns]"
      ]
     },
     "execution_count": 27,
     "metadata": {},
     "output_type": "execute_result"
    }
   ],
   "source": [
    "train.corr()"
   ]
  },
  {
   "cell_type": "code",
   "execution_count": 28,
   "metadata": {},
   "outputs": [
    {
     "data": {
      "image/png": "[encoded data removed]",
      "text/plain": [
       "<Figure size 864x432 with 1 Axes>"
      ]
     },
     "metadata": {
      "needs_background": "light"
     },
     "output_type": "display_data"
    }
   ],
   "source": [
    "plt.figure(figsize=(12,6))\n",
    "sns.scatterplot(data=train, x='lotsize_per_sqft', y='logerror')\n",
    "plt.title('Is there a relationship between lot size per sqft and logerror?')\n",
    "plt.show()"
   ]
  },
  {
   "cell_type": "markdown",
   "metadata": {},
   "source": [
    "- There appears to be a lot of error on the differnt lot sized up to 300 or so before leveling off."
   ]
  },
  {
   "cell_type": "code",
   "execution_count": 29,
   "metadata": {},
   "outputs": [
    {
     "data": {
      "image/png": "[encoded data removed]",
      "text/plain": [
       "<Figure size 864x432 with 1 Axes>"
      ]
     },
     "metadata": {
      "needs_background": "light"
     },
     "output_type": "display_data"
    }
   ],
   "source": [
    "plt.figure(figsize = (12,6))\n",
    "sns.regplot(data=train, x='bathroomcnt', y='logerror')\n",
    "plt.title('Is there a relationship between bathroom count and logerror?')\n",
    "plt.show()\n"
   ]
  },
  {
   "cell_type": "code",
   "execution_count": 30,
   "metadata": {},
   "outputs": [
    {
     "data": {
      "image/png": "[encoded data removed]",
      "text/plain": [
       "<Figure size 864x432 with 1 Axes>"
      ]
     },
     "metadata": {
      "needs_background": "light"
     },
     "output_type": "display_data"
    }
   ],
   "source": [
    "plt.figure(figsize = (12,6))\n",
    "sns.boxplot(data=train, x='bedroomcnt', y='logerror')\n",
    "plt.title('Is there a relationship between bedroom count and logerror?')\n",
    "plt.show()\n"
   ]
  },
  {
   "cell_type": "code",
   "execution_count": 31,
   "metadata": {},
   "outputs": [
    {
     "data": {
      "image/png": "[encoded data removed]",
      "text/plain": [
       "<Figure size 432x432 with 3 Axes>"
      ]
     },
     "metadata": {
      "needs_background": "light"
     },
     "output_type": "display_data"
    }
   ],
   "source": [
    "sns.jointplot(x=\"bedroomcnt\", y=\"logerror\", data=train)\n",
    "plt.xlabel(\"bedrooms\")\n",
    "plt.ylabel(\"Zestimate error\")\n",
    "plt.show()"
   ]
  },
  {
   "cell_type": "code",
   "execution_count": 32,
   "metadata": {},
   "outputs": [
    {
     "data": {
      "image/png": "[encoded data removed]",
      "text/plain": [
       "<Figure size 432x432 with 3 Axes>"
      ]
     },
     "metadata": {
      "needs_background": "light"
     },
     "output_type": "display_data"
    }
   ],
   "source": [
    "sns.jointplot(data=train, x='lotsize_per_sqft', y='logerror')\n",
    "plt.title('Is there a relationship between lot size per sqft and logerror?')\n",
    "plt.show()"
   ]
  },
  {
   "cell_type": "code",
   "execution_count": 33,
   "metadata": {},
   "outputs": [
    {
     "data": {
      "text/plain": [
       "<matplotlib.axes._subplots.AxesSubplot at 0x7feb9640b710>"
      ]
     },
     "execution_count": 33,
     "metadata": {},
     "output_type": "execute_result"
    },
    {
     "data": {
      "image/png": "[encoded data removed]",
      "text/plain": [
       "<Figure size 432x288 with 1 Axes>"
      ]
     },
     "metadata": {
      "needs_background": "light"
     },
     "output_type": "display_data"
    }
   ],
   "source": [
    "sns.scatterplot(x='age', y='logerror', \n",
    "                data=train, \n",
    "                color='green')"
   ]
  },
  {
   "cell_type": "code",
   "execution_count": 34,
   "metadata": {},
   "outputs": [
    {
     "data": {
      "text/plain": [
       "<seaborn.axisgrid.JointGrid at 0x7feb959d8b10>"
      ]
     },
     "execution_count": 34,
     "metadata": {},
     "output_type": "execute_result"
    },
    {
     "data": {
      "image/png": "[encoded data removed]",
      "text/plain": [
       "<Figure size 432x432 with 3 Axes>"
      ]
     },
     "metadata": {
      "needs_background": "light"
     },
     "output_type": "display_data"
    }
   ],
   "source": [
    "sns.jointplot(x='buildingqualitytypeid', y='logerror', \n",
    "                data=train, \n",
    "                color='green'\n",
    "               )"
   ]
  },
  {
   "cell_type": "code",
   "execution_count": 35,
   "metadata": {},
   "outputs": [
    {
     "data": {
      "text/plain": [
       "<matplotlib.axes._subplots.AxesSubplot at 0x7feb96438550>"
      ]
     },
     "execution_count": 35,
     "metadata": {},
     "output_type": "execute_result"
    },
    {
     "data": {
      "image/png": "[encoded data removed]",
      "text/plain": [
       "<Figure size 432x288 with 1 Axes>"
      ]
     },
     "metadata": {
      "needs_background": "light"
     },
     "output_type": "display_data"
    }
   ],
   "source": [
    "sns.scatterplot(x='buildingqualitytypeid', y='lotsize_per_sqft', \n",
    "                data=train, \n",
    "                color='green')"
   ]
  },
  {
   "cell_type": "code",
   "execution_count": 36,
   "metadata": {},
   "outputs": [
    {
     "data": {
      "image/png": "[encoded data removed]",
      "text/plain": [
       "<Figure size 432x432 with 3 Axes>"
      ]
     },
     "metadata": {
      "needs_background": "light"
     },
     "output_type": "display_data"
    }
   ],
   "source": [
    "sns.jointplot(data=train, x='lotsize_per_sqft', y='price_per_sqft')\n",
    "plt.title('Is there a relationship between lot size per sqft and price per sqft?')\n",
    "plt.show()"
   ]
  },
  {
   "cell_type": "code",
   "execution_count": null,
   "metadata": {},
   "outputs": [],
   "source": []
  },
  {
   "cell_type": "code",
   "execution_count": 37,
   "metadata": {},
   "outputs": [
    {
     "data": {
      "text/html": [
       "<div>\n",
       "<style scoped>\n",
       "    .dataframe tbody tr th:only-of-type {\n",
       "        vertical-align: middle;\n",
       "    }\n",
       "\n",
       "    .dataframe tbody tr th {\n",
       "        vertical-align: top;\n",
       "    }\n",
       "\n",
       "    .dataframe thead th {\n",
       "        text-align: right;\n",
       "    }\n",
       "</style>\n",
       "<table border=\"1\" class=\"dataframe\">\n",
       "  <thead>\n",
       "    <tr style=\"text-align: right;\">\n",
       "      <th></th>\n",
       "      <th>1616</th>\n",
       "      <th>33322</th>\n",
       "      <th>44530</th>\n",
       "      <th>32756</th>\n",
       "      <th>67546</th>\n",
       "    </tr>\n",
       "  </thead>\n",
       "  <tbody>\n",
       "    <tr>\n",
       "      <th>bathroomcnt</th>\n",
       "      <td>1</td>\n",
       "      <td>3</td>\n",
       "      <td>4.5</td>\n",
       "      <td>3</td>\n",
       "      <td>3</td>\n",
       "    </tr>\n",
       "    <tr>\n",
       "      <th>bedroomcnt</th>\n",
       "      <td>2</td>\n",
       "      <td>4</td>\n",
       "      <td>5</td>\n",
       "      <td>4</td>\n",
       "      <td>2</td>\n",
       "    </tr>\n",
       "    <tr>\n",
       "      <th>buildingqualitytypeid</th>\n",
       "      <td>6</td>\n",
       "      <td>7</td>\n",
       "      <td>6</td>\n",
       "      <td>6</td>\n",
       "      <td>7</td>\n",
       "    </tr>\n",
       "    <tr>\n",
       "      <th>sqft</th>\n",
       "      <td>906</td>\n",
       "      <td>2548</td>\n",
       "      <td>4733</td>\n",
       "      <td>2776</td>\n",
       "      <td>2083</td>\n",
       "    </tr>\n",
       "    <tr>\n",
       "      <th>fips</th>\n",
       "      <td>6059</td>\n",
       "      <td>6037</td>\n",
       "      <td>6059</td>\n",
       "      <td>6059</td>\n",
       "      <td>6037</td>\n",
       "    </tr>\n",
       "    <tr>\n",
       "      <th>fullbathcnt</th>\n",
       "      <td>1</td>\n",
       "      <td>3</td>\n",
       "      <td>4</td>\n",
       "      <td>3</td>\n",
       "      <td>3</td>\n",
       "    </tr>\n",
       "    <tr>\n",
       "      <th>latitude</th>\n",
       "      <td>3.38536e+07</td>\n",
       "      <td>3.44671e+07</td>\n",
       "      <td>3.35811e+07</td>\n",
       "      <td>3.37002e+07</td>\n",
       "      <td>3.40441e+07</td>\n",
       "    </tr>\n",
       "    <tr>\n",
       "      <th>longitude</th>\n",
       "      <td>-1.18013e+08</td>\n",
       "      <td>-1.18203e+08</td>\n",
       "      <td>-1.17691e+08</td>\n",
       "      <td>-1.17726e+08</td>\n",
       "      <td>-1.1839e+08</td>\n",
       "    </tr>\n",
       "    <tr>\n",
       "      <th>lotsizesquarefeet</th>\n",
       "      <td>4536</td>\n",
       "      <td>107586</td>\n",
       "      <td>29600</td>\n",
       "      <td>6933</td>\n",
       "      <td>6379</td>\n",
       "    </tr>\n",
       "    <tr>\n",
       "      <th>propertycountylandusecode</th>\n",
       "      <td>122</td>\n",
       "      <td>0101</td>\n",
       "      <td>122</td>\n",
       "      <td>1</td>\n",
       "      <td>0100</td>\n",
       "    </tr>\n",
       "    <tr>\n",
       "      <th>roomcnt</th>\n",
       "      <td>4</td>\n",
       "      <td>0</td>\n",
       "      <td>9</td>\n",
       "      <td>0</td>\n",
       "      <td>0</td>\n",
       "    </tr>\n",
       "    <tr>\n",
       "      <th>unitcnt</th>\n",
       "      <td>1</td>\n",
       "      <td>1</td>\n",
       "      <td>1</td>\n",
       "      <td>1</td>\n",
       "      <td>1</td>\n",
       "    </tr>\n",
       "    <tr>\n",
       "      <th>yearbuilt</th>\n",
       "      <td>1960</td>\n",
       "      <td>1982</td>\n",
       "      <td>2007</td>\n",
       "      <td>2014</td>\n",
       "      <td>1947</td>\n",
       "    </tr>\n",
       "    <tr>\n",
       "      <th>structuretaxvaluedollarcnt</th>\n",
       "      <td>44428</td>\n",
       "      <td>329392</td>\n",
       "      <td>878598</td>\n",
       "      <td>378264</td>\n",
       "      <td>154667</td>\n",
       "    </tr>\n",
       "    <tr>\n",
       "      <th>home_value</th>\n",
       "      <td>280779</td>\n",
       "      <td>423748</td>\n",
       "      <td>2.04471e+06</td>\n",
       "      <td>1.08956e+06</td>\n",
       "      <td>758666</td>\n",
       "    </tr>\n",
       "    <tr>\n",
       "      <th>taxamount</th>\n",
       "      <td>3361.64</td>\n",
       "      <td>5051.99</td>\n",
       "      <td>21014.9</td>\n",
       "      <td>17815.3</td>\n",
       "      <td>9308.98</td>\n",
       "    </tr>\n",
       "    <tr>\n",
       "      <th>logerror</th>\n",
       "      <td>0.0349235</td>\n",
       "      <td>0.031105</td>\n",
       "      <td>-0.0415239</td>\n",
       "      <td>0.0399215</td>\n",
       "      <td>-0.0550178</td>\n",
       "    </tr>\n",
       "    <tr>\n",
       "      <th>transactiondate</th>\n",
       "      <td>2017-01-09</td>\n",
       "      <td>2017-05-05</td>\n",
       "      <td>2017-06-08</td>\n",
       "      <td>2017-05-04</td>\n",
       "      <td>2017-08-17</td>\n",
       "    </tr>\n",
       "    <tr>\n",
       "      <th>heatingorsystemdesc</th>\n",
       "      <td>Floor/Wall</td>\n",
       "      <td>Central</td>\n",
       "      <td>none</td>\n",
       "      <td>none</td>\n",
       "      <td>Central</td>\n",
       "    </tr>\n",
       "    <tr>\n",
       "      <th>county</th>\n",
       "      <td>Orange County</td>\n",
       "      <td>Los Angeles County</td>\n",
       "      <td>Orange County</td>\n",
       "      <td>Orange County</td>\n",
       "      <td>Los Angeles County</td>\n",
       "    </tr>\n",
       "    <tr>\n",
       "      <th>age</th>\n",
       "      <td>57</td>\n",
       "      <td>35</td>\n",
       "      <td>10</td>\n",
       "      <td>3</td>\n",
       "      <td>70</td>\n",
       "    </tr>\n",
       "    <tr>\n",
       "      <th>taxrate</th>\n",
       "      <td>0.0119725</td>\n",
       "      <td>0.0119222</td>\n",
       "      <td>0.0102777</td>\n",
       "      <td>0.0163509</td>\n",
       "      <td>0.0122702</td>\n",
       "    </tr>\n",
       "    <tr>\n",
       "      <th>acres</th>\n",
       "      <td>0.104132</td>\n",
       "      <td>2.46983</td>\n",
       "      <td>0.679522</td>\n",
       "      <td>0.15916</td>\n",
       "      <td>0.146442</td>\n",
       "    </tr>\n",
       "    <tr>\n",
       "      <th>price_per_sqft</th>\n",
       "      <td>309.911</td>\n",
       "      <td>166.306</td>\n",
       "      <td>432.012</td>\n",
       "      <td>392.491</td>\n",
       "      <td>364.218</td>\n",
       "    </tr>\n",
       "    <tr>\n",
       "      <th>lotsize_per_sqft</th>\n",
       "      <td>61.9001</td>\n",
       "      <td>3.93869</td>\n",
       "      <td>69.0781</td>\n",
       "      <td>157.155</td>\n",
       "      <td>118.932</td>\n",
       "    </tr>\n",
       "    <tr>\n",
       "      <th>bed_bath_ratio</th>\n",
       "      <td>2</td>\n",
       "      <td>1.33333</td>\n",
       "      <td>1.11111</td>\n",
       "      <td>1.33333</td>\n",
       "      <td>0.666667</td>\n",
       "    </tr>\n",
       "    <tr>\n",
       "      <th>binned_price_per_sqft</th>\n",
       "      <td>small</td>\n",
       "      <td>small</td>\n",
       "      <td>small</td>\n",
       "      <td>small</td>\n",
       "      <td>small</td>\n",
       "    </tr>\n",
       "    <tr>\n",
       "      <th>binned_bed_bath_ratio</th>\n",
       "      <td>large</td>\n",
       "      <td>small</td>\n",
       "      <td>small</td>\n",
       "      <td>small</td>\n",
       "      <td>small</td>\n",
       "    </tr>\n",
       "  </tbody>\n",
       "</table>\n",
       "</div>"
      ],
      "text/plain": [
       "                                    1616                33322          44530  \\\n",
       "bathroomcnt                             1                   3            4.5   \n",
       "bedroomcnt                              2                   4              5   \n",
       "buildingqualitytypeid                   6                   7              6   \n",
       "sqft                                  906                2548           4733   \n",
       "fips                                 6059                6037           6059   \n",
       "fullbathcnt                             1                   3              4   \n",
       "latitude                      3.38536e+07         3.44671e+07    3.35811e+07   \n",
       "longitude                    -1.18013e+08        -1.18203e+08   -1.17691e+08   \n",
       "lotsizesquarefeet                    4536              107586          29600   \n",
       "propertycountylandusecode             122                0101            122   \n",
       "roomcnt                                 4                   0              9   \n",
       "unitcnt                                 1                   1              1   \n",
       "yearbuilt                            1960                1982           2007   \n",
       "structuretaxvaluedollarcnt          44428              329392         878598   \n",
       "home_value                         280779              423748    2.04471e+06   \n",
       "taxamount                         3361.64             5051.99        21014.9   \n",
       "logerror                        0.0349235            0.031105     -0.0415239   \n",
       "transactiondate                2017-01-09          2017-05-05     2017-06-08   \n",
       "heatingorsystemdesc            Floor/Wall             Central           none   \n",
       "county                      Orange County  Los Angeles County  Orange County   \n",
       "age                                    57                  35             10   \n",
       "taxrate                         0.0119725           0.0119222      0.0102777   \n",
       "acres                            0.104132             2.46983       0.679522   \n",
       "price_per_sqft                    309.911             166.306        432.012   \n",
       "lotsize_per_sqft                  61.9001             3.93869        69.0781   \n",
       "bed_bath_ratio                          2             1.33333        1.11111   \n",
       "binned_price_per_sqft               small               small          small   \n",
       "binned_bed_bath_ratio               large               small          small   \n",
       "\n",
       "                                    32756               67546  \n",
       "bathroomcnt                             3                   3  \n",
       "bedroomcnt                              4                   2  \n",
       "buildingqualitytypeid                   6                   7  \n",
       "sqft                                 2776                2083  \n",
       "fips                                 6059                6037  \n",
       "fullbathcnt                             3                   3  \n",
       "latitude                      3.37002e+07         3.40441e+07  \n",
       "longitude                    -1.17726e+08         -1.1839e+08  \n",
       "lotsizesquarefeet                    6933                6379  \n",
       "propertycountylandusecode               1                0100  \n",
       "roomcnt                                 0                   0  \n",
       "unitcnt                                 1                   1  \n",
       "yearbuilt                            2014                1947  \n",
       "structuretaxvaluedollarcnt         378264              154667  \n",
       "home_value                    1.08956e+06              758666  \n",
       "taxamount                         17815.3             9308.98  \n",
       "logerror                        0.0399215          -0.0550178  \n",
       "transactiondate                2017-05-04          2017-08-17  \n",
       "heatingorsystemdesc                  none             Central  \n",
       "county                      Orange County  Los Angeles County  \n",
       "age                                     3                  70  \n",
       "taxrate                         0.0163509           0.0122702  \n",
       "acres                             0.15916            0.146442  \n",
       "price_per_sqft                    392.491             364.218  \n",
       "lotsize_per_sqft                  157.155             118.932  \n",
       "bed_bath_ratio                    1.33333            0.666667  \n",
       "binned_price_per_sqft               small               small  \n",
       "binned_bed_bath_ratio               small               small  "
      ]
     },
     "execution_count": 37,
     "metadata": {},
     "output_type": "execute_result"
    }
   ],
   "source": [
    "train.head().T"
   ]
  },
  {
   "cell_type": "markdown",
   "metadata": {},
   "source": [
    "- May look into this via hyp test"
   ]
  },
  {
   "cell_type": "markdown",
   "metadata": {},
   "source": [
    "### Making my X_train, Y_train etc variables"
   ]
  },
  {
   "cell_type": "code",
   "execution_count": 38,
   "metadata": {},
   "outputs": [],
   "source": [
    " X_train, y_train, X_validate, y_validate, X_test, y_test = w.X_train_select(train, validate, test, target_var = 'logerror')"
   ]
  },
  {
   "cell_type": "code",
   "execution_count": 39,
   "metadata": {},
   "outputs": [
    {
     "name": "stdout",
     "output_type": "stream",
     "text": [
      "<class 'pandas.core.frame.DataFrame'>\n",
      "Int64Index: 28133 entries, 1616 to 32584\n",
      "Data columns (total 28 columns):\n",
      " #   Column                      Non-Null Count  Dtype   \n",
      "---  ------                      --------------  -----   \n",
      " 0   bathroomcnt                 28133 non-null  float64 \n",
      " 1   bedroomcnt                  28133 non-null  float64 \n",
      " 2   buildingqualitytypeid       28133 non-null  float64 \n",
      " 3   sqft                        28133 non-null  float64 \n",
      " 4   fips                        28133 non-null  float64 \n",
      " 5   fullbathcnt                 28133 non-null  float64 \n",
      " 6   latitude                    28133 non-null  float64 \n",
      " 7   longitude                   28133 non-null  float64 \n",
      " 8   lotsizesquarefeet           28133 non-null  float64 \n",
      " 9   propertycountylandusecode   28133 non-null  object  \n",
      " 10  roomcnt                     28133 non-null  float64 \n",
      " 11  unitcnt                     28133 non-null  float64 \n",
      " 12  yearbuilt                   28133 non-null  float64 \n",
      " 13  structuretaxvaluedollarcnt  28133 non-null  float64 \n",
      " 14  home_value                  28133 non-null  float64 \n",
      " 15  taxamount                   28133 non-null  float64 \n",
      " 16  logerror                    28133 non-null  float64 \n",
      " 17  transactiondate             28133 non-null  object  \n",
      " 18  heatingorsystemdesc         28133 non-null  object  \n",
      " 19  county                      28133 non-null  object  \n",
      " 20  age                         28133 non-null  float64 \n",
      " 21  taxrate                     28133 non-null  float64 \n",
      " 22  acres                       28133 non-null  float64 \n",
      " 23  price_per_sqft              28133 non-null  float64 \n",
      " 24  lotsize_per_sqft            28133 non-null  float64 \n",
      " 25  bed_bath_ratio              28133 non-null  float64 \n",
      " 26  binned_price_per_sqft       28133 non-null  category\n",
      " 27  binned_bed_bath_ratio       28133 non-null  category\n",
      "dtypes: category(2), float64(22), object(4)\n",
      "memory usage: 7.1+ MB\n"
     ]
    }
   ],
   "source": [
    "train.info()\n"
   ]
  },
  {
   "cell_type": "code",
   "execution_count": 40,
   "metadata": {},
   "outputs": [],
   "source": [
    "def rfe_ranker(train):\n",
    "    '''\n",
    "    Uses Recursive Feature Elimination (RFE) to rank the given features in order of their usefulness in\n",
    "    predicting logerror with a linear regression model.\n",
    "    '''\n",
    "    # creating linear regression object\n",
    "    lm = LinearRegression()\n",
    "\n",
    "    # fitting linear regression model to features \n",
    "    lm.fit(train.drop(columns=['county','bathroomcnt','fullbathcnt','bedroomcnt','unitcnt','taxrate', 'logerror','propertycountylandusecode','heatingorsystemdesc', 'binned_price_per_sqft', 'binned_bed_bath_ratio', 'transactiondate']), train['logerror'])\n",
    "\n",
    "    # creating recursive feature elimination object and specifying to rank 5 of the best features\n",
    "    rfe = RFE(lm, 5)\n",
    "\n",
    "    # using rfe object to transform features \n",
    "    x_rfe = rfe.fit_transform(train.drop(columns=['county','bathroomcnt','fullbathcnt','bedroomcnt','unitcnt','taxrate', 'logerror','propertycountylandusecode','heatingorsystemdesc', 'binned_price_per_sqft', 'binned_bed_bath_ratio','transactiondate']), train['logerror'])\n",
    "\n",
    "    feature_mask = rfe.support_\n",
    "\n",
    "    # creating train df for rfe object \n",
    "    rfe_train = train.drop(columns=['county','bathroomcnt','fullbathcnt','bedroomcnt','unitcnt','taxrate', 'logerror','propertycountylandusecode','heatingorsystemdesc', 'binned_price_per_sqft', 'binned_bed_bath_ratio', 'transactiondate'])\n",
    "\n",
    "    # creating list of the top features per rfe\n",
    "    rfe_features = rfe_train.loc[:,feature_mask].columns.tolist()\n",
    "\n",
    "    # creating ranked list \n",
    "    feature_ranks = rfe.ranking_\n",
    "\n",
    "    # creating list of feature names\n",
    "    feature_names = rfe_train.columns.tolist()\n",
    "\n",
    "    # create df that contains all features and their ranks\n",
    "    rfe_ranks_df = pd.DataFrame({'Feature': feature_names, 'Rank': feature_ranks})\n",
    "\n",
    "    # return df sorted by rank\n",
    "    return rfe_ranks_df.sort_values('Rank')"
   ]
  },
  {
   "cell_type": "code",
   "execution_count": 41,
   "metadata": {},
   "outputs": [
    {
     "data": {
      "text/html": [
       "<div>\n",
       "<style scoped>\n",
       "    .dataframe tbody tr th:only-of-type {\n",
       "        vertical-align: middle;\n",
       "    }\n",
       "\n",
       "    .dataframe tbody tr th {\n",
       "        vertical-align: top;\n",
       "    }\n",
       "\n",
       "    .dataframe thead th {\n",
       "        text-align: right;\n",
       "    }\n",
       "</style>\n",
       "<table border=\"1\" class=\"dataframe\">\n",
       "  <thead>\n",
       "    <tr style=\"text-align: right;\">\n",
       "      <th></th>\n",
       "      <th>Feature</th>\n",
       "      <th>Rank</th>\n",
       "    </tr>\n",
       "  </thead>\n",
       "  <tbody>\n",
       "    <tr>\n",
       "      <th>0</th>\n",
       "      <td>buildingqualitytypeid</td>\n",
       "      <td>1</td>\n",
       "    </tr>\n",
       "    <tr>\n",
       "      <th>6</th>\n",
       "      <td>roomcnt</td>\n",
       "      <td>1</td>\n",
       "    </tr>\n",
       "    <tr>\n",
       "      <th>7</th>\n",
       "      <td>yearbuilt</td>\n",
       "      <td>1</td>\n",
       "    </tr>\n",
       "    <tr>\n",
       "      <th>11</th>\n",
       "      <td>age</td>\n",
       "      <td>1</td>\n",
       "    </tr>\n",
       "    <tr>\n",
       "      <th>15</th>\n",
       "      <td>bed_bath_ratio</td>\n",
       "      <td>1</td>\n",
       "    </tr>\n",
       "    <tr>\n",
       "      <th>2</th>\n",
       "      <td>fips</td>\n",
       "      <td>2</td>\n",
       "    </tr>\n",
       "    <tr>\n",
       "      <th>13</th>\n",
       "      <td>price_per_sqft</td>\n",
       "      <td>3</td>\n",
       "    </tr>\n",
       "    <tr>\n",
       "      <th>1</th>\n",
       "      <td>sqft</td>\n",
       "      <td>4</td>\n",
       "    </tr>\n",
       "    <tr>\n",
       "      <th>14</th>\n",
       "      <td>lotsize_per_sqft</td>\n",
       "      <td>5</td>\n",
       "    </tr>\n",
       "    <tr>\n",
       "      <th>10</th>\n",
       "      <td>taxamount</td>\n",
       "      <td>6</td>\n",
       "    </tr>\n",
       "    <tr>\n",
       "      <th>8</th>\n",
       "      <td>structuretaxvaluedollarcnt</td>\n",
       "      <td>7</td>\n",
       "    </tr>\n",
       "    <tr>\n",
       "      <th>5</th>\n",
       "      <td>lotsizesquarefeet</td>\n",
       "      <td>8</td>\n",
       "    </tr>\n",
       "    <tr>\n",
       "      <th>9</th>\n",
       "      <td>home_value</td>\n",
       "      <td>9</td>\n",
       "    </tr>\n",
       "    <tr>\n",
       "      <th>4</th>\n",
       "      <td>longitude</td>\n",
       "      <td>10</td>\n",
       "    </tr>\n",
       "    <tr>\n",
       "      <th>3</th>\n",
       "      <td>latitude</td>\n",
       "      <td>11</td>\n",
       "    </tr>\n",
       "    <tr>\n",
       "      <th>12</th>\n",
       "      <td>acres</td>\n",
       "      <td>12</td>\n",
       "    </tr>\n",
       "  </tbody>\n",
       "</table>\n",
       "</div>"
      ],
      "text/plain": [
       "                       Feature  Rank\n",
       "0        buildingqualitytypeid     1\n",
       "6                      roomcnt     1\n",
       "7                    yearbuilt     1\n",
       "11                         age     1\n",
       "15              bed_bath_ratio     1\n",
       "2                         fips     2\n",
       "13              price_per_sqft     3\n",
       "1                         sqft     4\n",
       "14            lotsize_per_sqft     5\n",
       "10                   taxamount     6\n",
       "8   structuretaxvaluedollarcnt     7\n",
       "5            lotsizesquarefeet     8\n",
       "9                   home_value     9\n",
       "4                    longitude    10\n",
       "3                     latitude    11\n",
       "12                       acres    12"
      ]
     },
     "execution_count": 41,
     "metadata": {},
     "output_type": "execute_result"
    }
   ],
   "source": [
    "rfe_ranker(train)"
   ]
  },
  {
   "cell_type": "markdown",
   "metadata": {},
   "source": [
    "### After editing my variables to rank I will look more into building quality type id, age, bed bath ratio, and price_per sqft"
   ]
  },
  {
   "cell_type": "markdown",
   "metadata": {},
   "source": [
    "### Setting my scaler I want to use along with the variables I want to scale"
   ]
  },
  {
   "cell_type": "code",
   "execution_count": 42,
   "metadata": {},
   "outputs": [],
   "source": [
    "scaler = StandardScaler()\n",
    "columns_to_scale = train.drop(columns=['county',\"logerror\",'propertycountylandusecode','transactiondate','heatingorsystemdesc','binned_price_per_sqft','binned_bed_bath_ratio']).columns.tolist()\n",
    "X_train_scaled, X_validate_scaled, X_test_scaled = w.add_scaled_columns(X_train, X_validate, X_test, scaler, columns_to_scale)"
   ]
  },
  {
   "cell_type": "code",
   "execution_count": 43,
   "metadata": {},
   "outputs": [
    {
     "data": {
      "text/html": [
       "<div>\n",
       "<style scoped>\n",
       "    .dataframe tbody tr th:only-of-type {\n",
       "        vertical-align: middle;\n",
       "    }\n",
       "\n",
       "    .dataframe tbody tr th {\n",
       "        vertical-align: top;\n",
       "    }\n",
       "\n",
       "    .dataframe thead th {\n",
       "        text-align: right;\n",
       "    }\n",
       "</style>\n",
       "<table border=\"1\" class=\"dataframe\">\n",
       "  <thead>\n",
       "    <tr style=\"text-align: right;\">\n",
       "      <th></th>\n",
       "      <th>bathroomcnt</th>\n",
       "      <th>bedroomcnt</th>\n",
       "      <th>buildingqualitytypeid</th>\n",
       "      <th>sqft</th>\n",
       "      <th>fips</th>\n",
       "      <th>fullbathcnt</th>\n",
       "      <th>latitude</th>\n",
       "      <th>longitude</th>\n",
       "      <th>lotsizesquarefeet</th>\n",
       "      <th>propertycountylandusecode</th>\n",
       "      <th>...</th>\n",
       "      <th>yearbuilt_scaled</th>\n",
       "      <th>structuretaxvaluedollarcnt_scaled</th>\n",
       "      <th>home_value_scaled</th>\n",
       "      <th>taxamount_scaled</th>\n",
       "      <th>age_scaled</th>\n",
       "      <th>taxrate_scaled</th>\n",
       "      <th>acres_scaled</th>\n",
       "      <th>price_per_sqft_scaled</th>\n",
       "      <th>lotsize_per_sqft_scaled</th>\n",
       "      <th>bed_bath_ratio_scaled</th>\n",
       "    </tr>\n",
       "  </thead>\n",
       "  <tbody>\n",
       "    <tr>\n",
       "      <th>1616</th>\n",
       "      <td>1.0</td>\n",
       "      <td>2.0</td>\n",
       "      <td>6.0</td>\n",
       "      <td>906.0</td>\n",
       "      <td>6059.0</td>\n",
       "      <td>1.0</td>\n",
       "      <td>33853594.0</td>\n",
       "      <td>-118013182.0</td>\n",
       "      <td>4536.0</td>\n",
       "      <td>122</td>\n",
       "      <td>...</td>\n",
       "      <td>-0.122722</td>\n",
       "      <td>-0.804889</td>\n",
       "      <td>-0.398294</td>\n",
       "      <td>-0.440179</td>\n",
       "      <td>0.122722</td>\n",
       "      <td>-0.189102</td>\n",
       "      <td>-0.069464</td>\n",
       "      <td>0.271193</td>\n",
       "      <td>-0.114096</td>\n",
       "      <td>0.670994</td>\n",
       "    </tr>\n",
       "    <tr>\n",
       "      <th>33322</th>\n",
       "      <td>3.0</td>\n",
       "      <td>4.0</td>\n",
       "      <td>7.0</td>\n",
       "      <td>2548.0</td>\n",
       "      <td>6037.0</td>\n",
       "      <td>3.0</td>\n",
       "      <td>34467094.0</td>\n",
       "      <td>-118202886.0</td>\n",
       "      <td>107586.0</td>\n",
       "      <td>0101</td>\n",
       "      <td>...</td>\n",
       "      <td>0.852547</td>\n",
       "      <td>1.012244</td>\n",
       "      <td>-0.089560</td>\n",
       "      <td>-0.122922</td>\n",
       "      <td>-0.852547</td>\n",
       "      <td>-0.195544</td>\n",
       "      <td>1.126773</td>\n",
       "      <td>-0.424269</td>\n",
       "      <td>-0.785366</td>\n",
       "      <td>-0.508476</td>\n",
       "    </tr>\n",
       "    <tr>\n",
       "      <th>44530</th>\n",
       "      <td>4.5</td>\n",
       "      <td>5.0</td>\n",
       "      <td>6.0</td>\n",
       "      <td>4733.0</td>\n",
       "      <td>6059.0</td>\n",
       "      <td>4.0</td>\n",
       "      <td>33581133.0</td>\n",
       "      <td>-117690741.0</td>\n",
       "      <td>29600.0</td>\n",
       "      <td>122</td>\n",
       "      <td>...</td>\n",
       "      <td>1.960807</td>\n",
       "      <td>4.514371</td>\n",
       "      <td>3.410824</td>\n",
       "      <td>2.873108</td>\n",
       "      <td>-1.960807</td>\n",
       "      <td>-0.405778</td>\n",
       "      <td>0.221487</td>\n",
       "      <td>0.862518</td>\n",
       "      <td>-0.030965</td>\n",
       "      <td>-0.901632</td>\n",
       "    </tr>\n",
       "    <tr>\n",
       "      <th>32756</th>\n",
       "      <td>3.0</td>\n",
       "      <td>4.0</td>\n",
       "      <td>6.0</td>\n",
       "      <td>2776.0</td>\n",
       "      <td>6059.0</td>\n",
       "      <td>3.0</td>\n",
       "      <td>33700191.0</td>\n",
       "      <td>-117725630.0</td>\n",
       "      <td>6933.0</td>\n",
       "      <td>1</td>\n",
       "      <td>...</td>\n",
       "      <td>2.271120</td>\n",
       "      <td>1.323886</td>\n",
       "      <td>1.348215</td>\n",
       "      <td>2.272577</td>\n",
       "      <td>-2.271120</td>\n",
       "      <td>0.370641</td>\n",
       "      <td>-0.041639</td>\n",
       "      <td>0.671124</td>\n",
       "      <td>0.989083</td>\n",
       "      <td>-0.508476</td>\n",
       "    </tr>\n",
       "    <tr>\n",
       "      <th>67546</th>\n",
       "      <td>3.0</td>\n",
       "      <td>2.0</td>\n",
       "      <td>7.0</td>\n",
       "      <td>2083.0</td>\n",
       "      <td>6037.0</td>\n",
       "      <td>3.0</td>\n",
       "      <td>34044109.0</td>\n",
       "      <td>-118390335.0</td>\n",
       "      <td>6379.0</td>\n",
       "      <td>0100</td>\n",
       "      <td>...</td>\n",
       "      <td>-0.699017</td>\n",
       "      <td>-0.101927</td>\n",
       "      <td>0.633677</td>\n",
       "      <td>0.676059</td>\n",
       "      <td>0.699017</td>\n",
       "      <td>-0.151050</td>\n",
       "      <td>-0.048070</td>\n",
       "      <td>0.534198</td>\n",
       "      <td>0.546407</td>\n",
       "      <td>-1.687945</td>\n",
       "    </tr>\n",
       "    <tr>\n",
       "      <th>...</th>\n",
       "      <td>...</td>\n",
       "      <td>...</td>\n",
       "      <td>...</td>\n",
       "      <td>...</td>\n",
       "      <td>...</td>\n",
       "      <td>...</td>\n",
       "      <td>...</td>\n",
       "      <td>...</td>\n",
       "      <td>...</td>\n",
       "      <td>...</td>\n",
       "      <td>...</td>\n",
       "      <td>...</td>\n",
       "      <td>...</td>\n",
       "      <td>...</td>\n",
       "      <td>...</td>\n",
       "      <td>...</td>\n",
       "      <td>...</td>\n",
       "      <td>...</td>\n",
       "      <td>...</td>\n",
       "      <td>...</td>\n",
       "      <td>...</td>\n",
       "    </tr>\n",
       "    <tr>\n",
       "      <th>2159</th>\n",
       "      <td>2.0</td>\n",
       "      <td>3.0</td>\n",
       "      <td>6.0</td>\n",
       "      <td>1286.0</td>\n",
       "      <td>6059.0</td>\n",
       "      <td>2.0</td>\n",
       "      <td>33902086.0</td>\n",
       "      <td>-117903131.0</td>\n",
       "      <td>10044.0</td>\n",
       "      <td>122</td>\n",
       "      <td>...</td>\n",
       "      <td>-0.122722</td>\n",
       "      <td>-0.603142</td>\n",
       "      <td>-0.427908</td>\n",
       "      <td>-0.463133</td>\n",
       "      <td>0.122722</td>\n",
       "      <td>-0.169049</td>\n",
       "      <td>-0.005525</td>\n",
       "      <td>-0.223943</td>\n",
       "      <td>-0.523040</td>\n",
       "      <td>-0.213608</td>\n",
       "    </tr>\n",
       "    <tr>\n",
       "      <th>51460</th>\n",
       "      <td>1.0</td>\n",
       "      <td>3.0</td>\n",
       "      <td>4.0</td>\n",
       "      <td>1408.0</td>\n",
       "      <td>6037.0</td>\n",
       "      <td>1.0</td>\n",
       "      <td>34098343.0</td>\n",
       "      <td>-117927628.0</td>\n",
       "      <td>5430.0</td>\n",
       "      <td>0100</td>\n",
       "      <td>...</td>\n",
       "      <td>-0.433035</td>\n",
       "      <td>-0.743054</td>\n",
       "      <td>-0.791110</td>\n",
       "      <td>-0.775662</td>\n",
       "      <td>0.433035</td>\n",
       "      <td>0.315706</td>\n",
       "      <td>-0.059086</td>\n",
       "      <td>-0.889594</td>\n",
       "      <td>-0.620101</td>\n",
       "      <td>2.440199</td>\n",
       "    </tr>\n",
       "    <tr>\n",
       "      <th>69123</th>\n",
       "      <td>1.0</td>\n",
       "      <td>2.0</td>\n",
       "      <td>4.0</td>\n",
       "      <td>1266.0</td>\n",
       "      <td>6037.0</td>\n",
       "      <td>1.0</td>\n",
       "      <td>33823405.0</td>\n",
       "      <td>-118125615.0</td>\n",
       "      <td>5995.0</td>\n",
       "      <td>0100</td>\n",
       "      <td>...</td>\n",
       "      <td>-0.654687</td>\n",
       "      <td>-0.419289</td>\n",
       "      <td>0.127997</td>\n",
       "      <td>0.102370</td>\n",
       "      <td>0.654687</td>\n",
       "      <td>-0.195730</td>\n",
       "      <td>-0.052527</td>\n",
       "      <td>0.776707</td>\n",
       "      <td>0.182255</td>\n",
       "      <td>0.670994</td>\n",
       "    </tr>\n",
       "    <tr>\n",
       "      <th>66706</th>\n",
       "      <td>2.0</td>\n",
       "      <td>3.0</td>\n",
       "      <td>6.0</td>\n",
       "      <td>1684.0</td>\n",
       "      <td>6059.0</td>\n",
       "      <td>2.0</td>\n",
       "      <td>33664809.0</td>\n",
       "      <td>-117822654.0</td>\n",
       "      <td>5300.0</td>\n",
       "      <td>122</td>\n",
       "      <td>...</td>\n",
       "      <td>0.098930</td>\n",
       "      <td>-0.437335</td>\n",
       "      <td>0.672514</td>\n",
       "      <td>-0.859843</td>\n",
       "      <td>-0.098930</td>\n",
       "      <td>-1.534407</td>\n",
       "      <td>-0.060595</td>\n",
       "      <td>1.003845</td>\n",
       "      <td>0.866123</td>\n",
       "      <td>-0.213608</td>\n",
       "    </tr>\n",
       "    <tr>\n",
       "      <th>32584</th>\n",
       "      <td>3.0</td>\n",
       "      <td>5.0</td>\n",
       "      <td>7.0</td>\n",
       "      <td>3319.0</td>\n",
       "      <td>6037.0</td>\n",
       "      <td>3.0</td>\n",
       "      <td>34060821.0</td>\n",
       "      <td>-118345533.0</td>\n",
       "      <td>6701.0</td>\n",
       "      <td>0100</td>\n",
       "      <td>...</td>\n",
       "      <td>-1.585625</td>\n",
       "      <td>-0.074858</td>\n",
       "      <td>0.110670</td>\n",
       "      <td>0.123404</td>\n",
       "      <td>1.585625</td>\n",
       "      <td>-0.144312</td>\n",
       "      <td>-0.044332</td>\n",
       "      <td>-0.476067</td>\n",
       "      <td>0.061635</td>\n",
       "      <td>0.081259</td>\n",
       "    </tr>\n",
       "  </tbody>\n",
       "</table>\n",
       "<p>28133 rows × 48 columns</p>\n",
       "</div>"
      ],
      "text/plain": [
       "       bathroomcnt  bedroomcnt  buildingqualitytypeid    sqft    fips  \\\n",
       "1616           1.0         2.0                    6.0   906.0  6059.0   \n",
       "33322          3.0         4.0                    7.0  2548.0  6037.0   \n",
       "44530          4.5         5.0                    6.0  4733.0  6059.0   \n",
       "32756          3.0         4.0                    6.0  2776.0  6059.0   \n",
       "67546          3.0         2.0                    7.0  2083.0  6037.0   \n",
       "...            ...         ...                    ...     ...     ...   \n",
       "2159           2.0         3.0                    6.0  1286.0  6059.0   \n",
       "51460          1.0         3.0                    4.0  1408.0  6037.0   \n",
       "69123          1.0         2.0                    4.0  1266.0  6037.0   \n",
       "66706          2.0         3.0                    6.0  1684.0  6059.0   \n",
       "32584          3.0         5.0                    7.0  3319.0  6037.0   \n",
       "\n",
       "       fullbathcnt    latitude    longitude  lotsizesquarefeet  \\\n",
       "1616           1.0  33853594.0 -118013182.0             4536.0   \n",
       "33322          3.0  34467094.0 -118202886.0           107586.0   \n",
       "44530          4.0  33581133.0 -117690741.0            29600.0   \n",
       "32756          3.0  33700191.0 -117725630.0             6933.0   \n",
       "67546          3.0  34044109.0 -118390335.0             6379.0   \n",
       "...            ...         ...          ...                ...   \n",
       "2159           2.0  33902086.0 -117903131.0            10044.0   \n",
       "51460          1.0  34098343.0 -117927628.0             5430.0   \n",
       "69123          1.0  33823405.0 -118125615.0             5995.0   \n",
       "66706          2.0  33664809.0 -117822654.0             5300.0   \n",
       "32584          3.0  34060821.0 -118345533.0             6701.0   \n",
       "\n",
       "      propertycountylandusecode  ...  yearbuilt_scaled  \\\n",
       "1616                        122  ...         -0.122722   \n",
       "33322                      0101  ...          0.852547   \n",
       "44530                       122  ...          1.960807   \n",
       "32756                         1  ...          2.271120   \n",
       "67546                      0100  ...         -0.699017   \n",
       "...                         ...  ...               ...   \n",
       "2159                        122  ...         -0.122722   \n",
       "51460                      0100  ...         -0.433035   \n",
       "69123                      0100  ...         -0.654687   \n",
       "66706                       122  ...          0.098930   \n",
       "32584                      0100  ...         -1.585625   \n",
       "\n",
       "       structuretaxvaluedollarcnt_scaled  home_value_scaled  taxamount_scaled  \\\n",
       "1616                           -0.804889          -0.398294         -0.440179   \n",
       "33322                           1.012244          -0.089560         -0.122922   \n",
       "44530                           4.514371           3.410824          2.873108   \n",
       "32756                           1.323886           1.348215          2.272577   \n",
       "67546                          -0.101927           0.633677          0.676059   \n",
       "...                                  ...                ...               ...   \n",
       "2159                           -0.603142          -0.427908         -0.463133   \n",
       "51460                          -0.743054          -0.791110         -0.775662   \n",
       "69123                          -0.419289           0.127997          0.102370   \n",
       "66706                          -0.437335           0.672514         -0.859843   \n",
       "32584                          -0.074858           0.110670          0.123404   \n",
       "\n",
       "       age_scaled  taxrate_scaled acres_scaled price_per_sqft_scaled  \\\n",
       "1616     0.122722       -0.189102    -0.069464              0.271193   \n",
       "33322   -0.852547       -0.195544     1.126773             -0.424269   \n",
       "44530   -1.960807       -0.405778     0.221487              0.862518   \n",
       "32756   -2.271120        0.370641    -0.041639              0.671124   \n",
       "67546    0.699017       -0.151050    -0.048070              0.534198   \n",
       "...           ...             ...          ...                   ...   \n",
       "2159     0.122722       -0.169049    -0.005525             -0.223943   \n",
       "51460    0.433035        0.315706    -0.059086             -0.889594   \n",
       "69123    0.654687       -0.195730    -0.052527              0.776707   \n",
       "66706   -0.098930       -1.534407    -0.060595              1.003845   \n",
       "32584    1.585625       -0.144312    -0.044332             -0.476067   \n",
       "\n",
       "      lotsize_per_sqft_scaled  bed_bath_ratio_scaled  \n",
       "1616                -0.114096               0.670994  \n",
       "33322               -0.785366              -0.508476  \n",
       "44530               -0.030965              -0.901632  \n",
       "32756                0.989083              -0.508476  \n",
       "67546                0.546407              -1.687945  \n",
       "...                       ...                    ...  \n",
       "2159                -0.523040              -0.213608  \n",
       "51460               -0.620101               2.440199  \n",
       "69123                0.182255               0.670994  \n",
       "66706                0.866123              -0.213608  \n",
       "32584                0.061635               0.081259  \n",
       "\n",
       "[28133 rows x 48 columns]"
      ]
     },
     "execution_count": 43,
     "metadata": {},
     "output_type": "execute_result"
    }
   ],
   "source": [
    "X_train_scaled"
   ]
  },
  {
   "cell_type": "code",
   "execution_count": 44,
   "metadata": {},
   "outputs": [
    {
     "name": "stdout",
     "output_type": "stream",
     "text": [
      "<class 'pandas.core.frame.DataFrame'>\n",
      "Int64Index: 28133 entries, 1616 to 32584\n",
      "Data columns (total 28 columns):\n",
      " #   Column                      Non-Null Count  Dtype   \n",
      "---  ------                      --------------  -----   \n",
      " 0   bathroomcnt                 28133 non-null  float64 \n",
      " 1   bedroomcnt                  28133 non-null  float64 \n",
      " 2   buildingqualitytypeid       28133 non-null  float64 \n",
      " 3   sqft                        28133 non-null  float64 \n",
      " 4   fips                        28133 non-null  float64 \n",
      " 5   fullbathcnt                 28133 non-null  float64 \n",
      " 6   latitude                    28133 non-null  float64 \n",
      " 7   longitude                   28133 non-null  float64 \n",
      " 8   lotsizesquarefeet           28133 non-null  float64 \n",
      " 9   propertycountylandusecode   28133 non-null  object  \n",
      " 10  roomcnt                     28133 non-null  float64 \n",
      " 11  unitcnt                     28133 non-null  float64 \n",
      " 12  yearbuilt                   28133 non-null  float64 \n",
      " 13  structuretaxvaluedollarcnt  28133 non-null  float64 \n",
      " 14  home_value                  28133 non-null  float64 \n",
      " 15  taxamount                   28133 non-null  float64 \n",
      " 16  logerror                    28133 non-null  float64 \n",
      " 17  transactiondate             28133 non-null  object  \n",
      " 18  heatingorsystemdesc         28133 non-null  object  \n",
      " 19  county                      28133 non-null  object  \n",
      " 20  age                         28133 non-null  float64 \n",
      " 21  taxrate                     28133 non-null  float64 \n",
      " 22  acres                       28133 non-null  float64 \n",
      " 23  price_per_sqft              28133 non-null  float64 \n",
      " 24  lotsize_per_sqft            28133 non-null  float64 \n",
      " 25  bed_bath_ratio              28133 non-null  float64 \n",
      " 26  binned_price_per_sqft       28133 non-null  category\n",
      " 27  binned_bed_bath_ratio       28133 non-null  category\n",
      "dtypes: category(2), float64(22), object(4)\n",
      "memory usage: 7.1+ MB\n"
     ]
    }
   ],
   "source": [
    "train.info()"
   ]
  },
  {
   "cell_type": "code",
   "execution_count": 45,
   "metadata": {},
   "outputs": [
    {
     "name": "stdout",
     "output_type": "stream",
     "text": [
      "<class 'pandas.core.frame.DataFrame'>\n",
      "Int64Index: 12057 entries, 59922 to 1864\n",
      "Data columns (total 28 columns):\n",
      " #   Column                      Non-Null Count  Dtype   \n",
      "---  ------                      --------------  -----   \n",
      " 0   bathroomcnt                 12057 non-null  float64 \n",
      " 1   bedroomcnt                  12057 non-null  float64 \n",
      " 2   buildingqualitytypeid       12057 non-null  float64 \n",
      " 3   sqft                        12057 non-null  float64 \n",
      " 4   fips                        12057 non-null  float64 \n",
      " 5   fullbathcnt                 12057 non-null  float64 \n",
      " 6   latitude                    12057 non-null  float64 \n",
      " 7   longitude                   12057 non-null  float64 \n",
      " 8   lotsizesquarefeet           12057 non-null  float64 \n",
      " 9   propertycountylandusecode   12057 non-null  object  \n",
      " 10  roomcnt                     12057 non-null  float64 \n",
      " 11  unitcnt                     12057 non-null  float64 \n",
      " 12  yearbuilt                   12057 non-null  float64 \n",
      " 13  structuretaxvaluedollarcnt  12057 non-null  float64 \n",
      " 14  home_value                  12057 non-null  float64 \n",
      " 15  taxamount                   12057 non-null  float64 \n",
      " 16  logerror                    12057 non-null  float64 \n",
      " 17  transactiondate             12057 non-null  object  \n",
      " 18  heatingorsystemdesc         12057 non-null  object  \n",
      " 19  county                      12057 non-null  object  \n",
      " 20  age                         12057 non-null  float64 \n",
      " 21  taxrate                     12057 non-null  float64 \n",
      " 22  acres                       12057 non-null  float64 \n",
      " 23  price_per_sqft              12057 non-null  float64 \n",
      " 24  lotsize_per_sqft            12057 non-null  float64 \n",
      " 25  bed_bath_ratio              12057 non-null  float64 \n",
      " 26  binned_price_per_sqft       12054 non-null  category\n",
      " 27  binned_bed_bath_ratio       0 non-null      category\n",
      "dtypes: category(2), float64(22), object(4)\n",
      "memory usage: 2.5+ MB\n"
     ]
    }
   ],
   "source": [
    "validate.info()"
   ]
  },
  {
   "cell_type": "code",
   "execution_count": null,
   "metadata": {},
   "outputs": [],
   "source": []
  },
  {
   "cell_type": "code",
   "execution_count": null,
   "metadata": {},
   "outputs": [],
   "source": []
  },
  {
   "cell_type": "markdown",
   "metadata": {},
   "source": [
    "## Price per square foot, bed bath ratio and age clusters"
   ]
  },
  {
   "cell_type": "code",
   "execution_count": 46,
   "metadata": {},
   "outputs": [
    {
     "name": "stdout",
     "output_type": "stream",
     "text": [
      "     k           sse\n",
      "0    2  6.396196e+08\n",
      "1    3  3.586550e+08\n",
      "2    4  2.331413e+08\n",
      "3    5  1.638732e+08\n",
      "4    6  1.167843e+08\n",
      "5    7  8.946540e+07\n",
      "6    8  6.927983e+07\n",
      "7    9  5.738287e+07\n",
      "8   10  4.958675e+07\n",
      "9   11  4.338685e+07\n",
      "10  12  3.819842e+07\n",
      "11  13  3.424750e+07\n",
      "12  14  3.110272e+07\n",
      "13  15  2.857919e+07\n",
      "14  16  2.652419e+07\n",
      "15  17  2.487846e+07\n",
      "16  18  2.316101e+07\n",
      "17  19  2.177835e+07\n"
     ]
    },
    {
     "data": {
      "image/png": "[encoded data removed]",
      "text/plain": [
       "<Figure size 432x288 with 1 Axes>"
      ]
     },
     "metadata": {
      "needs_background": "light"
     },
     "output_type": "display_data"
    }
   ],
   "source": [
    "home_vars = ['price_per_sqft', 'bed_bath_ratio', 'age']\n",
    "e.elbow_plot(X_train_scaled, cluster_vars = home_vars) "
   ]
  },
  {
   "cell_type": "code",
   "execution_count": 47,
   "metadata": {},
   "outputs": [],
   "source": [
    "#def run_kmeans(k, cluster_vars, cluster_col_name):\n",
    "    # create kmeans object\n",
    "    #kmeans = KMeans(n_clusters = k, random_state = 13)\n",
    "    #kmeans.fit(X_train_scaled[cluster_vars])\n",
    "    # predict and create a dataframe with cluster per observation\n",
    "    #train_clusters = \\\n",
    "        #pd.DataFrame(kmeans.predict(X_train_scaled[cluster_vars]),\n",
    "                              #columns=[cluster_col_name],\n",
    "                              #index=X_train.index)\n",
    "    \n",
    "    #return train_clusters, kmeans"
   ]
  },
  {
   "cell_type": "code",
   "execution_count": 48,
   "metadata": {},
   "outputs": [],
   "source": [
    "train_clusters, kmeans = e.run_kmeans(X_train, X_train_scaled, k=5, \n",
    "                                    cluster_vars = ['price_per_sqft', 'bed_bath_ratio', 'age'], \n",
    "                                    cluster_col_name = 'home_cluster')"
   ]
  },
  {
   "cell_type": "code",
   "execution_count": 49,
   "metadata": {},
   "outputs": [
    {
     "data": {
      "text/plain": [
       "3    11495\n",
       "1    11204\n",
       "0     4488\n",
       "4      861\n",
       "2       85\n",
       "Name: home_cluster, dtype: int64"
      ]
     },
     "execution_count": 49,
     "metadata": {},
     "output_type": "execute_result"
    }
   ],
   "source": [
    "train_clusters.home_cluster.value_counts()"
   ]
  },
  {
   "cell_type": "code",
   "execution_count": 50,
   "metadata": {},
   "outputs": [],
   "source": [
    "centroid_col_names = ['centroid_' + i for i in home_vars]\n",
    "centroid_col_names\n",
    "\n",
    "centroids = pd.DataFrame(kmeans.cluster_centers_, \n",
    "             columns=centroid_col_names).reset_index().rename(columns={'index': 'home_cluster'})"
   ]
  },
  {
   "cell_type": "code",
   "execution_count": 51,
   "metadata": {},
   "outputs": [
    {
     "data": {
      "text/html": [
       "<div>\n",
       "<style scoped>\n",
       "    .dataframe tbody tr th:only-of-type {\n",
       "        vertical-align: middle;\n",
       "    }\n",
       "\n",
       "    .dataframe tbody tr th {\n",
       "        vertical-align: top;\n",
       "    }\n",
       "\n",
       "    .dataframe thead th {\n",
       "        text-align: right;\n",
       "    }\n",
       "</style>\n",
       "<table border=\"1\" class=\"dataframe\">\n",
       "  <thead>\n",
       "    <tr style=\"text-align: right;\">\n",
       "      <th></th>\n",
       "      <th>home_cluster</th>\n",
       "      <th>centroid_price_per_sqft</th>\n",
       "      <th>centroid_bed_bath_ratio</th>\n",
       "      <th>centroid_age</th>\n",
       "    </tr>\n",
       "  </thead>\n",
       "  <tbody>\n",
       "    <tr>\n",
       "      <th>0</th>\n",
       "      <td>0</td>\n",
       "      <td>455.192580</td>\n",
       "      <td>1.588358</td>\n",
       "      <td>58.772849</td>\n",
       "    </tr>\n",
       "    <tr>\n",
       "      <th>1</th>\n",
       "      <td>1</td>\n",
       "      <td>99.404676</td>\n",
       "      <td>1.679673</td>\n",
       "      <td>54.905754</td>\n",
       "    </tr>\n",
       "    <tr>\n",
       "      <th>2</th>\n",
       "      <td>2</td>\n",
       "      <td>2040.855749</td>\n",
       "      <td>1.389869</td>\n",
       "      <td>69.564706</td>\n",
       "    </tr>\n",
       "    <tr>\n",
       "      <th>3</th>\n",
       "      <td>3</td>\n",
       "      <td>267.242681</td>\n",
       "      <td>1.589279</td>\n",
       "      <td>50.856832</td>\n",
       "    </tr>\n",
       "    <tr>\n",
       "      <th>4</th>\n",
       "      <td>4</td>\n",
       "      <td>870.456807</td>\n",
       "      <td>1.463032</td>\n",
       "      <td>65.448316</td>\n",
       "    </tr>\n",
       "  </tbody>\n",
       "</table>\n",
       "</div>"
      ],
      "text/plain": [
       "   home_cluster  centroid_price_per_sqft  centroid_bed_bath_ratio  \\\n",
       "0             0               455.192580                 1.588358   \n",
       "1             1                99.404676                 1.679673   \n",
       "2             2              2040.855749                 1.389869   \n",
       "3             3               267.242681                 1.589279   \n",
       "4             4               870.456807                 1.463032   \n",
       "\n",
       "   centroid_age  \n",
       "0     58.772849  \n",
       "1     54.905754  \n",
       "2     69.564706  \n",
       "3     50.856832  \n",
       "4     65.448316  "
      ]
     },
     "execution_count": 51,
     "metadata": {},
     "output_type": "execute_result"
    }
   ],
   "source": [
    "centroids"
   ]
  },
  {
   "cell_type": "code",
   "execution_count": 52,
   "metadata": {},
   "outputs": [],
   "source": [
    "# concatenate cluster id\n",
    "X_train = pd.concat([X_train, train_clusters], axis=1)\n",
    "\n",
    "# join on clusterid to get centroids\n",
    "X_train = X_train.merge(centroids, how='left', on='home_cluster').\\\n",
    "                set_index(X_train.index)"
   ]
  },
  {
   "cell_type": "code",
   "execution_count": 53,
   "metadata": {},
   "outputs": [],
   "source": [
    "# concatenate cluster id\n",
    "X_train_scaled = pd.concat([X_train_scaled, train_clusters], \n",
    "                           axis=1)\n",
    "\n",
    "# join on clusterid to get centroids\n",
    "X_train_scaled = X_train_scaled.merge(centroids, how='left', on='home_cluster').\\\n",
    "                set_index(X_train.index)"
   ]
  },
  {
   "cell_type": "code",
   "execution_count": null,
   "metadata": {},
   "outputs": [],
   "source": []
  },
  {
   "cell_type": "markdown",
   "metadata": {},
   "source": [
    "## Building quality type id and bed bath ratio clusters (n_clusters = 4)"
   ]
  },
  {
   "cell_type": "code",
   "execution_count": 54,
   "metadata": {},
   "outputs": [],
   "source": [
    "# scale\n",
    "scaler = StandardScaler()\n",
    "# cloumns to scale\n",
    "cols = ['buildingqualitytypeid', 'bed_bath_ratio']\n",
    "# Creating a train scaled copy and an original copy\n",
    "train_scaled = train.copy()\n",
    "# Fit and transform the data The \"fit\" part applies to the feature extractor itself: it determines what \n",
    "# features it will base future transformations on. The \"transform\" part is what takes the data and returns\n",
    "# some transformed data back at you.\n",
    "train_scaled[cols] = scaler.fit_transform(train[cols])"
   ]
  },
  {
   "cell_type": "code",
   "execution_count": 55,
   "metadata": {},
   "outputs": [
    {
     "data": {
      "text/plain": [
       "KMeans(algorithm='auto', copy_x=True, init='k-means++', max_iter=300,\n",
       "       n_clusters=4, n_init=10, n_jobs=None, precompute_distances='auto',\n",
       "       random_state=None, tol=0.0001, verbose=0)"
      ]
     },
     "execution_count": 55,
     "metadata": {},
     "output_type": "execute_result"
    }
   ],
   "source": [
    "# Want to make sure to use the scaled trained data\n",
    "# Choose the features to to cluster on \n",
    "X = train_scaled[['buildingqualitytypeid', 'bed_bath_ratio']]\n",
    "# Choose the KMeans clusters\n",
    "kmeans = KMeans(n_clusters=4)\n",
    "# Create and fit the model\n",
    "kmeans.fit(X)"
   ]
  },
  {
   "cell_type": "code",
   "execution_count": 56,
   "metadata": {},
   "outputs": [
    {
     "data": {
      "text/html": [
       "<div>\n",
       "<style scoped>\n",
       "    .dataframe tbody tr th:only-of-type {\n",
       "        vertical-align: middle;\n",
       "    }\n",
       "\n",
       "    .dataframe tbody tr th {\n",
       "        vertical-align: top;\n",
       "    }\n",
       "\n",
       "    .dataframe thead th {\n",
       "        text-align: right;\n",
       "    }\n",
       "</style>\n",
       "<table border=\"1\" class=\"dataframe\">\n",
       "  <thead>\n",
       "    <tr style=\"text-align: right;\">\n",
       "      <th></th>\n",
       "      <th>buildingqualitytypeid</th>\n",
       "      <th>bed_bath_ratio</th>\n",
       "    </tr>\n",
       "  </thead>\n",
       "  <tbody>\n",
       "    <tr>\n",
       "      <th>0</th>\n",
       "      <td>-0.074282</td>\n",
       "      <td>-0.248752</td>\n",
       "    </tr>\n",
       "    <tr>\n",
       "      <th>1</th>\n",
       "      <td>-1.522542</td>\n",
       "      <td>0.308096</td>\n",
       "    </tr>\n",
       "    <tr>\n",
       "      <th>2</th>\n",
       "      <td>-1.083322</td>\n",
       "      <td>2.496715</td>\n",
       "    </tr>\n",
       "    <tr>\n",
       "      <th>3</th>\n",
       "      <td>1.387147</td>\n",
       "      <td>-0.506845</td>\n",
       "    </tr>\n",
       "  </tbody>\n",
       "</table>\n",
       "</div>"
      ],
      "text/plain": [
       "   buildingqualitytypeid  bed_bath_ratio\n",
       "0              -0.074282       -0.248752\n",
       "1              -1.522542        0.308096\n",
       "2              -1.083322        2.496715\n",
       "3               1.387147       -0.506845"
      ]
     },
     "execution_count": 56,
     "metadata": {},
     "output_type": "execute_result"
    }
   ],
   "source": [
    "pd.DataFrame(kmeans.cluster_centers_, columns=X.columns)"
   ]
  },
  {
   "cell_type": "code",
   "execution_count": 57,
   "metadata": {},
   "outputs": [
    {
     "data": {
      "text/plain": [
       "(28133,)"
      ]
     },
     "execution_count": 57,
     "metadata": {},
     "output_type": "execute_result"
    }
   ],
   "source": [
    "# There are labels_ that were created when running the model. This labels each row of data to a corresponding \n",
    "# cluster\n",
    "kmeans.labels_.shape"
   ]
  },
  {
   "cell_type": "code",
   "execution_count": 58,
   "metadata": {},
   "outputs": [],
   "source": [
    "# Creating a column cluster from the labels_\n",
    "train['cluster'] = kmeans.labels_"
   ]
  },
  {
   "cell_type": "code",
   "execution_count": 59,
   "metadata": {},
   "outputs": [
    {
     "data": {
      "text/html": [
       "<div>\n",
       "<style scoped>\n",
       "    .dataframe tbody tr th:only-of-type {\n",
       "        vertical-align: middle;\n",
       "    }\n",
       "\n",
       "    .dataframe tbody tr th {\n",
       "        vertical-align: top;\n",
       "    }\n",
       "\n",
       "    .dataframe thead th {\n",
       "        text-align: right;\n",
       "    }\n",
       "</style>\n",
       "<table border=\"1\" class=\"dataframe\">\n",
       "  <thead>\n",
       "    <tr style=\"text-align: right;\">\n",
       "      <th></th>\n",
       "      <th>bathroomcnt</th>\n",
       "      <th>bedroomcnt</th>\n",
       "      <th>buildingqualitytypeid</th>\n",
       "      <th>sqft</th>\n",
       "      <th>fips</th>\n",
       "      <th>fullbathcnt</th>\n",
       "      <th>latitude</th>\n",
       "      <th>longitude</th>\n",
       "      <th>lotsizesquarefeet</th>\n",
       "      <th>roomcnt</th>\n",
       "      <th>...</th>\n",
       "      <th>structuretaxvaluedollarcnt</th>\n",
       "      <th>home_value</th>\n",
       "      <th>taxamount</th>\n",
       "      <th>logerror</th>\n",
       "      <th>age</th>\n",
       "      <th>taxrate</th>\n",
       "      <th>acres</th>\n",
       "      <th>price_per_sqft</th>\n",
       "      <th>lotsize_per_sqft</th>\n",
       "      <th>bed_bath_ratio</th>\n",
       "    </tr>\n",
       "    <tr>\n",
       "      <th>cluster</th>\n",
       "      <th></th>\n",
       "      <th></th>\n",
       "      <th></th>\n",
       "      <th></th>\n",
       "      <th></th>\n",
       "      <th></th>\n",
       "      <th></th>\n",
       "      <th></th>\n",
       "      <th></th>\n",
       "      <th></th>\n",
       "      <th></th>\n",
       "      <th></th>\n",
       "      <th></th>\n",
       "      <th></th>\n",
       "      <th></th>\n",
       "      <th></th>\n",
       "      <th></th>\n",
       "      <th></th>\n",
       "      <th></th>\n",
       "      <th></th>\n",
       "      <th></th>\n",
       "    </tr>\n",
       "  </thead>\n",
       "  <tbody>\n",
       "    <tr>\n",
       "      <th>0</th>\n",
       "      <td>2.307810</td>\n",
       "      <td>3.297836</td>\n",
       "      <td>6.001949</td>\n",
       "      <td>1856.677604</td>\n",
       "      <td>6058.302449</td>\n",
       "      <td>2.196154</td>\n",
       "      <td>3.395143e+07</td>\n",
       "      <td>-1.181539e+08</td>\n",
       "      <td>9743.399844</td>\n",
       "      <td>3.311221</td>\n",
       "      <td>...</td>\n",
       "      <td>172651.157365</td>\n",
       "      <td>472788.137678</td>\n",
       "      <td>5626.574411</td>\n",
       "      <td>0.020472</td>\n",
       "      <td>49.623611</td>\n",
       "      <td>0.012782</td>\n",
       "      <td>0.223678</td>\n",
       "      <td>251.267259</td>\n",
       "      <td>79.894204</td>\n",
       "      <td>1.480136</td>\n",
       "    </tr>\n",
       "    <tr>\n",
       "      <th>1</th>\n",
       "      <td>1.410100</td>\n",
       "      <td>2.411765</td>\n",
       "      <td>4.109878</td>\n",
       "      <td>1129.147336</td>\n",
       "      <td>6037.000000</td>\n",
       "      <td>1.410100</td>\n",
       "      <td>3.403703e+07</td>\n",
       "      <td>-1.182122e+08</td>\n",
       "      <td>7156.685905</td>\n",
       "      <td>0.000000</td>\n",
       "      <td>...</td>\n",
       "      <td>84066.994034</td>\n",
       "      <td>277296.990011</td>\n",
       "      <td>3621.589595</td>\n",
       "      <td>0.016490</td>\n",
       "      <td>76.130966</td>\n",
       "      <td>0.014703</td>\n",
       "      <td>0.164295</td>\n",
       "      <td>258.196824</td>\n",
       "      <td>51.405305</td>\n",
       "      <td>1.794881</td>\n",
       "    </tr>\n",
       "    <tr>\n",
       "      <th>2</th>\n",
       "      <td>1.080302</td>\n",
       "      <td>3.235390</td>\n",
       "      <td>4.683694</td>\n",
       "      <td>1258.722517</td>\n",
       "      <td>6042.712301</td>\n",
       "      <td>1.067838</td>\n",
       "      <td>3.401732e+07</td>\n",
       "      <td>-1.181965e+08</td>\n",
       "      <td>7364.218226</td>\n",
       "      <td>0.997139</td>\n",
       "      <td>...</td>\n",
       "      <td>84087.759910</td>\n",
       "      <td>281721.366163</td>\n",
       "      <td>3619.074213</td>\n",
       "      <td>0.016961</td>\n",
       "      <td>72.052309</td>\n",
       "      <td>0.014518</td>\n",
       "      <td>0.169059</td>\n",
       "      <td>227.658881</td>\n",
       "      <td>46.613258</td>\n",
       "      <td>3.031944</td>\n",
       "    </tr>\n",
       "    <tr>\n",
       "      <th>3</th>\n",
       "      <td>2.728890</td>\n",
       "      <td>3.508594</td>\n",
       "      <td>7.911224</td>\n",
       "      <td>2279.195636</td>\n",
       "      <td>6037.000000</td>\n",
       "      <td>2.728890</td>\n",
       "      <td>3.418582e+07</td>\n",
       "      <td>-1.182702e+08</td>\n",
       "      <td>15272.000149</td>\n",
       "      <td>0.000000</td>\n",
       "      <td>...</td>\n",
       "      <td>244345.635555</td>\n",
       "      <td>616148.523091</td>\n",
       "      <td>7778.527163</td>\n",
       "      <td>0.011983</td>\n",
       "      <td>46.518308</td>\n",
       "      <td>0.013929</td>\n",
       "      <td>0.350597</td>\n",
       "      <td>267.291093</td>\n",
       "      <td>73.175131</td>\n",
       "      <td>1.334255</td>\n",
       "    </tr>\n",
       "  </tbody>\n",
       "</table>\n",
       "<p>4 rows × 22 columns</p>\n",
       "</div>"
      ],
      "text/plain": [
       "         bathroomcnt  bedroomcnt  buildingqualitytypeid         sqft  \\\n",
       "cluster                                                                \n",
       "0           2.307810    3.297836               6.001949  1856.677604   \n",
       "1           1.410100    2.411765               4.109878  1129.147336   \n",
       "2           1.080302    3.235390               4.683694  1258.722517   \n",
       "3           2.728890    3.508594               7.911224  2279.195636   \n",
       "\n",
       "                fips  fullbathcnt      latitude     longitude  \\\n",
       "cluster                                                         \n",
       "0        6058.302449     2.196154  3.395143e+07 -1.181539e+08   \n",
       "1        6037.000000     1.410100  3.403703e+07 -1.182122e+08   \n",
       "2        6042.712301     1.067838  3.401732e+07 -1.181965e+08   \n",
       "3        6037.000000     2.728890  3.418582e+07 -1.182702e+08   \n",
       "\n",
       "         lotsizesquarefeet   roomcnt  ...  structuretaxvaluedollarcnt  \\\n",
       "cluster                               ...                               \n",
       "0              9743.399844  3.311221  ...               172651.157365   \n",
       "1              7156.685905  0.000000  ...                84066.994034   \n",
       "2              7364.218226  0.997139  ...                84087.759910   \n",
       "3             15272.000149  0.000000  ...               244345.635555   \n",
       "\n",
       "            home_value    taxamount  logerror        age   taxrate     acres  \\\n",
       "cluster                                                                        \n",
       "0        472788.137678  5626.574411  0.020472  49.623611  0.012782  0.223678   \n",
       "1        277296.990011  3621.589595  0.016490  76.130966  0.014703  0.164295   \n",
       "2        281721.366163  3619.074213  0.016961  72.052309  0.014518  0.169059   \n",
       "3        616148.523091  7778.527163  0.011983  46.518308  0.013929  0.350597   \n",
       "\n",
       "         price_per_sqft  lotsize_per_sqft  bed_bath_ratio  \n",
       "cluster                                                    \n",
       "0            251.267259         79.894204        1.480136  \n",
       "1            258.196824         51.405305        1.794881  \n",
       "2            227.658881         46.613258        3.031944  \n",
       "3            267.291093         73.175131        1.334255  \n",
       "\n",
       "[4 rows x 22 columns]"
      ]
     },
     "execution_count": 59,
     "metadata": {},
     "output_type": "execute_result"
    }
   ],
   "source": [
    "# Centroid of each cluster\n",
    "train.groupby('cluster').mean()"
   ]
  },
  {
   "cell_type": "code",
   "execution_count": 60,
   "metadata": {},
   "outputs": [
    {
     "ename": "KeyError",
     "evalue": "'building quality typeid'",
     "output_type": "error",
     "traceback": [
      "\u001b[0;31m---------------------------------------------------------------------------\u001b[0m",
      "\u001b[0;31mKeyError\u001b[0m                                  Traceback (most recent call last)",
      "\u001b[0;32m/usr/local/anaconda3/lib/python3.7/site-packages/pandas/core/indexes/base.py\u001b[0m in \u001b[0;36mget_loc\u001b[0;34m(self, key, method, tolerance)\u001b[0m\n\u001b[1;32m   2645\u001b[0m             \u001b[0;32mtry\u001b[0m\u001b[0;34m:\u001b[0m\u001b[0;34m\u001b[0m\u001b[0;34m\u001b[0m\u001b[0m\n\u001b[0;32m-> 2646\u001b[0;31m                 \u001b[0;32mreturn\u001b[0m \u001b[0mself\u001b[0m\u001b[0;34m.\u001b[0m\u001b[0m_engine\u001b[0m\u001b[0;34m.\u001b[0m\u001b[0mget_loc\u001b[0m\u001b[0;34m(\u001b[0m\u001b[0mkey\u001b[0m\u001b[0;34m)\u001b[0m\u001b[0;34m\u001b[0m\u001b[0;34m\u001b[0m\u001b[0m\n\u001b[0m\u001b[1;32m   2647\u001b[0m             \u001b[0;32mexcept\u001b[0m \u001b[0mKeyError\u001b[0m\u001b[0;34m:\u001b[0m\u001b[0;34m\u001b[0m\u001b[0;34m\u001b[0m\u001b[0m\n",
      "\u001b[0;32mpandas/_libs/index.pyx\u001b[0m in \u001b[0;36mpandas._libs.index.IndexEngine.get_loc\u001b[0;34m()\u001b[0m\n",
      "\u001b[0;32mpandas/_libs/index.pyx\u001b[0m in \u001b[0;36mpandas._libs.index.IndexEngine.get_loc\u001b[0;34m()\u001b[0m\n",
      "\u001b[0;32mpandas/_libs/hashtable_class_helper.pxi\u001b[0m in \u001b[0;36mpandas._libs.hashtable.PyObjectHashTable.get_item\u001b[0;34m()\u001b[0m\n",
      "\u001b[0;32mpandas/_libs/hashtable_class_helper.pxi\u001b[0m in \u001b[0;36mpandas._libs.hashtable.PyObjectHashTable.get_item\u001b[0;34m()\u001b[0m\n",
      "\u001b[0;31mKeyError\u001b[0m: 'building quality typeid'",
      "\nDuring handling of the above exception, another exception occurred:\n",
      "\u001b[0;31mKeyError\u001b[0m                                  Traceback (most recent call last)",
      "\u001b[0;32m<ipython-input-60-bd14e96f27a0>\u001b[0m in \u001b[0;36m<module>\u001b[0;34m\u001b[0m\n\u001b[1;32m      9\u001b[0m \u001b[0max\u001b[0m\u001b[0;34m.\u001b[0m\u001b[0mset\u001b[0m\u001b[0;34m(\u001b[0m\u001b[0mylabel\u001b[0m\u001b[0;34m=\u001b[0m\u001b[0;34m'Bed Bath Ratio'\u001b[0m\u001b[0;34m,\u001b[0m \u001b[0mxlabel\u001b[0m\u001b[0;34m=\u001b[0m\u001b[0;34m'Building Quality id'\u001b[0m\u001b[0;34m)\u001b[0m\u001b[0;34m\u001b[0m\u001b[0;34m\u001b[0m\u001b[0m\n\u001b[1;32m     10\u001b[0m \u001b[0;31m# Making the X to lay on top of the scatter plot to see the mean() AKA centroid of each cluster\u001b[0m\u001b[0;34m\u001b[0m\u001b[0;34m\u001b[0m\u001b[0;34m\u001b[0m\u001b[0m\n\u001b[0;32m---> 11\u001b[0;31m \u001b[0mtrain\u001b[0m\u001b[0;34m.\u001b[0m\u001b[0mgroupby\u001b[0m\u001b[0;34m(\u001b[0m\u001b[0;34m'cluster'\u001b[0m\u001b[0;34m)\u001b[0m\u001b[0;34m.\u001b[0m\u001b[0mmean\u001b[0m\u001b[0;34m(\u001b[0m\u001b[0;34m)\u001b[0m\u001b[0;34m.\u001b[0m\u001b[0mplot\u001b[0m\u001b[0;34m.\u001b[0m\u001b[0mscatter\u001b[0m\u001b[0;34m(\u001b[0m\u001b[0my\u001b[0m\u001b[0;34m=\u001b[0m\u001b[0;34m'bed bath ratio'\u001b[0m\u001b[0;34m,\u001b[0m \u001b[0mx\u001b[0m\u001b[0;34m=\u001b[0m\u001b[0;34m'building quality typeid'\u001b[0m\u001b[0;34m,\u001b[0m \u001b[0mmarker\u001b[0m\u001b[0;34m=\u001b[0m\u001b[0;34m'x'\u001b[0m\u001b[0;34m,\u001b[0m \u001b[0ms\u001b[0m\u001b[0;34m=\u001b[0m\u001b[0;36m1000\u001b[0m\u001b[0;34m,\u001b[0m \u001b[0max\u001b[0m\u001b[0;34m=\u001b[0m\u001b[0max\u001b[0m\u001b[0;34m,\u001b[0m \u001b[0mc\u001b[0m\u001b[0;34m=\u001b[0m\u001b[0;34m'black'\u001b[0m\u001b[0;34m)\u001b[0m\u001b[0;34m\u001b[0m\u001b[0;34m\u001b[0m\u001b[0m\n\u001b[0m",
      "\u001b[0;32m/usr/local/anaconda3/lib/python3.7/site-packages/pandas/plotting/_core.py\u001b[0m in \u001b[0;36mscatter\u001b[0;34m(self, x, y, s, c, **kwargs)\u001b[0m\n\u001b[1;32m   1497\u001b[0m             ...                       colormap='viridis')\n\u001b[1;32m   1498\u001b[0m         \"\"\"\n\u001b[0;32m-> 1499\u001b[0;31m         \u001b[0;32mreturn\u001b[0m \u001b[0mself\u001b[0m\u001b[0;34m(\u001b[0m\u001b[0mkind\u001b[0m\u001b[0;34m=\u001b[0m\u001b[0;34m\"scatter\"\u001b[0m\u001b[0;34m,\u001b[0m \u001b[0mx\u001b[0m\u001b[0;34m=\u001b[0m\u001b[0mx\u001b[0m\u001b[0;34m,\u001b[0m \u001b[0my\u001b[0m\u001b[0;34m=\u001b[0m\u001b[0my\u001b[0m\u001b[0;34m,\u001b[0m \u001b[0ms\u001b[0m\u001b[0;34m=\u001b[0m\u001b[0ms\u001b[0m\u001b[0;34m,\u001b[0m \u001b[0mc\u001b[0m\u001b[0;34m=\u001b[0m\u001b[0mc\u001b[0m\u001b[0;34m,\u001b[0m \u001b[0;34m**\u001b[0m\u001b[0mkwargs\u001b[0m\u001b[0;34m)\u001b[0m\u001b[0;34m\u001b[0m\u001b[0;34m\u001b[0m\u001b[0m\n\u001b[0m\u001b[1;32m   1500\u001b[0m \u001b[0;34m\u001b[0m\u001b[0m\n\u001b[1;32m   1501\u001b[0m     \u001b[0;32mdef\u001b[0m \u001b[0mhexbin\u001b[0m\u001b[0;34m(\u001b[0m\u001b[0mself\u001b[0m\u001b[0;34m,\u001b[0m \u001b[0mx\u001b[0m\u001b[0;34m,\u001b[0m \u001b[0my\u001b[0m\u001b[0;34m,\u001b[0m \u001b[0mC\u001b[0m\u001b[0;34m=\u001b[0m\u001b[0;32mNone\u001b[0m\u001b[0;34m,\u001b[0m \u001b[0mreduce_C_function\u001b[0m\u001b[0;34m=\u001b[0m\u001b[0;32mNone\u001b[0m\u001b[0;34m,\u001b[0m \u001b[0mgridsize\u001b[0m\u001b[0;34m=\u001b[0m\u001b[0;32mNone\u001b[0m\u001b[0;34m,\u001b[0m \u001b[0;34m**\u001b[0m\u001b[0mkwargs\u001b[0m\u001b[0;34m)\u001b[0m\u001b[0;34m:\u001b[0m\u001b[0;34m\u001b[0m\u001b[0;34m\u001b[0m\u001b[0m\n",
      "\u001b[0;32m/usr/local/anaconda3/lib/python3.7/site-packages/pandas/plotting/_core.py\u001b[0m in \u001b[0;36m__call__\u001b[0;34m(self, *args, **kwargs)\u001b[0m\n\u001b[1;32m    790\u001b[0m         \u001b[0;32mif\u001b[0m \u001b[0mkind\u001b[0m \u001b[0;32min\u001b[0m \u001b[0mself\u001b[0m\u001b[0;34m.\u001b[0m\u001b[0m_dataframe_kinds\u001b[0m\u001b[0;34m:\u001b[0m\u001b[0;34m\u001b[0m\u001b[0;34m\u001b[0m\u001b[0m\n\u001b[1;32m    791\u001b[0m             \u001b[0;32mif\u001b[0m \u001b[0misinstance\u001b[0m\u001b[0;34m(\u001b[0m\u001b[0mdata\u001b[0m\u001b[0;34m,\u001b[0m \u001b[0mABCDataFrame\u001b[0m\u001b[0;34m)\u001b[0m\u001b[0;34m:\u001b[0m\u001b[0;34m\u001b[0m\u001b[0;34m\u001b[0m\u001b[0m\n\u001b[0;32m--> 792\u001b[0;31m                 \u001b[0;32mreturn\u001b[0m \u001b[0mplot_backend\u001b[0m\u001b[0;34m.\u001b[0m\u001b[0mplot\u001b[0m\u001b[0;34m(\u001b[0m\u001b[0mdata\u001b[0m\u001b[0;34m,\u001b[0m \u001b[0mx\u001b[0m\u001b[0;34m=\u001b[0m\u001b[0mx\u001b[0m\u001b[0;34m,\u001b[0m \u001b[0my\u001b[0m\u001b[0;34m=\u001b[0m\u001b[0my\u001b[0m\u001b[0;34m,\u001b[0m \u001b[0mkind\u001b[0m\u001b[0;34m=\u001b[0m\u001b[0mkind\u001b[0m\u001b[0;34m,\u001b[0m \u001b[0;34m**\u001b[0m\u001b[0mkwargs\u001b[0m\u001b[0;34m)\u001b[0m\u001b[0;34m\u001b[0m\u001b[0;34m\u001b[0m\u001b[0m\n\u001b[0m\u001b[1;32m    793\u001b[0m             \u001b[0;32melse\u001b[0m\u001b[0;34m:\u001b[0m\u001b[0;34m\u001b[0m\u001b[0;34m\u001b[0m\u001b[0m\n\u001b[1;32m    794\u001b[0m                 \u001b[0;32mraise\u001b[0m \u001b[0mValueError\u001b[0m\u001b[0;34m(\u001b[0m\u001b[0;34mf\"plot kind {kind} can only be used for data frames\"\u001b[0m\u001b[0;34m)\u001b[0m\u001b[0;34m\u001b[0m\u001b[0;34m\u001b[0m\u001b[0m\n",
      "\u001b[0;32m/usr/local/anaconda3/lib/python3.7/site-packages/pandas/plotting/_matplotlib/__init__.py\u001b[0m in \u001b[0;36mplot\u001b[0;34m(data, kind, **kwargs)\u001b[0m\n\u001b[1;32m     59\u001b[0m             \u001b[0mkwargs\u001b[0m\u001b[0;34m[\u001b[0m\u001b[0;34m\"ax\"\u001b[0m\u001b[0;34m]\u001b[0m \u001b[0;34m=\u001b[0m \u001b[0mgetattr\u001b[0m\u001b[0;34m(\u001b[0m\u001b[0max\u001b[0m\u001b[0;34m,\u001b[0m \u001b[0;34m\"left_ax\"\u001b[0m\u001b[0;34m,\u001b[0m \u001b[0max\u001b[0m\u001b[0;34m)\u001b[0m\u001b[0;34m\u001b[0m\u001b[0;34m\u001b[0m\u001b[0m\n\u001b[1;32m     60\u001b[0m     \u001b[0mplot_obj\u001b[0m \u001b[0;34m=\u001b[0m \u001b[0mPLOT_CLASSES\u001b[0m\u001b[0;34m[\u001b[0m\u001b[0mkind\u001b[0m\u001b[0;34m]\u001b[0m\u001b[0;34m(\u001b[0m\u001b[0mdata\u001b[0m\u001b[0;34m,\u001b[0m \u001b[0;34m**\u001b[0m\u001b[0mkwargs\u001b[0m\u001b[0;34m)\u001b[0m\u001b[0;34m\u001b[0m\u001b[0;34m\u001b[0m\u001b[0m\n\u001b[0;32m---> 61\u001b[0;31m     \u001b[0mplot_obj\u001b[0m\u001b[0;34m.\u001b[0m\u001b[0mgenerate\u001b[0m\u001b[0;34m(\u001b[0m\u001b[0;34m)\u001b[0m\u001b[0;34m\u001b[0m\u001b[0;34m\u001b[0m\u001b[0m\n\u001b[0m\u001b[1;32m     62\u001b[0m     \u001b[0mplot_obj\u001b[0m\u001b[0;34m.\u001b[0m\u001b[0mdraw\u001b[0m\u001b[0;34m(\u001b[0m\u001b[0;34m)\u001b[0m\u001b[0;34m\u001b[0m\u001b[0;34m\u001b[0m\u001b[0m\n\u001b[1;32m     63\u001b[0m     \u001b[0;32mreturn\u001b[0m \u001b[0mplot_obj\u001b[0m\u001b[0;34m.\u001b[0m\u001b[0mresult\u001b[0m\u001b[0;34m\u001b[0m\u001b[0;34m\u001b[0m\u001b[0m\n",
      "\u001b[0;32m/usr/local/anaconda3/lib/python3.7/site-packages/pandas/plotting/_matplotlib/core.py\u001b[0m in \u001b[0;36mgenerate\u001b[0;34m(self)\u001b[0m\n\u001b[1;32m    261\u001b[0m         \u001b[0mself\u001b[0m\u001b[0;34m.\u001b[0m\u001b[0m_compute_plot_data\u001b[0m\u001b[0;34m(\u001b[0m\u001b[0;34m)\u001b[0m\u001b[0;34m\u001b[0m\u001b[0;34m\u001b[0m\u001b[0m\n\u001b[1;32m    262\u001b[0m         \u001b[0mself\u001b[0m\u001b[0;34m.\u001b[0m\u001b[0m_setup_subplots\u001b[0m\u001b[0;34m(\u001b[0m\u001b[0;34m)\u001b[0m\u001b[0;34m\u001b[0m\u001b[0;34m\u001b[0m\u001b[0m\n\u001b[0;32m--> 263\u001b[0;31m         \u001b[0mself\u001b[0m\u001b[0;34m.\u001b[0m\u001b[0m_make_plot\u001b[0m\u001b[0;34m(\u001b[0m\u001b[0;34m)\u001b[0m\u001b[0;34m\u001b[0m\u001b[0;34m\u001b[0m\u001b[0m\n\u001b[0m\u001b[1;32m    264\u001b[0m         \u001b[0mself\u001b[0m\u001b[0;34m.\u001b[0m\u001b[0m_add_table\u001b[0m\u001b[0;34m(\u001b[0m\u001b[0;34m)\u001b[0m\u001b[0;34m\u001b[0m\u001b[0;34m\u001b[0m\u001b[0m\n\u001b[1;32m    265\u001b[0m         \u001b[0mself\u001b[0m\u001b[0;34m.\u001b[0m\u001b[0m_make_legend\u001b[0m\u001b[0;34m(\u001b[0m\u001b[0;34m)\u001b[0m\u001b[0;34m\u001b[0m\u001b[0;34m\u001b[0m\u001b[0m\n",
      "\u001b[0;32m/usr/local/anaconda3/lib/python3.7/site-packages/pandas/plotting/_matplotlib/core.py\u001b[0m in \u001b[0;36m_make_plot\u001b[0;34m(self)\u001b[0m\n\u001b[1;32m    968\u001b[0m             \u001b[0mlabel\u001b[0m \u001b[0;34m=\u001b[0m \u001b[0;32mNone\u001b[0m\u001b[0;34m\u001b[0m\u001b[0;34m\u001b[0m\u001b[0m\n\u001b[1;32m    969\u001b[0m         scatter = ax.scatter(\n\u001b[0;32m--> 970\u001b[0;31m             \u001b[0mdata\u001b[0m\u001b[0;34m[\u001b[0m\u001b[0mx\u001b[0m\u001b[0;34m]\u001b[0m\u001b[0;34m.\u001b[0m\u001b[0mvalues\u001b[0m\u001b[0;34m,\u001b[0m\u001b[0;34m\u001b[0m\u001b[0;34m\u001b[0m\u001b[0m\n\u001b[0m\u001b[1;32m    971\u001b[0m             \u001b[0mdata\u001b[0m\u001b[0;34m[\u001b[0m\u001b[0my\u001b[0m\u001b[0;34m]\u001b[0m\u001b[0;34m.\u001b[0m\u001b[0mvalues\u001b[0m\u001b[0;34m,\u001b[0m\u001b[0;34m\u001b[0m\u001b[0;34m\u001b[0m\u001b[0m\n\u001b[1;32m    972\u001b[0m             \u001b[0mc\u001b[0m\u001b[0;34m=\u001b[0m\u001b[0mc_values\u001b[0m\u001b[0;34m,\u001b[0m\u001b[0;34m\u001b[0m\u001b[0;34m\u001b[0m\u001b[0m\n",
      "\u001b[0;32m/usr/local/anaconda3/lib/python3.7/site-packages/pandas/core/frame.py\u001b[0m in \u001b[0;36m__getitem__\u001b[0;34m(self, key)\u001b[0m\n\u001b[1;32m   2798\u001b[0m             \u001b[0;32mif\u001b[0m \u001b[0mself\u001b[0m\u001b[0;34m.\u001b[0m\u001b[0mcolumns\u001b[0m\u001b[0;34m.\u001b[0m\u001b[0mnlevels\u001b[0m \u001b[0;34m>\u001b[0m \u001b[0;36m1\u001b[0m\u001b[0;34m:\u001b[0m\u001b[0;34m\u001b[0m\u001b[0;34m\u001b[0m\u001b[0m\n\u001b[1;32m   2799\u001b[0m                 \u001b[0;32mreturn\u001b[0m \u001b[0mself\u001b[0m\u001b[0;34m.\u001b[0m\u001b[0m_getitem_multilevel\u001b[0m\u001b[0;34m(\u001b[0m\u001b[0mkey\u001b[0m\u001b[0;34m)\u001b[0m\u001b[0;34m\u001b[0m\u001b[0;34m\u001b[0m\u001b[0m\n\u001b[0;32m-> 2800\u001b[0;31m             \u001b[0mindexer\u001b[0m \u001b[0;34m=\u001b[0m \u001b[0mself\u001b[0m\u001b[0;34m.\u001b[0m\u001b[0mcolumns\u001b[0m\u001b[0;34m.\u001b[0m\u001b[0mget_loc\u001b[0m\u001b[0;34m(\u001b[0m\u001b[0mkey\u001b[0m\u001b[0;34m)\u001b[0m\u001b[0;34m\u001b[0m\u001b[0;34m\u001b[0m\u001b[0m\n\u001b[0m\u001b[1;32m   2801\u001b[0m             \u001b[0;32mif\u001b[0m \u001b[0mis_integer\u001b[0m\u001b[0;34m(\u001b[0m\u001b[0mindexer\u001b[0m\u001b[0;34m)\u001b[0m\u001b[0;34m:\u001b[0m\u001b[0;34m\u001b[0m\u001b[0;34m\u001b[0m\u001b[0m\n\u001b[1;32m   2802\u001b[0m                 \u001b[0mindexer\u001b[0m \u001b[0;34m=\u001b[0m \u001b[0;34m[\u001b[0m\u001b[0mindexer\u001b[0m\u001b[0;34m]\u001b[0m\u001b[0;34m\u001b[0m\u001b[0;34m\u001b[0m\u001b[0m\n",
      "\u001b[0;32m/usr/local/anaconda3/lib/python3.7/site-packages/pandas/core/indexes/base.py\u001b[0m in \u001b[0;36mget_loc\u001b[0;34m(self, key, method, tolerance)\u001b[0m\n\u001b[1;32m   2646\u001b[0m                 \u001b[0;32mreturn\u001b[0m \u001b[0mself\u001b[0m\u001b[0;34m.\u001b[0m\u001b[0m_engine\u001b[0m\u001b[0;34m.\u001b[0m\u001b[0mget_loc\u001b[0m\u001b[0;34m(\u001b[0m\u001b[0mkey\u001b[0m\u001b[0;34m)\u001b[0m\u001b[0;34m\u001b[0m\u001b[0;34m\u001b[0m\u001b[0m\n\u001b[1;32m   2647\u001b[0m             \u001b[0;32mexcept\u001b[0m \u001b[0mKeyError\u001b[0m\u001b[0;34m:\u001b[0m\u001b[0;34m\u001b[0m\u001b[0;34m\u001b[0m\u001b[0m\n\u001b[0;32m-> 2648\u001b[0;31m                 \u001b[0;32mreturn\u001b[0m \u001b[0mself\u001b[0m\u001b[0;34m.\u001b[0m\u001b[0m_engine\u001b[0m\u001b[0;34m.\u001b[0m\u001b[0mget_loc\u001b[0m\u001b[0;34m(\u001b[0m\u001b[0mself\u001b[0m\u001b[0;34m.\u001b[0m\u001b[0m_maybe_cast_indexer\u001b[0m\u001b[0;34m(\u001b[0m\u001b[0mkey\u001b[0m\u001b[0;34m)\u001b[0m\u001b[0;34m)\u001b[0m\u001b[0;34m\u001b[0m\u001b[0;34m\u001b[0m\u001b[0m\n\u001b[0m\u001b[1;32m   2649\u001b[0m         \u001b[0mindexer\u001b[0m \u001b[0;34m=\u001b[0m \u001b[0mself\u001b[0m\u001b[0;34m.\u001b[0m\u001b[0mget_indexer\u001b[0m\u001b[0;34m(\u001b[0m\u001b[0;34m[\u001b[0m\u001b[0mkey\u001b[0m\u001b[0;34m]\u001b[0m\u001b[0;34m,\u001b[0m \u001b[0mmethod\u001b[0m\u001b[0;34m=\u001b[0m\u001b[0mmethod\u001b[0m\u001b[0;34m,\u001b[0m \u001b[0mtolerance\u001b[0m\u001b[0;34m=\u001b[0m\u001b[0mtolerance\u001b[0m\u001b[0;34m)\u001b[0m\u001b[0;34m\u001b[0m\u001b[0;34m\u001b[0m\u001b[0m\n\u001b[1;32m   2650\u001b[0m         \u001b[0;32mif\u001b[0m \u001b[0mindexer\u001b[0m\u001b[0;34m.\u001b[0m\u001b[0mndim\u001b[0m \u001b[0;34m>\u001b[0m \u001b[0;36m1\u001b[0m \u001b[0;32mor\u001b[0m \u001b[0mindexer\u001b[0m\u001b[0;34m.\u001b[0m\u001b[0msize\u001b[0m \u001b[0;34m>\u001b[0m \u001b[0;36m1\u001b[0m\u001b[0;34m:\u001b[0m\u001b[0;34m\u001b[0m\u001b[0;34m\u001b[0m\u001b[0m\n",
      "\u001b[0;32mpandas/_libs/index.pyx\u001b[0m in \u001b[0;36mpandas._libs.index.IndexEngine.get_loc\u001b[0;34m()\u001b[0m\n",
      "\u001b[0;32mpandas/_libs/index.pyx\u001b[0m in \u001b[0;36mpandas._libs.index.IndexEngine.get_loc\u001b[0;34m()\u001b[0m\n",
      "\u001b[0;32mpandas/_libs/hashtable_class_helper.pxi\u001b[0m in \u001b[0;36mpandas._libs.hashtable.PyObjectHashTable.get_item\u001b[0;34m()\u001b[0m\n",
      "\u001b[0;32mpandas/_libs/hashtable_class_helper.pxi\u001b[0m in \u001b[0;36mpandas._libs.hashtable.PyObjectHashTable.get_item\u001b[0;34m()\u001b[0m\n",
      "\u001b[0;31mKeyError\u001b[0m: 'building quality typeid'"
     ]
    },
    {
     "data": {
      "image/png": "[encoded data removed]",
      "text/plain": [
       "<Figure size 936x504 with 1 Axes>"
      ]
     },
     "metadata": {
      "needs_background": "light"
     },
     "output_type": "display_data"
    }
   ],
   "source": [
    "fig, ax = plt.subplots(figsize=(13, 7))\n",
    "\n",
    "# for the column cluster, we can group by the cluster subset\n",
    "for cluster, subset in train.groupby('cluster'):\n",
    "    # Telling it to graph the cluster subset with the corresponding features\n",
    "    ax.scatter(subset.buildingqualitytypeid, subset.bed_bath_ratio, label=cluster)\n",
    "plt.title(\"Building Quality id and Bed Bath Ratio Clusters\")\n",
    "ax.legend(title='cluster')\n",
    "ax.set(ylabel='Bed Bath Ratio', xlabel='Building Quality id')\n",
    "# Making the X to lay on top of the scatter plot to see the mean() AKA centroid of each cluster\n",
    "train.groupby('cluster').mean().plot.scatter(y='bed bath ratio', x='building quality typeid', marker='x', s=1000, ax=ax, c='black')"
   ]
  },
  {
   "cell_type": "code",
   "execution_count": null,
   "metadata": {},
   "outputs": [],
   "source": [
    "# sum of squared distances from each point to its cluster center. Used when trying to figure out how many\n",
    "# Clusters we want to use via the elbow method\n",
    "kmeans.inertia_"
   ]
  },
  {
   "cell_type": "code",
   "execution_count": null,
   "metadata": {},
   "outputs": [],
   "source": [
    "output = {}\n",
    "\n",
    "for k in range(1, 12):\n",
    "    kmeans = KMeans(n_clusters=k)\n",
    "    kmeans.fit(X)\n",
    "    output[k] = kmeans.inertia_\n",
    "\n",
    "ax = pd.Series(output).plot(figsize=(13, 7))\n",
    "ax.set(xlabel='k', ylabel='inertia', xticks=range(1, 12), title='The elbow method for determining k')\n",
    "ax.grid()\n",
    "# So at 4 my kmeans shows the inertia calculated above. Should use k =5 based off the graph"
   ]
  },
  {
   "cell_type": "markdown",
   "metadata": {},
   "source": [
    "## Building quality type id and bed bath ratio clusters (n_clusters = 5)"
   ]
  },
  {
   "cell_type": "code",
   "execution_count": null,
   "metadata": {},
   "outputs": [],
   "source": [
    "# Choose the features to to cluster on \n",
    "X = train_scaled[['buildingqualitytypeid', 'bed_bath_ratio']]\n",
    "# Choose the KMeans clusters\n",
    "kmeans = KMeans(n_clusters=5)\n",
    "# Create and fit the model\n",
    "kmeans.fit(X)"
   ]
  },
  {
   "cell_type": "code",
   "execution_count": null,
   "metadata": {},
   "outputs": [],
   "source": [
    "pd.DataFrame(kmeans.cluster_centers_, columns=X.columns)"
   ]
  },
  {
   "cell_type": "code",
   "execution_count": null,
   "metadata": {},
   "outputs": [],
   "source": [
    "# Creating a column cluster from the labels_\n",
    "train['cluster'] = kmeans.labels_"
   ]
  },
  {
   "cell_type": "code",
   "execution_count": null,
   "metadata": {},
   "outputs": [],
   "source": [
    "# Centroid of each cluster\n",
    "train.groupby('cluster').mean()"
   ]
  },
  {
   "cell_type": "code",
   "execution_count": null,
   "metadata": {},
   "outputs": [],
   "source": [
    "fig, ax = plt.subplots(figsize=(13, 7))\n",
    "\n",
    "# for the column cluster, we can group by the cluster subset\n",
    "for cluster, subset in train.groupby('cluster'):\n",
    "    # Telling it to graph the cluster subset with the corresponding features\n",
    "    ax.scatter(subset.buildingqualitytypeid, subset.bed_bath_ratio, label=cluster)\n",
    "plt.title(\"Building Quality id and Bed Bath Ratio Clusters\")\n",
    "ax.legend(title='cluster')\n",
    "ax.set(ylabel='Bed Bath Ratio', xlabel='Building Quality id')\n",
    "# Making the X to lay on top of the scatter plot to see the mean() AKA centroid of each cluster\n",
    "train.groupby('cluster').mean().plot.scatter(y='bed_bath_ratio', x='buildingqualitytypeid', marker='x', s=1000, ax=ax, c='black')"
   ]
  },
  {
   "cell_type": "code",
   "execution_count": null,
   "metadata": {},
   "outputs": [],
   "source": [
    "# sum of squared distances from each point to its cluster center. Used when trying to figure out how many\n",
    "# Clusters we want to use via the elbow method\n",
    "kmeans.inertia_"
   ]
  },
  {
   "cell_type": "markdown",
   "metadata": {},
   "source": [
    "## Price per sqft and age clusters (n_clusters = 5)"
   ]
  },
  {
   "cell_type": "code",
   "execution_count": null,
   "metadata": {},
   "outputs": [],
   "source": [
    "# scale\n",
    "scaler = StandardScaler()\n",
    "# cloumns to scale\n",
    "cols = ['price_per_sqft', 'age']\n",
    "# Creating a train scaled copy and an original copy\n",
    "train_scaled = train.copy()\n",
    "# Fit and transform the data The \"fit\" part applies to the feature extractor itself: it determines what \n",
    "# features it will base future transformations on. The \"transform\" part is what takes the data and returns\n",
    "# some transformed data back at you.\n",
    "train_scaled[cols] = scaler.fit_transform(train[cols])"
   ]
  },
  {
   "cell_type": "code",
   "execution_count": null,
   "metadata": {},
   "outputs": [],
   "source": [
    "# Choose the features to to cluster on \n",
    "X = train_scaled[['price_per_sqft', 'age']]\n",
    "# Choose the KMeans clusters\n",
    "kmeans = KMeans(n_clusters=5)\n",
    "# Create and fit the model\n",
    "kmeans.fit(X)"
   ]
  },
  {
   "cell_type": "code",
   "execution_count": null,
   "metadata": {},
   "outputs": [],
   "source": [
    "pd.DataFrame(kmeans.cluster_centers_, columns=X.columns)"
   ]
  },
  {
   "cell_type": "code",
   "execution_count": null,
   "metadata": {},
   "outputs": [],
   "source": [
    "# Creating a column cluster from the labels_\n",
    "train['cluster'] = kmeans.labels_\n",
    "\n",
    "# Centroid of each cluster\n",
    "train.groupby('cluster').mean()"
   ]
  },
  {
   "cell_type": "code",
   "execution_count": null,
   "metadata": {},
   "outputs": [],
   "source": [
    "fig, ax = plt.subplots(figsize=(13, 7))\n",
    "\n",
    "# for the column cluster, we can group by the cluster subset\n",
    "for cluster, subset in train.groupby('cluster'):\n",
    "    # Telling it to graph the cluster subset with the corresponding features\n",
    "    ax.scatter(subset.age, subset.price_per_sqft, label=cluster)\n",
    "plt.title(\"Age and Price per SQFT Clusters\")\n",
    "ax.legend(title='cluster')\n",
    "ax.set(ylabel='Price per SQFT', xlabel='Age')\n",
    "# Making the X to lay on top of the scatter plot to see the mean() AKA centroid of each cluster\n",
    "train.groupby('cluster').mean().plot.scatter(y='price_per_sqft', x='age', marker='x', s=1000, ax=ax, c='black')"
   ]
  },
  {
   "cell_type": "code",
   "execution_count": null,
   "metadata": {},
   "outputs": [],
   "source": [
    "X_train_scaled.head()"
   ]
  },
  {
   "cell_type": "code",
   "execution_count": null,
   "metadata": {},
   "outputs": [],
   "source": [
    "X_validate_scaled.head()"
   ]
  },
  {
   "cell_type": "code",
   "execution_count": null,
   "metadata": {},
   "outputs": [],
   "source": []
  },
  {
   "cell_type": "markdown",
   "metadata": {},
   "source": [
    "## Price per sqft and lot size per sqft clusters (n_clusters = 4)"
   ]
  },
  {
   "cell_type": "code",
   "execution_count": null,
   "metadata": {},
   "outputs": [],
   "source": [
    "# scale\n",
    "scaler = StandardScaler()\n",
    "# cloumns to scale\n",
    "cols = ['price_per_sqft', 'lotsize_per_sqft']\n",
    "# Creating a train scaled copy and an original copy\n",
    "train_scaled = train.copy()\n",
    "# Fit and transform the data The \"fit\" part applies to the feature extractor itself: it determines what \n",
    "# features it will base future transformations on. The \"transform\" part is what takes the data and returns\n",
    "# some transformed data back at you.\n",
    "train_scaled[cols] = scaler.fit_transform(train[cols])"
   ]
  },
  {
   "cell_type": "code",
   "execution_count": null,
   "metadata": {},
   "outputs": [],
   "source": [
    "# Choose the features to to cluster on \n",
    "X = train_scaled[['price_per_sqft', 'lotsize_per_sqft']]\n",
    "# Choose the KMeans clusters\n",
    "kmeans = KMeans(n_clusters=4)\n",
    "# Create and fit the model\n",
    "kmeans.fit(X)"
   ]
  },
  {
   "cell_type": "code",
   "execution_count": null,
   "metadata": {},
   "outputs": [],
   "source": [
    "pd.DataFrame(kmeans.cluster_centers_, columns=X.columns)\n",
    "\n",
    "# Creating a column cluster from the labels_\n",
    "train['cluster'] = kmeans.labels_\n",
    "\n",
    "# Centroid of each cluster\n",
    "train.groupby('cluster').mean()"
   ]
  },
  {
   "cell_type": "code",
   "execution_count": null,
   "metadata": {},
   "outputs": [],
   "source": [
    "ig, ax = plt.subplots(figsize=(13, 7))\n",
    "\n",
    "# for the column cluster, we can group by the cluster subset\n",
    "for cluster, subset in train.groupby('cluster'):\n",
    "    # Telling it to graph the cluster subset with the corresponding features\n",
    "    ax.scatter(subset.price_per_sqft, subset.lotsize_per_sqft, label=cluster)\n",
    "plt.title(\"Price per SQFT and Lot Size per SQFT Clusters\")\n",
    "ax.legend(title='cluster')\n",
    "ax.set(ylabel='Lot Size per SQFT', xlabel='Price per SQFT')\n",
    "# Making the X to lay on top of the scatter plot to see the mean() AKA centroid of each cluster\n",
    "train.groupby('cluster').mean().plot.scatter(y='lotsize_per_sqft', x='price_per_sqft', marker='x', s=1000, ax=ax, c='black')"
   ]
  },
  {
   "cell_type": "markdown",
   "metadata": {},
   "source": [
    "- Cluster 0 shows small lot and low ppsqft\n",
    "- Cluster 1 shows small lot and mid ppsqft\n",
    "- Cluster 2 shows mid size lot and quite a range in ppsqft ranging from ~ 200 to 1800\n",
    "- Cluster 3 shows larger lots for the most part and high ppsqft. "
   ]
  },
  {
   "cell_type": "markdown",
   "metadata": {},
   "source": [
    "### Going to run a Correlation Test\n",
    "- Ho: There is no linear relationship between price per sqft and lot size per sqft. \n",
    "- Ha: There is a linear relationship between price per sqft and lot size per sqft. \n",
    "- Alpha = .05"
   ]
  },
  {
   "cell_type": "code",
   "execution_count": null,
   "metadata": {},
   "outputs": [],
   "source": [
    "train.price_per_sqft.hist()"
   ]
  },
  {
   "cell_type": "code",
   "execution_count": null,
   "metadata": {},
   "outputs": [],
   "source": [
    "train.lotsize_per_sqft.hist()"
   ]
  },
  {
   "cell_type": "code",
   "execution_count": null,
   "metadata": {},
   "outputs": [],
   "source": [
    "# Variances are not the same so going to rn a \n",
    "print(train.price_per_sqft.var())\n",
    "print(train.lotsize_per_sqft.var())"
   ]
  },
  {
   "cell_type": "code",
   "execution_count": null,
   "metadata": {},
   "outputs": [],
   "source": [
    "r, p = stats.pearsonr(train.price_per_sqft, train.lotsize_per_sqft)\n",
    "print('r =', r)\n",
    "print('p =', p)"
   ]
  },
  {
   "cell_type": "markdown",
   "metadata": {},
   "source": [
    "### Reject the null, there is a linear relationship between price_per_sqft and lot_size_per_sqft"
   ]
  },
  {
   "cell_type": "code",
   "execution_count": null,
   "metadata": {},
   "outputs": [],
   "source": []
  },
  {
   "cell_type": "code",
   "execution_count": null,
   "metadata": {},
   "outputs": [],
   "source": [
    "size_vars = ['price_per_sqft', 'lotsize_per_sqft']\n",
    "e.elbow_plot(X_train_scaled, cluster_vars = size_vars)"
   ]
  },
  {
   "cell_type": "code",
   "execution_count": null,
   "metadata": {},
   "outputs": [],
   "source": [
    "train_clusters, kmeans = e.run_kmeans(X_train, X_train_scaled, k=4, \n",
    "                                    cluster_vars = ['price_per_sqft', \n",
    "                                                    'lotsize_per_sqft'], \n",
    "                                    cluster_col_name = 'size_cluster')\n",
    "validate_clusters, kmeans = e.run_kmeans(X_validate, X_validate_scaled, k=4, \n",
    "                                    cluster_vars = ['price_per_sqft', \n",
    "                                                    'lotsize_per_sqft'], \n",
    "                                    cluster_col_name = 'size_cluster')\n",
    "test_clusters, kmeans = e.run_kmeans(X_test, X_test_scaled, k=4, \n",
    "                                    cluster_vars = ['price_per_sqft', \n",
    "                                                    'lotsize_per_sqft'], \n",
    "                                    cluster_col_name = 'size_cluster')"
   ]
  },
  {
   "cell_type": "code",
   "execution_count": null,
   "metadata": {},
   "outputs": [],
   "source": [
    "train_clusters.size_cluster.value_counts()"
   ]
  },
  {
   "cell_type": "code",
   "execution_count": null,
   "metadata": {},
   "outputs": [],
   "source": [
    "centroid_col_names = ['centroid_' + i for i in size_vars]\n",
    "centroid_col_names\n",
    "\n",
    "centroids = pd.DataFrame(kmeans.cluster_centers_, \n",
    "             columns=centroid_col_names).reset_index().rename(columns={'index': 'size_cluster'})"
   ]
  },
  {
   "cell_type": "code",
   "execution_count": null,
   "metadata": {},
   "outputs": [],
   "source": [
    "centroids"
   ]
  },
  {
   "cell_type": "code",
   "execution_count": null,
   "metadata": {},
   "outputs": [],
   "source": [
    "# concatenate cluster id\n",
    "X_train = pd.concat([X_train, train_clusters], axis=1)\n",
    "X_validate = pd.concat([X_validate, validate_clusters], axis=1)\n",
    "X_test = pd.concat([X_test, test_clusters], axis=1)\n",
    "\n",
    "#join on clusterid to get centroids\n",
    "X_train = X_train.merge(centroids, how='left', on='size_cluster').\\\n",
    "                set_index(X_train.index)\n",
    "X_validate = X_validate.merge(centroids, how='left', on='size_cluster').\\\n",
    "                set_index(X_validate.index)\n",
    "X_test = X_test.merge(centroids, how='left', on='size_cluster').\\\n",
    "                set_index(X_test.index)"
   ]
  },
  {
   "cell_type": "code",
   "execution_count": null,
   "metadata": {},
   "outputs": [],
   "source": [
    "# concatenate cluster id\n",
    "X_train_scaled = pd.concat([X_train_scaled, train_clusters], \n",
    "                           axis=1)\n",
    "X_validate_scaled = pd.concat([X_validate_scaled, validate_clusters], \n",
    "                           axis=1)\n",
    "X_test_scaled = pd.concat([X_test_scaled, test_clusters], \n",
    "                           axis=1)\n",
    "\n",
    "# join on clusterid to get centroids\n",
    "X_train_scaled = X_train_scaled.merge(centroids, how='left', on='size_cluster').\\\n",
    "                set_index(X_train.index)\n",
    "X_validate_scaled = X_validate.merge(centroids, how='left', on='size_cluster').\\\n",
    "                set_index(X_validate.index)\n",
    "X_test_scaled = X_test_scaled.merge(centroids, how='left', on='size_cluster').\\\n",
    "                set_index(X_test.index)"
   ]
  },
  {
   "cell_type": "markdown",
   "metadata": {},
   "source": [
    "### Repeat on validate and test"
   ]
  },
  {
   "cell_type": "code",
   "execution_count": null,
   "metadata": {},
   "outputs": [],
   "source": [
    "X_train_scaled"
   ]
  },
  {
   "cell_type": "code",
   "execution_count": null,
   "metadata": {},
   "outputs": [],
   "source": [
    "def add_to_train(cluster_col_name):\n",
    "    # concatenate cluster id\n",
    "    X_train2 = pd.concat([X_train, train_clusters], axis=1)\n",
    "\n",
    "    # join on clusterid to get centroids\n",
    "    X_train2 = X_train2.merge(centroids, how='left', \n",
    "                            on=cluster_col_name).\\\n",
    "                        set_index(X_train.index)\n",
    "    \n",
    "    # concatenate cluster id\n",
    "    X_train_scaled2 = pd.concat([X_train_scaled, train_clusters], \n",
    "                               axis=1)\n",
    "\n",
    "    # join on clusterid to get centroids\n",
    "    X_train_scaled2 = X_train_scaled2.merge(centroids, how='left', \n",
    "                                          on=cluster_col_name).\\\n",
    "                            set_index(X_train.index)\n",
    "    \n",
    "    return X_train2, X_train_scaled2"
   ]
  },
  {
   "cell_type": "code",
   "execution_count": null,
   "metadata": {},
   "outputs": [],
   "source": [
    "X_validate_scaled"
   ]
  },
  {
   "cell_type": "code",
   "execution_count": null,
   "metadata": {},
   "outputs": [],
   "source": [
    "X_train_scaled"
   ]
  },
  {
   "cell_type": "code",
   "execution_count": null,
   "metadata": {},
   "outputs": [],
   "source": [
    "sns.scatterplot(x='price_per_sqft', y='lotsize_per_sqft', hue='size_cluster', data=X_train)\n",
    "plt.title(\"Price per SQFT and Lot size per sqft\")\n",
    "plt.show()"
   ]
  },
  {
   "cell_type": "code",
   "execution_count": null,
   "metadata": {},
   "outputs": [],
   "source": [
    "plt.scatter(X_train.price_per_sqft, X_train.lotsize_per_sqft, c=X_train.size_cluster)\n",
    "plt.show()"
   ]
  },
  {
   "cell_type": "code",
   "execution_count": null,
   "metadata": {},
   "outputs": [],
   "source": [
    "sns.boxplot(X_train.size_cluster, y_train.logerror)\n",
    "plt.ylim(-.07,.07)\n",
    "plt.show()"
   ]
  },
  {
   "cell_type": "code",
   "execution_count": null,
   "metadata": {},
   "outputs": [],
   "source": [
    "X_train_scaled.columns"
   ]
  },
  {
   "cell_type": "code",
   "execution_count": null,
   "metadata": {},
   "outputs": [],
   "source": [
    "dummy_df = pd.get_dummies(X_train_scaled,\n",
    "                           columns=['size_cluster'], \n",
    "                           drop_first=True)"
   ]
  },
  {
   "cell_type": "code",
   "execution_count": null,
   "metadata": {},
   "outputs": [],
   "source": [
    "X_validate_scaled.columns"
   ]
  },
  {
   "cell_type": "code",
   "execution_count": null,
   "metadata": {},
   "outputs": [],
   "source": [
    "dummy_df1 = pd.get_dummies(X_validate_scaled,\n",
    "                           columns=['size_cluster'], \n",
    "                           drop_first=True)\n",
    "dummy_df2 = pd.get_dummies(X_test_scaled,\n",
    "                           columns=['size_cluster'], \n",
    "                           drop_first=True)"
   ]
  },
  {
   "cell_type": "code",
   "execution_count": null,
   "metadata": {},
   "outputs": [],
   "source": [
    "X_train.groupby(['size_cluster'])['bed_bath_ratio', \n",
    "                                 'age', \n",
    "                                  'buildingqualitytypeid'].agg(['mean', 'median', \n",
    "                                               'std', 'min', 'max'])"
   ]
  },
  {
   "cell_type": "code",
   "execution_count": null,
   "metadata": {},
   "outputs": [],
   "source": [
    "X_train_scaled.head().T"
   ]
  },
  {
   "cell_type": "code",
   "execution_count": null,
   "metadata": {},
   "outputs": [],
   "source": [
    "X_train_scaled.columns"
   ]
  },
  {
   "cell_type": "code",
   "execution_count": null,
   "metadata": {},
   "outputs": [],
   "source": [
    "X_validate_scaled.columns"
   ]
  },
  {
   "cell_type": "code",
   "execution_count": null,
   "metadata": {},
   "outputs": [],
   "source": [
    "X_train_scaled = X_train_scaled.drop(columns = ['bathroomcnt', 'bedroomcnt', 'buildingqualitytypeid', 'sqft', 'fips',\n",
    "       'fullbathcnt', 'latitude', 'longitude', 'lotsizesquarefeet',\n",
    "       'propertycountylandusecode', 'roomcnt', 'unitcnt', 'yearbuilt',\n",
    "       'structuretaxvaluedollarcnt', 'home_value', 'taxamount',\n",
    "       'transactiondate', 'heatingorsystemdesc', 'county', 'age', 'taxrate',\n",
    "       'acres', 'price_per_sqft', 'lotsize_per_sqft', 'bed_bath_ratio',\n",
    "       'binned_price_per_sqft', 'binned_bed_bath_ratio', 'centroid_price_per_sqft_x',\n",
    "       'centroid_bed_bath_ratio', 'centroid_age', 'home_cluster',\n",
    "       'centroid_price_per_sqft_y', 'centroid_lotsize_per_sqft'])"
   ]
  },
  {
   "cell_type": "code",
   "execution_count": null,
   "metadata": {},
   "outputs": [],
   "source": [
    "X_train_scaled"
   ]
  },
  {
   "cell_type": "code",
   "execution_count": null,
   "metadata": {},
   "outputs": [],
   "source": [
    "#from sklearn.linear_model import LinearRegression\n",
    "lm = LinearRegression()\n",
    "lm.fit(X_train_scaled, y_train.logerror)\n",
    "y_hat = lm.predict(X_train_scaled)\n",
    "\n",
    "from sklearn.metrics import mean_squared_error\n",
    "mean_squared_error(y_train.logerror, y_hat)**(1/2)"
   ]
  },
  {
   "cell_type": "code",
   "execution_count": null,
   "metadata": {
    "scrolled": true
   },
   "outputs": [],
   "source": [
    "y_hat = np.full(28133, np.mean(y_train.logerror))\n",
    "y_hat\n",
    "\n",
    "import math\n",
    "math.sqrt(mean_squared_error(y_train.logerror, y_hat))"
   ]
  },
  {
   "cell_type": "markdown",
   "metadata": {},
   "source": [
    "## Performing Validate"
   ]
  },
  {
   "cell_type": "code",
   "execution_count": null,
   "metadata": {},
   "outputs": [],
   "source": [
    "# scale\n",
    "scaler = StandardScaler()\n",
    "# cloumns to scale\n",
    "cols = ['price_per_sqft', 'lotsize_per_sqft']\n",
    "# Creating a train scaled copy and an original copy\n",
    "validate_scaled = validate.copy()\n",
    "# Fit and transform the data The \"fit\" part applies to the feature extractor itself: it determines what \n",
    "# features it will base future transformations on. The \"transform\" part is what takes the data and returns\n",
    "# some transformed data back at you.\n",
    "validate_scaled[cols] = scaler.fit_transform(validate[cols])\n",
    "\n",
    "# Choose the features to to cluster on \n",
    "X = validate_scaled[['price_per_sqft', 'lotsize_per_sqft']]\n",
    "# Choose the KMeans clusters\n",
    "kmeans = KMeans(n_clusters=4)\n",
    "# Create and fit the model\n",
    "kmeans.fit(X)\n",
    "\n",
    "pd.DataFrame(kmeans.cluster_centers_, columns=X.columns)\n",
    "\n",
    "# Creating a column cluster from the labels_\n",
    "validate['cluster'] = kmeans.labels_\n",
    "\n",
    "# Centroid of each cluster\n",
    "validate.groupby('cluster').mean()"
   ]
  },
  {
   "cell_type": "code",
   "execution_count": null,
   "metadata": {},
   "outputs": [],
   "source": [
    "fig, ax = plt.subplots(figsize=(13, 7))\n",
    "\n",
    "# for the column cluster, we can group by the cluster subset\n",
    "for cluster, subset in validate.groupby('cluster'):\n",
    "    # Telling it to graph the cluster subset with the corresponding features\n",
    "    ax.scatter(subset.price_per_sqft, subset.lotsize_per_sqft, label=cluster)\n",
    "plt.title(\"Price per SQFT and Lot Size per SQFT Clusters\")\n",
    "ax.legend(title='cluster')\n",
    "ax.set(ylabel='Lot Size per SQFT', xlabel='Price per SQFT')\n",
    "# Making the X to lay on top of the scatter plot to see the mean() AKA centroid of each cluster\n",
    "validate.groupby('cluster').mean().plot.scatter(y='lotsize_per_sqft', x='price_per_sqft', marker='x', s=1000, ax=ax, c='black')"
   ]
  },
  {
   "cell_type": "code",
   "execution_count": null,
   "metadata": {},
   "outputs": [],
   "source": [
    "validate_clusters= e.kmeans_transform(X_validate_scaled, kmeans, \n",
    "                                    cluster_vars = ['price_per_sqft', \n",
    "                                                    'lotsize_per_sqft'], \n",
    "                                    cluster_col_name = 'size_cluster')\n",
    "test_clusters= e.kmeans_transform(X_test_scaled, kmeans, \n",
    "                                    cluster_vars = ['price_per_sqft', \n",
    "                                                    'lotsize_per_sqft'], \n",
    "                                    cluster_col_name = 'size_cluster')"
   ]
  },
  {
   "cell_type": "code",
   "execution_count": null,
   "metadata": {},
   "outputs": [],
   "source": [
    "train_clusters.shape, validate_clusters.shape, test_clusters.shape"
   ]
  },
  {
   "cell_type": "code",
   "execution_count": null,
   "metadata": {},
   "outputs": [],
   "source": [
    "X_validate_scaled"
   ]
  },
  {
   "cell_type": "code",
   "execution_count": null,
   "metadata": {},
   "outputs": [],
   "source": [
    "centroids"
   ]
  },
  {
   "cell_type": "code",
   "execution_count": null,
   "metadata": {},
   "outputs": [],
   "source": [
    "X_train_scaled.shape, X_validate_scaled.shape, X_test_scaled.shape"
   ]
  },
  {
   "cell_type": "code",
   "execution_count": null,
   "metadata": {},
   "outputs": [],
   "source": []
  },
  {
   "cell_type": "code",
   "execution_count": null,
   "metadata": {},
   "outputs": [],
   "source": []
  }
 ],
 "metadata": {
  "kernelspec": {
   "display_name": "Python 3",
   "language": "python",
   "name": "python3"
  },
  "language_info": {
   "codemirror_mode": {
    "name": "ipython",
    "version": 3
   },
   "file_extension": ".py",
   "mimetype": "text/x-python",
   "name": "python",
   "nbconvert_exporter": "python",
   "pygments_lexer": "ipython3",
   "version": "3.7.6"
  }
 },
 "nbformat": 4,
 "nbformat_minor": 4
}
