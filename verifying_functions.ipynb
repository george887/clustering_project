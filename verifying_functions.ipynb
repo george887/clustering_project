{
 "cells": [
  {
   "cell_type": "code",
   "execution_count": 1,
   "metadata": {},
   "outputs": [],
   "source": [
    "import warnings\n",
    "warnings.filterwarnings(\"ignore\")\n",
    "\n",
    "import pandas as pd\n",
    "import numpy as np\n",
    "\n",
    "import matplotlib.pyplot as plt\n",
    "from matplotlib import cm\n",
    "import seaborn as sns\n",
    "\n",
    "from sklearn.model_selection import train_test_split\n",
    "from sklearn.preprocessing import StandardScaler, QuantileTransformer, PowerTransformer, RobustScaler, MinMaxScaler\n",
    "from sklearn.cluster import KMeans\n",
    "import wrangle_zillow as w\n",
    "import explore as e"
   ]
  },
  {
   "cell_type": "code",
   "execution_count": 2,
   "metadata": {},
   "outputs": [
    {
     "data": {
      "text/plain": [
       "0          4506.0\n",
       "1         12647.0\n",
       "2          8432.0\n",
       "3         13038.0\n",
       "4        278581.0\n",
       "           ...   \n",
       "77575     47405.0\n",
       "77576     12105.0\n",
       "77577      5074.0\n",
       "77578      6347.0\n",
       "77579      5927.0\n",
       "Name: lotsizesquarefeet, Length: 77580, dtype: float64"
      ]
     },
     "execution_count": 2,
     "metadata": {},
     "output_type": "execute_result"
    }
   ],
   "source": [
    "df = w.get_zillow_data()\n",
    "df.lotsizesquarefeet"
   ]
  },
  {
   "cell_type": "code",
   "execution_count": 3,
   "metadata": {},
   "outputs": [],
   "source": [
    "df= w.single_unit_properties(df)"
   ]
  },
  {
   "cell_type": "code",
   "execution_count": 4,
   "metadata": {},
   "outputs": [
    {
     "data": {
      "text/html": [
       "<div>\n",
       "<style scoped>\n",
       "    .dataframe tbody tr th:only-of-type {\n",
       "        vertical-align: middle;\n",
       "    }\n",
       "\n",
       "    .dataframe tbody tr th {\n",
       "        vertical-align: top;\n",
       "    }\n",
       "\n",
       "    .dataframe thead th {\n",
       "        text-align: right;\n",
       "    }\n",
       "</style>\n",
       "<table border=\"1\" class=\"dataframe\">\n",
       "  <thead>\n",
       "    <tr style=\"text-align: right;\">\n",
       "      <th></th>\n",
       "      <th>bathroomcnt</th>\n",
       "      <th>bedroomcnt</th>\n",
       "      <th>buildingqualitytypeid</th>\n",
       "      <th>sqft</th>\n",
       "      <th>fips</th>\n",
       "      <th>fullbathcnt</th>\n",
       "      <th>latitude</th>\n",
       "      <th>longitude</th>\n",
       "      <th>lotsizesquarefeet</th>\n",
       "      <th>propertycountylandusecode</th>\n",
       "      <th>...</th>\n",
       "      <th>taxamount</th>\n",
       "      <th>logerror</th>\n",
       "      <th>transactiondate</th>\n",
       "      <th>heatingorsystemdesc</th>\n",
       "      <th>age</th>\n",
       "      <th>taxrate</th>\n",
       "      <th>acres</th>\n",
       "      <th>price_per_sqft</th>\n",
       "      <th>lotsize_per_sqft</th>\n",
       "      <th>bed_bath_ratio</th>\n",
       "    </tr>\n",
       "  </thead>\n",
       "  <tbody>\n",
       "    <tr>\n",
       "      <th>0</th>\n",
       "      <td>3.5</td>\n",
       "      <td>4.0</td>\n",
       "      <td>NaN</td>\n",
       "      <td>3100.0</td>\n",
       "      <td>6059.0</td>\n",
       "      <td>3.0</td>\n",
       "      <td>33634931.0</td>\n",
       "      <td>-117869207.0</td>\n",
       "      <td>4506.0</td>\n",
       "      <td>122</td>\n",
       "      <td>...</td>\n",
       "      <td>11013.72</td>\n",
       "      <td>0.025595</td>\n",
       "      <td>2017-01-01</td>\n",
       "      <td>none</td>\n",
       "      <td>19.0</td>\n",
       "      <td>0.010763</td>\n",
       "      <td>0.103444</td>\n",
       "      <td>330.090968</td>\n",
       "      <td>227.093209</td>\n",
       "      <td>1.142857</td>\n",
       "    </tr>\n",
       "    <tr>\n",
       "      <th>1</th>\n",
       "      <td>1.0</td>\n",
       "      <td>2.0</td>\n",
       "      <td>NaN</td>\n",
       "      <td>1465.0</td>\n",
       "      <td>6111.0</td>\n",
       "      <td>1.0</td>\n",
       "      <td>34449266.0</td>\n",
       "      <td>-119281531.0</td>\n",
       "      <td>12647.0</td>\n",
       "      <td>1110</td>\n",
       "      <td>...</td>\n",
       "      <td>5672.48</td>\n",
       "      <td>0.055619</td>\n",
       "      <td>2017-01-01</td>\n",
       "      <td>none</td>\n",
       "      <td>50.0</td>\n",
       "      <td>0.012225</td>\n",
       "      <td>0.290335</td>\n",
       "      <td>316.723549</td>\n",
       "      <td>36.688543</td>\n",
       "      <td>2.000000</td>\n",
       "    </tr>\n",
       "    <tr>\n",
       "      <th>2</th>\n",
       "      <td>2.0</td>\n",
       "      <td>3.0</td>\n",
       "      <td>NaN</td>\n",
       "      <td>1243.0</td>\n",
       "      <td>6059.0</td>\n",
       "      <td>2.0</td>\n",
       "      <td>33886168.0</td>\n",
       "      <td>-117823170.0</td>\n",
       "      <td>8432.0</td>\n",
       "      <td>122</td>\n",
       "      <td>...</td>\n",
       "      <td>6488.30</td>\n",
       "      <td>0.005383</td>\n",
       "      <td>2017-01-01</td>\n",
       "      <td>none</td>\n",
       "      <td>55.0</td>\n",
       "      <td>0.011488</td>\n",
       "      <td>0.193572</td>\n",
       "      <td>454.366854</td>\n",
       "      <td>66.980313</td>\n",
       "      <td>1.500000</td>\n",
       "    </tr>\n",
       "    <tr>\n",
       "      <th>3</th>\n",
       "      <td>3.0</td>\n",
       "      <td>4.0</td>\n",
       "      <td>8.0</td>\n",
       "      <td>2376.0</td>\n",
       "      <td>6037.0</td>\n",
       "      <td>3.0</td>\n",
       "      <td>34245180.0</td>\n",
       "      <td>-118240722.0</td>\n",
       "      <td>13038.0</td>\n",
       "      <td>0101</td>\n",
       "      <td>...</td>\n",
       "      <td>1777.51</td>\n",
       "      <td>-0.103410</td>\n",
       "      <td>2017-01-01</td>\n",
       "      <td>Central</td>\n",
       "      <td>47.0</td>\n",
       "      <td>0.012247</td>\n",
       "      <td>0.299311</td>\n",
       "      <td>61.087121</td>\n",
       "      <td>11.132306</td>\n",
       "      <td>1.333333</td>\n",
       "    </tr>\n",
       "    <tr>\n",
       "      <th>6</th>\n",
       "      <td>3.0</td>\n",
       "      <td>4.0</td>\n",
       "      <td>9.0</td>\n",
       "      <td>2962.0</td>\n",
       "      <td>6037.0</td>\n",
       "      <td>3.0</td>\n",
       "      <td>34145202.0</td>\n",
       "      <td>-118179824.0</td>\n",
       "      <td>63000.0</td>\n",
       "      <td>0101</td>\n",
       "      <td>...</td>\n",
       "      <td>9516.26</td>\n",
       "      <td>-0.001011</td>\n",
       "      <td>2017-01-01</td>\n",
       "      <td>Central</td>\n",
       "      <td>67.0</td>\n",
       "      <td>0.012306</td>\n",
       "      <td>1.446281</td>\n",
       "      <td>261.074612</td>\n",
       "      <td>12.274651</td>\n",
       "      <td>1.333333</td>\n",
       "    </tr>\n",
       "  </tbody>\n",
       "</table>\n",
       "<p>5 rows × 25 columns</p>\n",
       "</div>"
      ],
      "text/plain": [
       "   bathroomcnt  bedroomcnt  buildingqualitytypeid    sqft    fips  \\\n",
       "0          3.5         4.0                    NaN  3100.0  6059.0   \n",
       "1          1.0         2.0                    NaN  1465.0  6111.0   \n",
       "2          2.0         3.0                    NaN  1243.0  6059.0   \n",
       "3          3.0         4.0                    8.0  2376.0  6037.0   \n",
       "6          3.0         4.0                    9.0  2962.0  6037.0   \n",
       "\n",
       "   fullbathcnt    latitude    longitude  lotsizesquarefeet  \\\n",
       "0          3.0  33634931.0 -117869207.0             4506.0   \n",
       "1          1.0  34449266.0 -119281531.0            12647.0   \n",
       "2          2.0  33886168.0 -117823170.0             8432.0   \n",
       "3          3.0  34245180.0 -118240722.0            13038.0   \n",
       "6          3.0  34145202.0 -118179824.0            63000.0   \n",
       "\n",
       "  propertycountylandusecode  ...  taxamount  logerror  transactiondate  \\\n",
       "0                       122  ...   11013.72  0.025595       2017-01-01   \n",
       "1                      1110  ...    5672.48  0.055619       2017-01-01   \n",
       "2                       122  ...    6488.30  0.005383       2017-01-01   \n",
       "3                      0101  ...    1777.51 -0.103410       2017-01-01   \n",
       "6                      0101  ...    9516.26 -0.001011       2017-01-01   \n",
       "\n",
       "   heatingorsystemdesc   age   taxrate     acres price_per_sqft  \\\n",
       "0                 none  19.0  0.010763  0.103444     330.090968   \n",
       "1                 none  50.0  0.012225  0.290335     316.723549   \n",
       "2                 none  55.0  0.011488  0.193572     454.366854   \n",
       "3              Central  47.0  0.012247  0.299311      61.087121   \n",
       "6              Central  67.0  0.012306  1.446281     261.074612   \n",
       "\n",
       "  lotsize_per_sqft  bed_bath_ratio  \n",
       "0       227.093209        1.142857  \n",
       "1        36.688543        2.000000  \n",
       "2        66.980313        1.500000  \n",
       "3        11.132306        1.333333  \n",
       "6        12.274651        1.333333  \n",
       "\n",
       "[5 rows x 25 columns]"
      ]
     },
     "execution_count": 4,
     "metadata": {},
     "output_type": "execute_result"
    }
   ],
   "source": [
    "df=w.handle_missing_values(df, prop_required_column = .60, prop_required_row = .60)\n",
    "df.head()"
   ]
  },
  {
   "cell_type": "code",
   "execution_count": null,
   "metadata": {},
   "outputs": [],
   "source": [
    "train, validate, test =w.impute_missing_values(df)"
   ]
  },
  {
   "cell_type": "code",
   "execution_count": null,
   "metadata": {},
   "outputs": [],
   "source": [
    "train, validate, test = w.impute_missing_values_1(train, validate, test)\n",
    "train.head()\n",
    "train.isnull().sum()"
   ]
  },
  {
   "cell_type": "code",
   "execution_count": null,
   "metadata": {},
   "outputs": [],
   "source": [
    "train.describe().T"
   ]
  },
  {
   "cell_type": "code",
   "execution_count": null,
   "metadata": {},
   "outputs": [],
   "source": [
    "X_train, y_train, X_validate, y_validate, X_test, y_test = w.X_train_select(train, validate, test, target_var = 'logerror')"
   ]
  },
  {
   "cell_type": "code",
   "execution_count": null,
   "metadata": {},
   "outputs": [],
   "source": [
    "X_train.head()\n",
    "X_train.describe()\n",
    "X_train.shape\n"
   ]
  },
  {
   "cell_type": "code",
   "execution_count": null,
   "metadata": {},
   "outputs": [],
   "source": [
    "train.shape"
   ]
  },
  {
   "cell_type": "code",
   "execution_count": null,
   "metadata": {},
   "outputs": [],
   "source": [
    "train.info()"
   ]
  },
  {
   "cell_type": "code",
   "execution_count": null,
   "metadata": {},
   "outputs": [],
   "source": [
    "train.isnull().sum()"
   ]
  },
  {
   "cell_type": "code",
   "execution_count": null,
   "metadata": {},
   "outputs": [],
   "source": [
    "train.info()"
   ]
  },
  {
   "cell_type": "code",
   "execution_count": null,
   "metadata": {},
   "outputs": [],
   "source": [
    "def add_scaled_columns(X_train, X_validate, X_test, scaler, columns_to_scale):\n",
    "    \"\"\"This function takes the inputs from scale_zillow and scales the data\"\"\"\n",
    "    new_column_names = [c + '_scaled' for c in columns_to_scale]\n",
    "    scaler.fit(X_train[columns_to_scale])\n",
    "\n",
    "    X_train_scaled = pd.concat([\n",
    "        X_train,\n",
    "        pd.DataFrame(scaler.transform(X_train[columns_to_scale]), columns=new_column_names, index=X_train.index),\n",
    "    ], axis=1)\n",
    "    X_validate_scaled = pd.concat([\n",
    "        X_validate,\n",
    "        pd.DataFrame(scaler.transform(X_validate[columns_to_scale]), columns=new_column_names, index=X_validate.index),\n",
    "    ], axis=1)\n",
    "    X_test_scaled = pd.concat([\n",
    "        X_test,\n",
    "        pd.DataFrame(scaler.transform(X_test[columns_to_scale]), columns=new_column_names, index=X_test.index),\n",
    "    ], axis=1)\n",
    "    \n",
    "    return X_train_scaled, X_validate_scaled, X_test_scaled"
   ]
  },
  {
   "cell_type": "code",
   "execution_count": null,
   "metadata": {},
   "outputs": [],
   "source": [
    "scaler = StandardScaler()\n",
    "columns_to_scale = train.drop(columns=[\"logerror\",'propertycountylandusecode','transactiondate','heatingorsystemdesc']).columns.tolist()\n",
    "X_train_scaled, X_validate_scaled, X_test_scaled = w.add_scaled_columns(X_train, X_validate, X_test, scaler, columns_to_scale)"
   ]
  },
  {
   "cell_type": "code",
   "execution_count": null,
   "metadata": {},
   "outputs": [],
   "source": [
    "X_train_scaled"
   ]
  },
  {
   "cell_type": "code",
   "execution_count": null,
   "metadata": {},
   "outputs": [],
   "source": [
    "e.plot_variable_pairs(train)"
   ]
  },
  {
   "cell_type": "code",
   "execution_count": null,
   "metadata": {},
   "outputs": [],
   "source": [
    "e.plot_categorical_and_continuous_vars(cat_var, cont_var, df)"
   ]
  }
 ],
 "metadata": {
  "kernelspec": {
   "display_name": "Python 3",
   "language": "python",
   "name": "python3"
  },
  "language_info": {
   "codemirror_mode": {
    "name": "ipython",
    "version": 3
   },
   "file_extension": ".py",
   "mimetype": "text/x-python",
   "name": "python",
   "nbconvert_exporter": "python",
   "pygments_lexer": "ipython3",
   "version": "3.7.6"
  }
 },
 "nbformat": 4,
 "nbformat_minor": 4
}
