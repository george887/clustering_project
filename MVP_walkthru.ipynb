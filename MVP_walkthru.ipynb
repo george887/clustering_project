{
 "cells": [
  {
   "cell_type": "code",
   "execution_count": null,
   "metadata": {},
   "outputs": [],
   "source": [
    "import warnings\n",
    "warnings.filterwarnings(\"ignore\")\n",
    "\n",
    "import pandas as pd\n",
    "import numpy as np\n",
    "\n",
    "import matplotlib.pyplot as plt\n",
    "from matplotlib import cm\n",
    "import seaborn as sns\n",
    "\n",
    "from sklearn.model_selection import train_test_split\n",
    "from sklearn.preprocessing import StandardScaler, QuantileTransformer, PowerTransformer, RobustScaler, MinMaxScaler\n",
    "from sklearn.cluster import KMeans\n",
    "import wrangle_zillow as w\n",
    "import explore as e\n",
    "import scipy.stats as stats\n",
    "from sklearn.linear_model import LinearRegression, LassoLars\n",
    "from sklearn.preprocessing import PolynomialFeatures\n",
    "from sklearn.feature_selection import RFE\n",
    "from sklearn.metrics import mean_squared_error\n",
    "plt.rc(\"font\", size=13)\n",
    "plt.rc(\"figure\", figsize= (13,7))"
   ]
  },
  {
   "cell_type": "markdown",
   "metadata": {},
   "source": [
    "## Acquire the data"
   ]
  },
  {
   "cell_type": "code",
   "execution_count": 2,
   "metadata": {},
   "outputs": [],
   "source": [
    "df = w.get_zillow_data()"
   ]
  },
  {
   "cell_type": "code",
   "execution_count": 3,
   "metadata": {},
   "outputs": [],
   "source": [
    "def fips_labels(x):\n",
    "    if x['fips'] == 6037:\n",
    "        return 'Los Angeles County'\n",
    "    elif x['fips'] == 6059:\n",
    "        return 'Orange County'\n",
    "    elif x['fips'] == 6111:\n",
    "        return 'Ventura County'"
   ]
  },
  {
   "cell_type": "code",
   "execution_count": 4,
   "metadata": {},
   "outputs": [
    {
     "data": {
      "text/html": [
       "<div>\n",
       "<style scoped>\n",
       "    .dataframe tbody tr th:only-of-type {\n",
       "        vertical-align: middle;\n",
       "    }\n",
       "\n",
       "    .dataframe tbody tr th {\n",
       "        vertical-align: top;\n",
       "    }\n",
       "\n",
       "    .dataframe thead th {\n",
       "        text-align: right;\n",
       "    }\n",
       "</style>\n",
       "<table border=\"1\" class=\"dataframe\">\n",
       "  <thead>\n",
       "    <tr style=\"text-align: right;\">\n",
       "      <th></th>\n",
       "      <th>parcelid</th>\n",
       "      <th>typeconstructiontypeid</th>\n",
       "      <th>storytypeid</th>\n",
       "      <th>propertylandusetypeid</th>\n",
       "      <th>heatingorsystemtypeid</th>\n",
       "      <th>buildingclasstypeid</th>\n",
       "      <th>architecturalstyletypeid</th>\n",
       "      <th>airconditioningtypeid</th>\n",
       "      <th>id</th>\n",
       "      <th>basementsqft</th>\n",
       "      <th>...</th>\n",
       "      <th>logerror</th>\n",
       "      <th>transactiondate</th>\n",
       "      <th>airconditioningdesc</th>\n",
       "      <th>architecturalstyledesc</th>\n",
       "      <th>buildingclassdesc</th>\n",
       "      <th>heatingorsystemdesc</th>\n",
       "      <th>propertylandusedesc</th>\n",
       "      <th>storydesc</th>\n",
       "      <th>typeconstructiondesc</th>\n",
       "      <th>county</th>\n",
       "    </tr>\n",
       "  </thead>\n",
       "  <tbody>\n",
       "    <tr>\n",
       "      <th>0</th>\n",
       "      <td>14297519</td>\n",
       "      <td>NaN</td>\n",
       "      <td>NaN</td>\n",
       "      <td>261.0</td>\n",
       "      <td>NaN</td>\n",
       "      <td>NaN</td>\n",
       "      <td>NaN</td>\n",
       "      <td>NaN</td>\n",
       "      <td>1727539</td>\n",
       "      <td>NaN</td>\n",
       "      <td>...</td>\n",
       "      <td>0.025595</td>\n",
       "      <td>2017-01-01</td>\n",
       "      <td>NaN</td>\n",
       "      <td>NaN</td>\n",
       "      <td>NaN</td>\n",
       "      <td>NaN</td>\n",
       "      <td>Single Family Residential</td>\n",
       "      <td>NaN</td>\n",
       "      <td>NaN</td>\n",
       "      <td>Orange County</td>\n",
       "    </tr>\n",
       "    <tr>\n",
       "      <th>1</th>\n",
       "      <td>17052889</td>\n",
       "      <td>NaN</td>\n",
       "      <td>NaN</td>\n",
       "      <td>261.0</td>\n",
       "      <td>NaN</td>\n",
       "      <td>NaN</td>\n",
       "      <td>NaN</td>\n",
       "      <td>NaN</td>\n",
       "      <td>1387261</td>\n",
       "      <td>NaN</td>\n",
       "      <td>...</td>\n",
       "      <td>0.055619</td>\n",
       "      <td>2017-01-01</td>\n",
       "      <td>NaN</td>\n",
       "      <td>NaN</td>\n",
       "      <td>NaN</td>\n",
       "      <td>NaN</td>\n",
       "      <td>Single Family Residential</td>\n",
       "      <td>NaN</td>\n",
       "      <td>NaN</td>\n",
       "      <td>Ventura County</td>\n",
       "    </tr>\n",
       "    <tr>\n",
       "      <th>2</th>\n",
       "      <td>14186244</td>\n",
       "      <td>NaN</td>\n",
       "      <td>NaN</td>\n",
       "      <td>261.0</td>\n",
       "      <td>NaN</td>\n",
       "      <td>NaN</td>\n",
       "      <td>NaN</td>\n",
       "      <td>NaN</td>\n",
       "      <td>11677</td>\n",
       "      <td>NaN</td>\n",
       "      <td>...</td>\n",
       "      <td>0.005383</td>\n",
       "      <td>2017-01-01</td>\n",
       "      <td>NaN</td>\n",
       "      <td>NaN</td>\n",
       "      <td>NaN</td>\n",
       "      <td>NaN</td>\n",
       "      <td>Single Family Residential</td>\n",
       "      <td>NaN</td>\n",
       "      <td>NaN</td>\n",
       "      <td>Orange County</td>\n",
       "    </tr>\n",
       "    <tr>\n",
       "      <th>3</th>\n",
       "      <td>12177905</td>\n",
       "      <td>NaN</td>\n",
       "      <td>NaN</td>\n",
       "      <td>261.0</td>\n",
       "      <td>2.0</td>\n",
       "      <td>NaN</td>\n",
       "      <td>NaN</td>\n",
       "      <td>NaN</td>\n",
       "      <td>2288172</td>\n",
       "      <td>NaN</td>\n",
       "      <td>...</td>\n",
       "      <td>-0.103410</td>\n",
       "      <td>2017-01-01</td>\n",
       "      <td>NaN</td>\n",
       "      <td>NaN</td>\n",
       "      <td>NaN</td>\n",
       "      <td>Central</td>\n",
       "      <td>Single Family Residential</td>\n",
       "      <td>NaN</td>\n",
       "      <td>NaN</td>\n",
       "      <td>Los Angeles County</td>\n",
       "    </tr>\n",
       "    <tr>\n",
       "      <th>4</th>\n",
       "      <td>10887214</td>\n",
       "      <td>NaN</td>\n",
       "      <td>NaN</td>\n",
       "      <td>266.0</td>\n",
       "      <td>2.0</td>\n",
       "      <td>NaN</td>\n",
       "      <td>NaN</td>\n",
       "      <td>1.0</td>\n",
       "      <td>1970746</td>\n",
       "      <td>NaN</td>\n",
       "      <td>...</td>\n",
       "      <td>0.006940</td>\n",
       "      <td>2017-01-01</td>\n",
       "      <td>Central</td>\n",
       "      <td>NaN</td>\n",
       "      <td>NaN</td>\n",
       "      <td>Central</td>\n",
       "      <td>Condominium</td>\n",
       "      <td>NaN</td>\n",
       "      <td>NaN</td>\n",
       "      <td>Los Angeles County</td>\n",
       "    </tr>\n",
       "  </tbody>\n",
       "</table>\n",
       "<p>5 rows × 70 columns</p>\n",
       "</div>"
      ],
      "text/plain": [
       "   parcelid  typeconstructiontypeid  storytypeid  propertylandusetypeid  \\\n",
       "0  14297519                     NaN          NaN                  261.0   \n",
       "1  17052889                     NaN          NaN                  261.0   \n",
       "2  14186244                     NaN          NaN                  261.0   \n",
       "3  12177905                     NaN          NaN                  261.0   \n",
       "4  10887214                     NaN          NaN                  266.0   \n",
       "\n",
       "   heatingorsystemtypeid  buildingclasstypeid  architecturalstyletypeid  \\\n",
       "0                    NaN                  NaN                       NaN   \n",
       "1                    NaN                  NaN                       NaN   \n",
       "2                    NaN                  NaN                       NaN   \n",
       "3                    2.0                  NaN                       NaN   \n",
       "4                    2.0                  NaN                       NaN   \n",
       "\n",
       "   airconditioningtypeid       id  basementsqft  ...  logerror  \\\n",
       "0                    NaN  1727539           NaN  ...  0.025595   \n",
       "1                    NaN  1387261           NaN  ...  0.055619   \n",
       "2                    NaN    11677           NaN  ...  0.005383   \n",
       "3                    NaN  2288172           NaN  ... -0.103410   \n",
       "4                    1.0  1970746           NaN  ...  0.006940   \n",
       "\n",
       "   transactiondate  airconditioningdesc  architecturalstyledesc  \\\n",
       "0       2017-01-01                  NaN                     NaN   \n",
       "1       2017-01-01                  NaN                     NaN   \n",
       "2       2017-01-01                  NaN                     NaN   \n",
       "3       2017-01-01                  NaN                     NaN   \n",
       "4       2017-01-01              Central                     NaN   \n",
       "\n",
       "   buildingclassdesc  heatingorsystemdesc        propertylandusedesc  \\\n",
       "0                NaN                  NaN  Single Family Residential   \n",
       "1                NaN                  NaN  Single Family Residential   \n",
       "2                NaN                  NaN  Single Family Residential   \n",
       "3                NaN              Central  Single Family Residential   \n",
       "4                NaN              Central                Condominium   \n",
       "\n",
       "   storydesc  typeconstructiondesc              county  \n",
       "0        NaN                   NaN       Orange County  \n",
       "1        NaN                   NaN      Ventura County  \n",
       "2        NaN                   NaN       Orange County  \n",
       "3        NaN                   NaN  Los Angeles County  \n",
       "4        NaN                   NaN  Los Angeles County  \n",
       "\n",
       "[5 rows x 70 columns]"
      ]
     },
     "execution_count": 4,
     "metadata": {},
     "output_type": "execute_result"
    }
   ],
   "source": [
    "# Creating a county column\n",
    "df['county'] = df.apply(lambda x: fips_labels(x), axis=1)\n",
    "df.head()"
   ]
  },
  {
   "cell_type": "markdown",
   "metadata": {},
   "source": [
    "## Set up filters for properites\n",
    "    - Propertylandusetypeid = [260,261,262,279]\n",
    "    - Bedroomcnt > 0 and < 6\n",
    "    - Bathroomcnt > 0 and < 5\n",
    "    - Sqft < 7000\n",
    "    - Unitcnt nulls == 1\n",
    "    - Heatingorsystemdesc nulls replaced as “none”\n",
    "    - Required columns and rows set at 60%. Anything below was dropped\n",
    "    - Categorical variables with an acceptable amount of nulls missing replaced with the mode\n",
    "    - Continuous variables with an acceptable amount of nulls missing replaced with the median"
   ]
  },
  {
   "cell_type": "code",
   "execution_count": 5,
   "metadata": {},
   "outputs": [],
   "source": [
    "df= w.single_unit_properties(df)\n",
    "df=w.handle_missing_values(df, prop_required_column = .60, prop_required_row = .60)\n",
    "train, validate, test =w.impute_missing_values(df)\n",
    "train, validate, test = w.impute_missing_values_1(train, validate, test)"
   ]
  },
  {
   "cell_type": "markdown",
   "metadata": {},
   "source": [
    "## Quick visual of data"
   ]
  },
  {
   "cell_type": "code",
   "execution_count": null,
   "metadata": {},
   "outputs": [],
   "source": [
    "for col in train.columns:\n",
    "    plt.figure(figsize=(4,2))\n",
    "    plt.hist(train[col])\n",
    "    plt.title(col)\n",
    "    plt.show()"
   ]
  },
  {
   "cell_type": "markdown",
   "metadata": {},
   "source": [
    "## Features normally distributed\n",
    "    - bedroomcnt\n",
    "    - building quality type id\n",
    "    - fullbathcnt\n",
    "    - latitude\n",
    "    - year built\n",
    "    - age\n",
    "    - bed bath ratio\n",
    "    \n",
    "## Features skewed right\n",
    "    - sqft\n",
    "    \n",
    "## Features skewed left\n",
    "    - longitude\n",
    "    "
   ]
  },
  {
   "cell_type": "markdown",
   "metadata": {},
   "source": [
    "## Is there a relationship between price_per_sqft and logerror?"
   ]
  },
  {
   "cell_type": "code",
   "execution_count": null,
   "metadata": {},
   "outputs": [],
   "source": [
    "sns.scatterplot(data=train, x='price_per_sqft', y='logerror')\n",
    "plt.title('Is there a relationship between price per sqft and logerror?')\n",
    "plt.show()"
   ]
  },
  {
   "cell_type": "code",
   "execution_count": 6,
   "metadata": {},
   "outputs": [],
   "source": [
    "train['binned_price_per_sqft'] = pd.cut(train.price_per_sqft, [0,1000,2000,5000] , labels=[\"small\", \"medium\", \"large\"])\n",
    "validate['binned_price_per_sqft'] = pd.cut(validate.price_per_sqft, [0,1000,2000,5000] , labels=[\"small\", \"medium\", \"large\"])\n",
    "test['binned_price_per_sqft'] = pd.cut(test.price_per_sqft, [0,1000,2000,5000] , labels=[\"small\", \"medium\", \"large\"])"
   ]
  },
  {
   "cell_type": "code",
   "execution_count": null,
   "metadata": {},
   "outputs": [],
   "source": [
    "plt.figure(figsize=(15,9))\n",
    "sns.boxplot(x= 'binned_price_per_sqft', y = 'logerror', data = train)\n",
    "plt.title('Is there a relationship between price per sqft and logerror?')\n",
    "plt.show()"
   ]
  },
  {
   "cell_type": "markdown",
   "metadata": {},
   "source": [
    "## Hard to see if there is a correlation here. Going to run a statistical test (ANOVA) to see if there is a significance in the means of price per sqft and log error."
   ]
  },
  {
   "cell_type": "code",
   "execution_count": 7,
   "metadata": {},
   "outputs": [],
   "source": [
    "small_price_per_sqft_ratio = train[train.binned_price_per_sqft == 'small'].price_per_sqft\n",
    "medium_price_per_sqft_ratio = train[train.binned_price_per_sqft == 'medium'].price_per_sqft\n",
    "large_price_per_sqft_ratio = train[train.binned_price_per_sqft == 'large'].price_per_sqft"
   ]
  },
  {
   "cell_type": "markdown",
   "metadata": {},
   "source": [
    "- Ho: Means of binned price_per_sqft_ratio small, medium, large are equal\n",
    "- Ha: Means of binned price_per_sqft_ratio, medium, large are not equal\n",
    "- alpha = .05"
   ]
  },
  {
   "cell_type": "code",
   "execution_count": null,
   "metadata": {},
   "outputs": [],
   "source": [
    "f, p = stats.f_oneway(small_price_per_sqft_ratio, medium_price_per_sqft_ratio, large_price_per_sqft_ratio)\n",
    "f, p"
   ]
  },
  {
   "cell_type": "markdown",
   "metadata": {},
   "source": [
    "- We reject the null Hypothesis. p-value is less than alpha. The means of binned price per sqft ratio are not equal."
   ]
  },
  {
   "cell_type": "markdown",
   "metadata": {},
   "source": [
    "## Is there a relationship between  bed_bath_ratio and logerror?"
   ]
  },
  {
   "cell_type": "code",
   "execution_count": null,
   "metadata": {},
   "outputs": [],
   "source": [
    "ax = sns.barplot(x= 'bed_bath_ratio', y = 'logerror', data = train)\n",
    "plt.title('Is there a relationship between bed bath ratio and logerror?')\n",
    "sns.set_style('ticks')\n",
    "plt.tight_layout()"
   ]
  },
  {
   "cell_type": "code",
   "execution_count": 8,
   "metadata": {},
   "outputs": [],
   "source": [
    "train['binned_bed_bath_ratio'] = pd.qcut(train.bed_bath_ratio, 3, labels=[\"small\", \"medium\", \"large\"])\n",
    "validate['binned_bed_bath_ratio'] = pd.qcut(train.bed_bath_ratio, 3, labels=[\"small\", \"medium\", \"large\"])\n",
    "test['binned_bed_bath_ratio'] = pd.qcut(train.bed_bath_ratio, 3, labels=[\"small\", \"medium\", \"large\"])"
   ]
  },
  {
   "cell_type": "code",
   "execution_count": null,
   "metadata": {},
   "outputs": [],
   "source": [
    "sns.barplot(x= 'binned_bed_bath_ratio', y = 'logerror', data = train)\n",
    "plt.title('Is there a relationship between bed bath ratio and logerror?')\n",
    "plt.show()"
   ]
  },
  {
   "cell_type": "markdown",
   "metadata": {},
   "source": [
    "## Going to run a Annova Test to see if there is a significance in bed_bath_ratio to logerror"
   ]
  },
  {
   "cell_type": "code",
   "execution_count": null,
   "metadata": {},
   "outputs": [],
   "source": [
    "small_bed_bath_ratio = train[train.binned_bed_bath_ratio == 'small'].bed_bath_ratio\n",
    "medium_bed_bath_ratio = train[train.binned_bed_bath_ratio == 'medium'].bed_bath_ratio\n",
    "large_bed_bath_ratio = train[train.binned_bed_bath_ratio == 'large'].bed_bath_ratio"
   ]
  },
  {
   "cell_type": "markdown",
   "metadata": {},
   "source": [
    " - Ho: Means of binned bed_bath_ratio small, medium, large are equal\n",
    " - Ha: Means of binned bed_bath_ratio small, medium, large are not equal\n",
    " - alpha = .05"
   ]
  },
  {
   "cell_type": "code",
   "execution_count": null,
   "metadata": {},
   "outputs": [],
   "source": [
    "f, p = stats.f_oneway(small_bed_bath_ratio, medium_bed_bath_ratio, large_bed_bath_ratio)\n",
    "f, p"
   ]
  },
  {
   "cell_type": "markdown",
   "metadata": {},
   "source": [
    "## Heat map showing how the variables correlate to each other"
   ]
  },
  {
   "cell_type": "code",
   "execution_count": null,
   "metadata": {},
   "outputs": [],
   "source": [
    "plt.figure(figsize=(14,10))\n",
    "sns.heatmap(train.corr(),\n",
    "            vmin = -1, \n",
    "            cmap='coolwarm',\n",
    "           annot=False).set_title(\"Zillow Heatmap\", fontsize=20);"
   ]
  },
  {
   "cell_type": "code",
   "execution_count": null,
   "metadata": {
    "scrolled": false
   },
   "outputs": [],
   "source": [
    "sns.scatterplot(data=train, x='lotsize_per_sqft', y='logerror')\n",
    "plt.title('Is there a relationship between lot size per sqft and logerror?')\n",
    "plt.show()"
   ]
  },
  {
   "cell_type": "markdown",
   "metadata": {},
   "source": [
    "    - There appears to be a lot of error on the different lot sizes up to 300 or so before leveling off."
   ]
  },
  {
   "cell_type": "code",
   "execution_count": 9,
   "metadata": {},
   "outputs": [],
   "source": [
    " X_train, y_train, X_validate, y_validate, X_test, y_test = w.X_train_select(train, validate, test, target_var = 'logerror')"
   ]
  },
  {
   "cell_type": "code",
   "execution_count": null,
   "metadata": {},
   "outputs": [],
   "source": [
    "sns.regplot(data=train, x='lotsize_per_sqft', y='price_per_sqft')\n",
    "plt.title('Is there a relationship between lot size per sqft and price per sqft?')\n",
    "plt.show()"
   ]
  },
  {
   "cell_type": "code",
   "execution_count": null,
   "metadata": {},
   "outputs": [],
   "source": [
    "e.rfe_ranker(train)"
   ]
  },
  {
   "cell_type": "markdown",
   "metadata": {},
   "source": [
    "### After editing my variables to rank I will look more into building quality type id, age, bed bath ratio, and price_per sqft"
   ]
  },
  {
   "cell_type": "markdown",
   "metadata": {},
   "source": [
    "# Building quality type id and bed bath ratio clusters (n_clusters = 4)"
   ]
  },
  {
   "cell_type": "markdown",
   "metadata": {},
   "source": [
    "### Setting my scaler I want to use along with the variables I want to scale"
   ]
  },
  {
   "cell_type": "code",
   "execution_count": 14,
   "metadata": {},
   "outputs": [],
   "source": [
    "scaler = StandardScaler()\n",
    "columns_to_scale = train.drop(columns=['county',\"logerror\",'propertycountylandusecode','transactiondate','heatingorsystemdesc','binned_price_per_sqft','binned_bed_bath_ratio']).columns.tolist()\n",
    "X_train_scaled, X_validate_scaled, X_test_scaled = w.add_scaled_columns(X_train, X_validate, X_test, scaler, columns_to_scale)"
   ]
  },
  {
   "cell_type": "code",
   "execution_count": 15,
   "metadata": {},
   "outputs": [
    {
     "name": "stdout",
     "output_type": "stream",
     "text": [
      "     k           sse\n",
      "0    2  27089.225004\n",
      "1    3  11054.378001\n",
      "2    4   8823.969256\n",
      "3    5   6935.462351\n",
      "4    6   5329.997975\n",
      "5    7   3958.208571\n",
      "6    8   3418.340248\n",
      "7    9   2847.430228\n",
      "8   10   2371.995472\n",
      "9   11   1912.702320\n",
      "10  12   1637.707561\n",
      "11  13   1282.800761\n",
      "12  14   1176.201197\n",
      "13  15    988.736102\n",
      "14  16    910.996203\n",
      "15  17    813.000832\n",
      "16  18    706.293683\n",
      "17  19    648.304686\n"
     ]
    },
    {
     "data": {
      "image/png": "[encoded data removed]",
      "text/plain": [
       "<Figure size 936x504 with 1 Axes>"
      ]
     },
     "metadata": {
      "needs_background": "light"
     },
     "output_type": "display_data"
    }
   ],
   "source": [
    "home_vars = ['buildingqualitytypeid', 'bed_bath_ratio']\n",
    "e.elbow_plot(X_train_scaled, cluster_vars = home_vars)"
   ]
  },
  {
   "cell_type": "markdown",
   "metadata": {},
   "source": [
    "### k of 4 or 5 looks good. Going to use 4"
   ]
  },
  {
   "cell_type": "code",
   "execution_count": 16,
   "metadata": {},
   "outputs": [],
   "source": [
    "train_clusters, kmeans = e.run_kmeans(X_train, X_train_scaled, k=4, \n",
    "                                    cluster_vars = ['buildingqualitytypeid', 'bed_bath_ratio'], \n",
    "                                    cluster_col_name = 'home_cluster')"
   ]
  },
  {
   "cell_type": "code",
   "execution_count": 17,
   "metadata": {},
   "outputs": [],
   "source": [
    "centroid_col_names = ['centroid_' + i for i in home_vars]\n",
    "centroid_col_names\n",
    "\n",
    "centroids = pd.DataFrame(kmeans.cluster_centers_, \n",
    "             columns=centroid_col_names).reset_index().rename(columns={'index': 'home_cluster'})"
   ]
  },
  {
   "cell_type": "code",
   "execution_count": 18,
   "metadata": {},
   "outputs": [],
   "source": [
    "# concatenate cluster id\n",
    "X_train = pd.concat([X_train, train_clusters], axis=1)\n",
    "\n",
    "#join on clusterid to get centroids\n",
    "X_train = X_train.merge(centroids, how='left', on='home_cluster').\\\n",
    "                set_index(X_train.index)"
   ]
  },
  {
   "cell_type": "code",
   "execution_count": 23,
   "metadata": {},
   "outputs": [
    {
     "ename": "ValueError",
     "evalue": "The column label 'home_cluster' is not unique.",
     "output_type": "error",
     "traceback": [
      "\u001b[0;31m---------------------------------------------------------------------------\u001b[0m",
      "\u001b[0;31mValueError\u001b[0m                                Traceback (most recent call last)",
      "\u001b[0;32m<ipython-input-23-8671085551da>\u001b[0m in \u001b[0;36m<module>\u001b[0;34m\u001b[0m\n\u001b[1;32m      4\u001b[0m \u001b[0;34m\u001b[0m\u001b[0m\n\u001b[1;32m      5\u001b[0m \u001b[0;31m# join on clusterid to get centroids\u001b[0m\u001b[0;34m\u001b[0m\u001b[0;34m\u001b[0m\u001b[0;34m\u001b[0m\u001b[0m\n\u001b[0;32m----> 6\u001b[0;31m \u001b[0mX_train_scaled\u001b[0m \u001b[0;34m=\u001b[0m \u001b[0mX_train_scaled\u001b[0m\u001b[0;34m.\u001b[0m\u001b[0mmerge\u001b[0m\u001b[0;34m(\u001b[0m\u001b[0mcentroids\u001b[0m\u001b[0;34m,\u001b[0m \u001b[0mhow\u001b[0m\u001b[0;34m=\u001b[0m\u001b[0;34m'left'\u001b[0m\u001b[0;34m,\u001b[0m \u001b[0mon\u001b[0m\u001b[0;34m=\u001b[0m\u001b[0;34m'home_cluster'\u001b[0m\u001b[0;34m)\u001b[0m\u001b[0;34m.\u001b[0m\u001b[0;31m\\\u001b[0m\u001b[0;34m\u001b[0m\u001b[0;34m\u001b[0m\u001b[0m\n\u001b[0m\u001b[1;32m      7\u001b[0m                 \u001b[0mset_index\u001b[0m\u001b[0;34m(\u001b[0m\u001b[0mX_train\u001b[0m\u001b[0;34m.\u001b[0m\u001b[0mindex\u001b[0m\u001b[0;34m)\u001b[0m\u001b[0;34m\u001b[0m\u001b[0;34m\u001b[0m\u001b[0m\n",
      "\u001b[0;32m/usr/local/anaconda3/lib/python3.7/site-packages/pandas/core/frame.py\u001b[0m in \u001b[0;36mmerge\u001b[0;34m(self, right, how, on, left_on, right_on, left_index, right_index, sort, suffixes, copy, indicator, validate)\u001b[0m\n\u001b[1;32m   7295\u001b[0m             \u001b[0mcopy\u001b[0m\u001b[0;34m=\u001b[0m\u001b[0mcopy\u001b[0m\u001b[0;34m,\u001b[0m\u001b[0;34m\u001b[0m\u001b[0;34m\u001b[0m\u001b[0m\n\u001b[1;32m   7296\u001b[0m             \u001b[0mindicator\u001b[0m\u001b[0;34m=\u001b[0m\u001b[0mindicator\u001b[0m\u001b[0;34m,\u001b[0m\u001b[0;34m\u001b[0m\u001b[0;34m\u001b[0m\u001b[0m\n\u001b[0;32m-> 7297\u001b[0;31m             \u001b[0mvalidate\u001b[0m\u001b[0;34m=\u001b[0m\u001b[0mvalidate\u001b[0m\u001b[0;34m,\u001b[0m\u001b[0;34m\u001b[0m\u001b[0;34m\u001b[0m\u001b[0m\n\u001b[0m\u001b[1;32m   7298\u001b[0m         )\n\u001b[1;32m   7299\u001b[0m \u001b[0;34m\u001b[0m\u001b[0m\n",
      "\u001b[0;32m/usr/local/anaconda3/lib/python3.7/site-packages/pandas/core/reshape/merge.py\u001b[0m in \u001b[0;36mmerge\u001b[0;34m(left, right, how, on, left_on, right_on, left_index, right_index, sort, suffixes, copy, indicator, validate)\u001b[0m\n\u001b[1;32m     84\u001b[0m         \u001b[0mcopy\u001b[0m\u001b[0;34m=\u001b[0m\u001b[0mcopy\u001b[0m\u001b[0;34m,\u001b[0m\u001b[0;34m\u001b[0m\u001b[0;34m\u001b[0m\u001b[0m\n\u001b[1;32m     85\u001b[0m         \u001b[0mindicator\u001b[0m\u001b[0;34m=\u001b[0m\u001b[0mindicator\u001b[0m\u001b[0;34m,\u001b[0m\u001b[0;34m\u001b[0m\u001b[0;34m\u001b[0m\u001b[0m\n\u001b[0;32m---> 86\u001b[0;31m         \u001b[0mvalidate\u001b[0m\u001b[0;34m=\u001b[0m\u001b[0mvalidate\u001b[0m\u001b[0;34m,\u001b[0m\u001b[0;34m\u001b[0m\u001b[0;34m\u001b[0m\u001b[0m\n\u001b[0m\u001b[1;32m     87\u001b[0m     )\n\u001b[1;32m     88\u001b[0m     \u001b[0;32mreturn\u001b[0m \u001b[0mop\u001b[0m\u001b[0;34m.\u001b[0m\u001b[0mget_result\u001b[0m\u001b[0;34m(\u001b[0m\u001b[0;34m)\u001b[0m\u001b[0;34m\u001b[0m\u001b[0;34m\u001b[0m\u001b[0m\n",
      "\u001b[0;32m/usr/local/anaconda3/lib/python3.7/site-packages/pandas/core/reshape/merge.py\u001b[0m in \u001b[0;36m__init__\u001b[0;34m(self, left, right, how, on, left_on, right_on, axis, left_index, right_index, sort, suffixes, copy, indicator, validate)\u001b[0m\n\u001b[1;32m    625\u001b[0m             \u001b[0mself\u001b[0m\u001b[0;34m.\u001b[0m\u001b[0mright_join_keys\u001b[0m\u001b[0;34m,\u001b[0m\u001b[0;34m\u001b[0m\u001b[0;34m\u001b[0m\u001b[0m\n\u001b[1;32m    626\u001b[0m             \u001b[0mself\u001b[0m\u001b[0;34m.\u001b[0m\u001b[0mjoin_names\u001b[0m\u001b[0;34m,\u001b[0m\u001b[0;34m\u001b[0m\u001b[0;34m\u001b[0m\u001b[0m\n\u001b[0;32m--> 627\u001b[0;31m         ) = self._get_merge_keys()\n\u001b[0m\u001b[1;32m    628\u001b[0m \u001b[0;34m\u001b[0m\u001b[0m\n\u001b[1;32m    629\u001b[0m         \u001b[0;31m# validate the merge keys dtypes. We may need to coerce\u001b[0m\u001b[0;34m\u001b[0m\u001b[0;34m\u001b[0m\u001b[0;34m\u001b[0m\u001b[0m\n",
      "\u001b[0;32m/usr/local/anaconda3/lib/python3.7/site-packages/pandas/core/reshape/merge.py\u001b[0m in \u001b[0;36m_get_merge_keys\u001b[0;34m(self)\u001b[0m\n\u001b[1;32m    994\u001b[0m                         \u001b[0mright_keys\u001b[0m\u001b[0;34m.\u001b[0m\u001b[0mappend\u001b[0m\u001b[0;34m(\u001b[0m\u001b[0mrk\u001b[0m\u001b[0;34m)\u001b[0m\u001b[0;34m\u001b[0m\u001b[0;34m\u001b[0m\u001b[0m\n\u001b[1;32m    995\u001b[0m                     \u001b[0;32mif\u001b[0m \u001b[0mlk\u001b[0m \u001b[0;32mis\u001b[0m \u001b[0;32mnot\u001b[0m \u001b[0;32mNone\u001b[0m\u001b[0;34m:\u001b[0m\u001b[0;34m\u001b[0m\u001b[0;34m\u001b[0m\u001b[0m\n\u001b[0;32m--> 996\u001b[0;31m                         \u001b[0mleft_keys\u001b[0m\u001b[0;34m.\u001b[0m\u001b[0mappend\u001b[0m\u001b[0;34m(\u001b[0m\u001b[0mleft\u001b[0m\u001b[0;34m.\u001b[0m\u001b[0m_get_label_or_level_values\u001b[0m\u001b[0;34m(\u001b[0m\u001b[0mlk\u001b[0m\u001b[0;34m)\u001b[0m\u001b[0;34m)\u001b[0m\u001b[0;34m\u001b[0m\u001b[0;34m\u001b[0m\u001b[0m\n\u001b[0m\u001b[1;32m    997\u001b[0m                         \u001b[0mjoin_names\u001b[0m\u001b[0;34m.\u001b[0m\u001b[0mappend\u001b[0m\u001b[0;34m(\u001b[0m\u001b[0mlk\u001b[0m\u001b[0;34m)\u001b[0m\u001b[0;34m\u001b[0m\u001b[0;34m\u001b[0m\u001b[0m\n\u001b[1;32m    998\u001b[0m                     \u001b[0;32melse\u001b[0m\u001b[0;34m:\u001b[0m\u001b[0;34m\u001b[0m\u001b[0;34m\u001b[0m\u001b[0m\n",
      "\u001b[0;32m/usr/local/anaconda3/lib/python3.7/site-packages/pandas/core/generic.py\u001b[0m in \u001b[0;36m_get_label_or_level_values\u001b[0;34m(self, key, axis)\u001b[0m\n\u001b[1;32m   1708\u001b[0m             raise ValueError(\n\u001b[1;32m   1709\u001b[0m                 (\n\u001b[0;32m-> 1710\u001b[0;31m                     \u001b[0;34mf\"The {label_axis_name} label '{key}' \"\u001b[0m\u001b[0;34m\u001b[0m\u001b[0;34m\u001b[0m\u001b[0m\n\u001b[0m\u001b[1;32m   1711\u001b[0m                     \u001b[0;34mf\"is not unique.{multi_message}\"\u001b[0m\u001b[0;34m\u001b[0m\u001b[0;34m\u001b[0m\u001b[0m\n\u001b[1;32m   1712\u001b[0m                 )\n",
      "\u001b[0;31mValueError\u001b[0m: The column label 'home_cluster' is not unique."
     ]
    }
   ],
   "source": [
    "# concatenate cluster id\n",
    "X_train_scaled = pd.concat([X_train_scaled, train_clusters], \n",
    "                           axis=1)\n",
    "\n",
    "# join on clusterid to get centroids\n",
    "X_train_scaled = X_train_scaled.merge(centroids, how='left', on='home_cluster').\\\n",
    "                set_index(X_train.index)"
   ]
  },
  {
   "cell_type": "code",
   "execution_count": 29,
   "metadata": {},
   "outputs": [
    {
     "data": {
      "text/plain": [
       "<matplotlib.axes._subplots.AxesSubplot at 0x7fa9a25de850>"
      ]
     },
     "execution_count": 29,
     "metadata": {},
     "output_type": "execute_result"
    },
    {
     "data": {
      "image/png": "[encoded data removed]",
      "text/plain": [
       "<Figure size 936x504 with 1 Axes>"
      ]
     },
     "metadata": {
      "needs_background": "light"
     },
     "output_type": "display_data"
    }
   ],
   "source": [
    "fig, ax = plt.subplots(figsize=(13, 7))\n",
    "# for the column cluster, we can group by the cluster subset\n",
    "for cluster, subset in X_train.groupby('home_cluster'):\n",
    "    # Telling it to graph the cluster subset with the corresponding features\n",
    "    ax.scatter(subset.buildingqualitytypeid, subset.bed_bath_ratio, label=cluster)\n",
    "plt.title(\"Building Quality id and Bed Bath Ratio Clusters\")\n",
    "ax.legend(title='cluster')\n",
    "ax.set(ylabel='Bed Bath Ratio', xlabel='Building Quality id')\n",
    "# Making the X to lay on top of the scatter plot to see the mean() AKA centroid of each cluster\n",
    "X_train.groupby('home_cluster').mean().plot.scatter(y='bed_bath_ratio', x='buildingqualitytypeid', marker='x', s=1000, ax=ax, c='black')"
   ]
  },
  {
   "cell_type": "markdown",
   "metadata": {},
   "source": [
    "## Takeaways: No clear sign of distinct clusters. Going to move to the next test of clusters"
   ]
  },
  {
   "cell_type": "markdown",
   "metadata": {},
   "source": [
    "# Price per sqft and age clusters (n_clusters = 5)"
   ]
  },
  {
   "cell_type": "code",
   "execution_count": 31,
   "metadata": {},
   "outputs": [
    {
     "name": "stdout",
     "output_type": "stream",
     "text": [
      "     k           sse\n",
      "0    2  6.396598e+08\n",
      "1    3  3.586455e+08\n",
      "2    4  2.332054e+08\n",
      "3    5  1.638913e+08\n",
      "4    6  1.167755e+08\n",
      "5    7  8.947316e+07\n",
      "6    8  6.929735e+07\n",
      "7    9  5.729558e+07\n",
      "8   10  4.957980e+07\n",
      "9   11  4.339270e+07\n",
      "10  12  3.817290e+07\n",
      "11  13  3.430041e+07\n",
      "12  14  3.107203e+07\n",
      "13  15  2.843797e+07\n",
      "14  16  2.646406e+07\n",
      "15  17  2.475486e+07\n",
      "16  18  2.318939e+07\n",
      "17  19  2.177065e+07\n"
     ]
    },
    {
     "data": {
      "image/png": "[encoded data removed]",
      "text/plain": [
       "<Figure size 936x504 with 1 Axes>"
      ]
     },
     "metadata": {
      "needs_background": "light"
     },
     "output_type": "display_data"
    }
   ],
   "source": [
    "age_vars = ['price_per_sqft', 'age']\n",
    "e.elbow_plot(X_train_scaled, cluster_vars = age_vars)"
   ]
  },
  {
   "cell_type": "markdown",
   "metadata": {},
   "source": [
    "### k of 5 or 6 looks good. Going to use 5"
   ]
  },
  {
   "cell_type": "code",
   "execution_count": 32,
   "metadata": {},
   "outputs": [],
   "source": [
    "train_clusters, kmeans = e.run_kmeans(X_train, X_train_scaled, k=5, \n",
    "                                    cluster_vars = ['price_per_sqft', \n",
    "                                                    'age'], \n",
    "                                    cluster_col_name = 'age_cluster')"
   ]
  },
  {
   "cell_type": "code",
   "execution_count": 33,
   "metadata": {},
   "outputs": [],
   "source": [
    "centroid_col_names = ['centroid_' + i for i in age_vars]\n",
    "centroid_col_names\n",
    "\n",
    "centroids = pd.DataFrame(kmeans.cluster_centers_, \n",
    "             columns=centroid_col_names).reset_index().rename(columns={'index': 'age_cluster'})"
   ]
  },
  {
   "cell_type": "code",
   "execution_count": 34,
   "metadata": {},
   "outputs": [],
   "source": [
    "# concatenate cluster id\n",
    "X_train = pd.concat([X_train, train_clusters], axis=1)\n",
    "\n",
    "\n",
    "#join on clusterid to get centroids\n",
    "X_train = X_train.merge(centroids, how='left', on='age_cluster').\\\n",
    "                set_index(X_train.index)\n"
   ]
  },
  {
   "cell_type": "code",
   "execution_count": 35,
   "metadata": {},
   "outputs": [],
   "source": [
    "# concatenate cluster id\n",
    "X_train_scaled = pd.concat([X_train_scaled, train_clusters], \n",
    "                           axis=1)\n",
    "\n",
    "# join on clusterid to get centroids\n",
    "X_train_scaled = X_train_scaled.merge(centroids, how='left', on='age_cluster').\\\n",
    "                set_index(X_train.index)"
   ]
  },
  {
   "cell_type": "code",
   "execution_count": 37,
   "metadata": {},
   "outputs": [
    {
     "data": {
      "text/plain": [
       "<matplotlib.axes._subplots.AxesSubplot at 0x7fa9a521f9d0>"
      ]
     },
     "execution_count": 37,
     "metadata": {},
     "output_type": "execute_result"
    },
    {
     "data": {
      "image/png": "[encoded data removed]",
      "text/plain": [
       "<Figure size 936x504 with 1 Axes>"
      ]
     },
     "metadata": {
      "needs_background": "light"
     },
     "output_type": "display_data"
    }
   ],
   "source": [
    "fig, ax = plt.subplots(figsize=(13, 7))\n",
    "# for the column cluster, we can group by the cluster subset\n",
    "for cluster, subset in X_train.groupby('age_cluster'):\n",
    "    # Telling it to graph the cluster subset with the corresponding features\n",
    "    ax.scatter(subset.price_per_sqft, subset.age, label=cluster)\n",
    "plt.title(\"Price per sqft and Age Clusters\")\n",
    "ax.legend(title='cluster')\n",
    "ax.set(ylabel='Age', xlabel='Price per sqft')\n",
    "# Making the X to lay on top of the scatter plot to see the mean() AKA centroid of each cluster\n",
    "X_train.groupby('age_cluster').mean().plot.scatter(y='age', x='price_per_sqft', marker='x', s=1000, ax=ax, c='black')"
   ]
  },
  {
   "cell_type": "markdown",
   "metadata": {},
   "source": [
    "## Takeaways: Distinct vertical lines seperating clusters however, the age is all over the place."
   ]
  },
  {
   "cell_type": "markdown",
   "metadata": {},
   "source": [
    "### Setting my scaler I want to use along with the variables I want to scale"
   ]
  },
  {
   "cell_type": "code",
   "execution_count": null,
   "metadata": {},
   "outputs": [],
   "source": [
    "scaler = StandardScaler()\n",
    "columns_to_scale = train.drop(columns=['county',\"logerror\",'propertycountylandusecode','transactiondate','heatingorsystemdesc','binned_price_per_sqft','binned_bed_bath_ratio']).columns.tolist()\n",
    "X_train_scaled, X_validate_scaled, X_test_scaled = w.add_scaled_columns(X_train, X_validate, X_test, scaler, columns_to_scale)"
   ]
  },
  {
   "cell_type": "code",
   "execution_count": null,
   "metadata": {},
   "outputs": [],
   "source": [
    "X_train_scaled"
   ]
  },
  {
   "cell_type": "code",
   "execution_count": null,
   "metadata": {},
   "outputs": [],
   "source": [
    "X_validate_scaled"
   ]
  },
  {
   "cell_type": "code",
   "execution_count": null,
   "metadata": {},
   "outputs": [],
   "source": [
    "X_test_scaled"
   ]
  },
  {
   "cell_type": "markdown",
   "metadata": {},
   "source": [
    "## Price per sqft and lot size per sqft clusters (n_clusters = 4)"
   ]
  },
  {
   "cell_type": "code",
   "execution_count": null,
   "metadata": {},
   "outputs": [],
   "source": [
    "size_vars = ['price_per_sqft', 'lotsize_per_sqft']\n",
    "e.elbow_plot(X_train_scaled, cluster_vars = size_vars)"
   ]
  },
  {
   "cell_type": "code",
   "execution_count": null,
   "metadata": {},
   "outputs": [],
   "source": [
    "train_clusters, kmeans = e.run_kmeans(X_train, X_train_scaled, k=4, \n",
    "                                    cluster_vars = ['price_per_sqft', \n",
    "                                                    'lotsize_per_sqft'], \n",
    "                                    cluster_col_name = 'size_cluster')\n",
    "validate_clusters, kmeans = e.run_kmeans(X_validate, X_validate_scaled, k=4, \n",
    "                                    cluster_vars = ['price_per_sqft', \n",
    "                                                    'lotsize_per_sqft'], \n",
    "                                    cluster_col_name = 'size_cluster')\n",
    "test_clusters, kmeans = e.run_kmeans(X_test, X_test_scaled, k=4, \n",
    "                                    cluster_vars = ['price_per_sqft', \n",
    "                                                    'lotsize_per_sqft'], \n",
    "                                    cluster_col_name = 'size_cluster')"
   ]
  },
  {
   "cell_type": "code",
   "execution_count": null,
   "metadata": {},
   "outputs": [],
   "source": [
    "X_train_scaled.shape"
   ]
  },
  {
   "cell_type": "code",
   "execution_count": null,
   "metadata": {},
   "outputs": [],
   "source": [
    "X_validate_scaled.shape"
   ]
  },
  {
   "cell_type": "code",
   "execution_count": null,
   "metadata": {},
   "outputs": [],
   "source": [
    "X_test_scaled.shape"
   ]
  },
  {
   "cell_type": "code",
   "execution_count": null,
   "metadata": {},
   "outputs": [],
   "source": [
    "centroid_col_names = ['centroid_' + i for i in size_vars]\n",
    "centroid_col_names\n",
    "\n",
    "centroids = pd.DataFrame(kmeans.cluster_centers_, \n",
    "             columns=centroid_col_names).reset_index().rename(columns={'index': 'size_cluster'})"
   ]
  },
  {
   "cell_type": "code",
   "execution_count": null,
   "metadata": {},
   "outputs": [],
   "source": [
    "# concatenate cluster id\n",
    "X_train = pd.concat([X_train, train_clusters], axis=1)\n",
    "X_validate = pd.concat([X_validate, validate_clusters], axis=1)\n",
    "X_test = pd.concat([X_test, test_clusters], axis=1)\n",
    "\n",
    "#join on clusterid to get centroids\n",
    "X_train = X_train.merge(centroids, how='left', on='size_cluster').\\\n",
    "                set_index(X_train.index)\n",
    "X_validate = X_validate.merge(centroids, how='left', on='size_cluster').\\\n",
    "                set_index(X_validate.index)\n",
    "X_test = X_test.merge(centroids, how='left', on='size_cluster').\\\n",
    "                set_index(X_test.index)"
   ]
  },
  {
   "cell_type": "code",
   "execution_count": null,
   "metadata": {},
   "outputs": [],
   "source": [
    "# concatenate cluster id\n",
    "X_train_scaled = pd.concat([X_train_scaled, train_clusters], \n",
    "                           axis=1)\n",
    "X_validate_scaled = pd.concat([X_validate_scaled, validate_clusters], \n",
    "                           axis=1)\n",
    "X_test_scaled = pd.concat([X_test_scaled, test_clusters], \n",
    "                           axis=1)\n",
    "\n",
    "# join on clusterid to get centroids\n",
    "X_train_scaled = X_train_scaled.merge(centroids, how='left', on='size_cluster').\\\n",
    "                set_index(X_train.index)\n",
    "X_validate_scaled = X_validate_scaled.merge(centroids, how='left', on='size_cluster').\\\n",
    "                set_index(X_validate.index)\n",
    "X_test_scaled = X_test_scaled.merge(centroids, how='left', on='size_cluster').\\\n",
    "                set_index(X_test.index)"
   ]
  },
  {
   "cell_type": "code",
   "execution_count": null,
   "metadata": {},
   "outputs": [],
   "source": [
    "sns.scatterplot(x='price_per_sqft', y='lotsize_per_sqft', hue='size_cluster', data=X_train)\n",
    "plt.title(\"Price per SQFT and Lot size per sqft\")\n",
    "plt.show()"
   ]
  },
  {
   "cell_type": "code",
   "execution_count": null,
   "metadata": {},
   "outputs": [],
   "source": [
    "sns.boxplot(X_train.size_cluster, y_train.logerror)\n",
    "plt.ylim(-.07,.07)\n",
    "plt.show()"
   ]
  },
  {
   "cell_type": "code",
   "execution_count": null,
   "metadata": {},
   "outputs": [],
   "source": [
    "dummy_df = pd.get_dummies(X_train_scaled,\n",
    "                           columns=['size_cluster'], \n",
    "                           drop_first=True)\n",
    "dummy_df1 = pd.get_dummies(X_validate_scaled,\n",
    "                           columns=['size_cluster'], \n",
    "                           drop_first=True)\n",
    "dummy_df2 = pd.get_dummies(X_test_scaled,\n",
    "                           columns=['size_cluster'], \n",
    "                           drop_first=True)"
   ]
  },
  {
   "cell_type": "code",
   "execution_count": null,
   "metadata": {},
   "outputs": [],
   "source": [
    "X_train.groupby(['size_cluster'])['bed_bath_ratio', \n",
    "                                 'age', \n",
    "                                  'buildingqualitytypeid'].agg(['mean', 'median', \n",
    "                                               'std', 'min', 'max'])"
   ]
  },
  {
   "cell_type": "code",
   "execution_count": null,
   "metadata": {},
   "outputs": [],
   "source": [
    "X_train_scaled.columns"
   ]
  },
  {
   "cell_type": "code",
   "execution_count": null,
   "metadata": {},
   "outputs": [],
   "source": [
    "X_train_scaled = X_train_scaled.drop(columns = ['bathroomcnt', 'bedroomcnt', 'buildingqualitytypeid', 'sqft', 'fips',\n",
    "       'fullbathcnt', 'latitude', 'longitude', 'lotsizesquarefeet',\n",
    "       'propertycountylandusecode', 'roomcnt', 'unitcnt', 'yearbuilt',\n",
    "       'structuretaxvaluedollarcnt', 'home_value', 'taxamount',\n",
    "       'transactiondate', 'heatingorsystemdesc', 'county', 'age', 'taxrate',\n",
    "       'acres', 'price_per_sqft', 'lotsize_per_sqft', 'bed_bath_ratio',\n",
    "       'binned_price_per_sqft', 'binned_bed_bath_ratio','centroid_price_per_sqft',\n",
    "       'centroid_lotsize_per_sqft'])"
   ]
  },
  {
   "cell_type": "code",
   "execution_count": null,
   "metadata": {},
   "outputs": [],
   "source": [
    "X_validate_scaled = X_validate_scaled.drop(columns = ['bathroomcnt', 'bedroomcnt', 'buildingqualitytypeid', 'sqft', 'fips',\n",
    "       'fullbathcnt', 'latitude', 'longitude', 'lotsizesquarefeet',\n",
    "       'propertycountylandusecode', 'roomcnt', 'unitcnt', 'yearbuilt',\n",
    "       'structuretaxvaluedollarcnt', 'home_value', 'taxamount',\n",
    "       'transactiondate', 'heatingorsystemdesc', 'county', 'age', 'taxrate',\n",
    "       'acres', 'price_per_sqft', 'lotsize_per_sqft', 'bed_bath_ratio',\n",
    "       'binned_price_per_sqft', 'binned_bed_bath_ratio','centroid_price_per_sqft',\n",
    "       'centroid_lotsize_per_sqft'])"
   ]
  },
  {
   "cell_type": "code",
   "execution_count": null,
   "metadata": {},
   "outputs": [],
   "source": [
    "X_test_scaled = X_test_scaled.drop(columns = ['bathroomcnt', 'bedroomcnt', 'buildingqualitytypeid', 'sqft', 'fips',\n",
    "       'fullbathcnt', 'latitude', 'longitude', 'lotsizesquarefeet',\n",
    "       'propertycountylandusecode', 'roomcnt', 'unitcnt', 'yearbuilt',\n",
    "       'structuretaxvaluedollarcnt', 'home_value', 'taxamount',\n",
    "       'transactiondate', 'heatingorsystemdesc', 'county', 'age', 'taxrate',\n",
    "       'acres', 'price_per_sqft', 'lotsize_per_sqft', 'bed_bath_ratio',\n",
    "       'binned_price_per_sqft', 'binned_bed_bath_ratio','centroid_price_per_sqft',\n",
    "       'centroid_lotsize_per_sqft'])"
   ]
  },
  {
   "cell_type": "markdown",
   "metadata": {},
   "source": [
    "## Creating a baseline"
   ]
  },
  {
   "cell_type": "code",
   "execution_count": null,
   "metadata": {},
   "outputs": [],
   "source": [
    "sns.distplot(y_train, axlabel = 'Logerror')\n",
    "plt.xlim(-.6,.6)\n",
    "plt.ylim(0, 7)\n",
    "plt.title(\"Distribution of Dependent Variable (logerror)\")\n",
    "plt.show()"
   ]
  },
  {
   "cell_type": "code",
   "execution_count": null,
   "metadata": {},
   "outputs": [],
   "source": [
    "mean = np.mean(y_train)\n",
    "print(mean)"
   ]
  },
  {
   "cell_type": "code",
   "execution_count": null,
   "metadata": {},
   "outputs": [],
   "source": [
    "y_train.shape"
   ]
  },
  {
   "cell_type": "code",
   "execution_count": null,
   "metadata": {},
   "outputs": [],
   "source": [
    "baseline_rmse = mean_squared_error(y_train, np.full(28133, np.mean(y_train)))**(1/2)\n",
    "print (f'Baseline RMSE is {baseline_rmse}')"
   ]
  },
  {
   "cell_type": "markdown",
   "metadata": {},
   "source": [
    "# Linear Regression Model"
   ]
  },
  {
   "cell_type": "code",
   "execution_count": null,
   "metadata": {},
   "outputs": [],
   "source": [
    "# Initiate model\n",
    "lm = LinearRegression()\n",
    "# Fit the model\n",
    "lm.fit(X_train_scaled, y_train)\n",
    "# Make predictions\n",
    "lm_pred = lm.predict(X_train_scaled)\n",
    "# Compute RMSE\n",
    "lm_rmse = mean_squared_error(y_train, lm_pred)**(1/2)\n",
    "print(f' Linear Regression Train model RMSE is {lm_rmse}')"
   ]
  },
  {
   "cell_type": "markdown",
   "metadata": {},
   "source": [
    "# Lassolars Model"
   ]
  },
  {
   "cell_type": "code",
   "execution_count": null,
   "metadata": {},
   "outputs": [],
   "source": [
    "# Initiate model\n",
    "lars = LassoLars(alpha=1)\n",
    "# Fit the model\n",
    "lars.fit(X_train_scaled, y_train)\n",
    "# Make Predictions\n",
    "lars_pred = lars.predict(X_train_scaled)\n",
    "# Compute RMSE\n",
    "lars_rmse = mean_squared_error(y_train, lars_pred)**(1/2)\n",
    "print(f' Lassolars Train model RMSE is {lars_rmse}')"
   ]
  },
  {
   "cell_type": "code",
   "execution_count": null,
   "metadata": {},
   "outputs": [],
   "source": [
    "# Initiate model alpha set to 20\n",
    "lars2 = LassoLars(alpha=20)\n",
    "# Fit the model\n",
    "lars2.fit(X_train_scaled, y_train)\n",
    "# Make Predictions\n",
    "lars_pred2 = lars2.predict(X_train_scaled)\n",
    "# Compute RMSE\n",
    "lars_rmse2 = mean_squared_error(y_train, lars_pred2)**(1/2)\n",
    "print(f' Lassolars Train model RMSE is {lars_rmse2}')"
   ]
  },
  {
   "cell_type": "markdown",
   "metadata": {},
   "source": [
    "# Polynomial Features Model"
   ]
  },
  {
   "cell_type": "code",
   "execution_count": null,
   "metadata": {},
   "outputs": [],
   "source": [
    "# Initiate model\n",
    "pf = PolynomialFeatures(degree=2)\n",
    "\n",
    "# Fit and transform the model to get new features (originals squared)\n",
    "X_train_squared = pf.fit_transform(X_train_scaled)\n",
    "X_validate_squared = pf.transform(X_validate_scaled)  \n",
    "X_test_squared = pf.transform(X_test_scaled)          \n",
    "\n",
    "# New features inputed into linear model. \n",
    "lm_squared = LinearRegression(normalize=True)\n",
    "lm_squared.fit(X_train_squared, y_train)\n",
    "# Make predictions\n",
    "lm_squared_pred = lm_squared.predict(X_train_squared)\n",
    "# Compute RMSE\n",
    "lm_squared_rmse = mean_squared_error(y_train, lm_squared_pred)**(1/2)\n",
    "print(f' Polynomial Features model RMSE is {lm_squared_rmse}')"
   ]
  },
  {
   "cell_type": "markdown",
   "metadata": {},
   "source": [
    "### Take aways:\n",
    "    - Polynomial performed the best with a RMSE of 0.17220\n",
    "    - Linear Regression model was the 2nd best with a RMSE of 0.17330\n",
    "    - Both Lassolars models performed the same with an RMSE of 0.17374\n",
    "    - Going to validate on the 3 top models including the first Lassolars"
   ]
  },
  {
   "cell_type": "markdown",
   "metadata": {},
   "source": [
    "# Validate Linear Regression Model"
   ]
  },
  {
   "cell_type": "code",
   "execution_count": null,
   "metadata": {},
   "outputs": [],
   "source": [
    "# Make predictions\n",
    "lm_pred_v = lm.predict(X_validate_scaled)\n",
    "# Compute RMSE\n",
    "lm_rmse_v = mean_squared_error(y_validate, lm_pred_v)**(1/2)\n",
    "print(f' Linear Regression validate model RMSE is {lm_rmse_v}')"
   ]
  },
  {
   "cell_type": "markdown",
   "metadata": {},
   "source": [
    "# Validate Lassolars Model"
   ]
  },
  {
   "cell_type": "code",
   "execution_count": null,
   "metadata": {},
   "outputs": [],
   "source": [
    "# Make predictions\n",
    "lars_pred_v = lars.predict(X_validate_scaled)\n",
    "# Compute RMSE\n",
    "lars_rmse_v = mean_squared_error(y_validate, lars_pred_v)**(1/2)\n",
    "print(f' Lassolars validate model RMSE is {lars_rmse_v}')"
   ]
  },
  {
   "cell_type": "markdown",
   "metadata": {},
   "source": [
    "# Validate Polynomial Features Model"
   ]
  },
  {
   "cell_type": "code",
   "execution_count": null,
   "metadata": {},
   "outputs": [],
   "source": [
    "# Make predictions\n",
    "lm_squared_pred_v = lm_squared.predict(X_validate_squared)\n",
    "# Compute RMSE\n",
    "lm_squared_rmse_v = mean_squared_error(y_validate, lm_squared_pred_v)**(1/2)\n",
    "print(f' Polynomial validate model RMSE is {lm_squared_rmse_v}')"
   ]
  },
  {
   "cell_type": "markdown",
   "metadata": {},
   "source": [
    "### Takeaways:\n",
    "    - Lassolars and Linear Regression models did great on the validate stage. \n",
    "    - Lassolars RMSE = 0.16411 beat the Linear Regression RMSE = 0.16436\n",
    "    - Testing the Lassolars model"
   ]
  },
  {
   "cell_type": "markdown",
   "metadata": {},
   "source": [
    "# Testing the Lasolars Model "
   ]
  },
  {
   "cell_type": "code",
   "execution_count": null,
   "metadata": {},
   "outputs": [],
   "source": [
    "# Make predictions\n",
    "lars_pred_t = lars.predict(X_test_scaled)\n",
    "# Compute RMSE\n",
    "lars_rmse_t = mean_squared_error(y_test, lars_pred_t)**(1/2)\n",
    "print(f' Lassolars test model RMSE is {lars_rmse_t}')"
   ]
  },
  {
   "cell_type": "markdown",
   "metadata": {},
   "source": [
    "# Conclusion \n",
    "    - Test model did not out perform the baseline RMSE 0.17374\n",
    "    - Further testing needs to be done to see how different features can help reduce the RMSE\n",
    "    - If more time was available, I would look into the relationship of binned"
   ]
  },
  {
   "cell_type": "code",
   "execution_count": null,
   "metadata": {},
   "outputs": [],
   "source": []
  },
  {
   "cell_type": "code",
   "execution_count": null,
   "metadata": {},
   "outputs": [],
   "source": []
  },
  {
   "cell_type": "code",
   "execution_count": null,
   "metadata": {},
   "outputs": [],
   "source": []
  },
  {
   "cell_type": "markdown",
   "metadata": {},
   "source": [
    "## Building quality type id and bed bath ratio clusters (n_clusters = 4)"
   ]
  },
  {
   "cell_type": "code",
   "execution_count": null,
   "metadata": {},
   "outputs": [],
   "source": [
    "#home_vars = ['buildingqualitytypeid', 'bed_bath_ratio']\n",
    "e.elbow_plot(X_train_scaled, cluster_vars = home_vars) "
   ]
  },
  {
   "cell_type": "code",
   "execution_count": null,
   "metadata": {},
   "outputs": [],
   "source": [
    "train_clusters, kmeans = e.run_kmeans(X_train, X_train_scaled, k=4, \n",
    "                                    cluster_vars = ['buildingqualitytypeid', 'bed_bath_ratio'], \n",
    "                                    cluster_col_name = 'home_cluster')"
   ]
  },
  {
   "cell_type": "code",
   "execution_count": null,
   "metadata": {},
   "outputs": [],
   "source": [
    "centroid_col_names = ['centroid_' + i for i in home_vars]\n",
    "centroid_col_names\n",
    "\n",
    "centroids = pd.DataFrame(kmeans.cluster_centers_, \n",
    "             columns=centroid_col_names).reset_index().rename(columns={'index': 'home_cluster'})"
   ]
  },
  {
   "cell_type": "code",
   "execution_count": null,
   "metadata": {},
   "outputs": [],
   "source": [
    "centroids"
   ]
  },
  {
   "cell_type": "code",
   "execution_count": null,
   "metadata": {},
   "outputs": [],
   "source": [
    "# concatenate cluster id\n",
    "X_train = pd.concat([X_train, train_clusters], axis=1)\n",
    "X_validate = pd.concat([X_validate, validate_clusters], axis=1)\n",
    "X_test = pd.concat([X_test, test_clusters], axis=1)\n",
    "\n",
    "# join on clusterid to get centroids\n",
    "X_train = X_train.merge(centroids, how='left', on='home_cluster').\\\n",
    "                set_index(X_train.index)\n",
    "X_validate = X_validate.merge(centroids, how='left', on='home_cluster').\\\n",
    "                set_index(X_validate.index)\n",
    "X_test = X_test.merge(centroids, how='left', on='home_cluster').\\\n",
    "                set_index(X_test.index)"
   ]
  },
  {
   "cell_type": "code",
   "execution_count": null,
   "metadata": {},
   "outputs": [],
   "source": [
    "# concatenate cluster id\n",
    "X_train_scaled = pd.concat([X_train_scaled, train_clusters], \n",
    "                           axis=1)\n",
    "X_validate_scaled = pd.concat([X_validate_scaled, validate_clusters], \n",
    "                           axis=1)\n",
    "X_test_scaled = pd.concat([X_test_scaled, test_clusters], \n",
    "                           axis=1)\n",
    "\n",
    "# join on clusterid to get centroids\n",
    "X_train_scaled = X_train_scaled.merge(centroids, how='left', on='home_cluster').\\\n",
    "                set_index(X_train.index)\n",
    "X_validate_scaled = X_validate_scaled.merge(centroids, how='left', on='home_cluster').\\\n",
    "                set_index(X_validate.index)\n",
    "X_test_scaled = X_test_scaled.merge(centroids, how='left', on='home_cluster').\\\n",
    "                set_index(X_test.index)\n"
   ]
  },
  {
   "cell_type": "code",
   "execution_count": null,
   "metadata": {},
   "outputs": [],
   "source": [
    "X_train_scaled.head()"
   ]
  },
  {
   "cell_type": "code",
   "execution_count": null,
   "metadata": {},
   "outputs": [],
   "source": []
  }
 ],
 "metadata": {
  "kernelspec": {
   "display_name": "Python 3",
   "language": "python",
   "name": "python3"
  },
  "language_info": {
   "codemirror_mode": {
    "name": "ipython",
    "version": 3
   },
   "file_extension": ".py",
   "mimetype": "text/x-python",
   "name": "python",
   "nbconvert_exporter": "python",
   "pygments_lexer": "ipython3",
   "version": "3.7.6"
  }
 },
 "nbformat": 4,
 "nbformat_minor": 4
}
