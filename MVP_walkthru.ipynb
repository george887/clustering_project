{
 "cells": [
  {
   "cell_type": "code",
   "execution_count": 1,
   "metadata": {},
   "outputs": [],
   "source": [
    "import warnings\n",
    "warnings.filterwarnings(\"ignore\")\n",
    "\n",
    "import pandas as pd\n",
    "import numpy as np\n",
    "\n",
    "import matplotlib.pyplot as plt\n",
    "from matplotlib import cm\n",
    "import seaborn as sns\n",
    "\n",
    "from sklearn.model_selection import train_test_split\n",
    "from sklearn.preprocessing import StandardScaler, QuantileTransformer, PowerTransformer, RobustScaler, MinMaxScaler\n",
    "from sklearn.cluster import KMeans\n",
    "import wrangle_zillow as w\n",
    "import explore as e\n",
    "import scipy.stats as stats\n",
    "from sklearn.linear_model import LinearRegression, LassoLars\n",
    "from sklearn.preprocessing import PolynomialFeatures\n",
    "from sklearn.feature_selection import RFE\n",
    "from sklearn.metrics import mean_squared_error"
   ]
  },
  {
   "cell_type": "code",
   "execution_count": 2,
   "metadata": {},
   "outputs": [],
   "source": [
    "df = w.get_zillow_data()"
   ]
  },
  {
   "cell_type": "code",
   "execution_count": 3,
   "metadata": {},
   "outputs": [],
   "source": [
    "def fips_labels(x):\n",
    "    if x['fips'] == 6037:\n",
    "        return 'Los Angeles County'\n",
    "    elif x['fips'] == 6059:\n",
    "        return 'Orange County'\n",
    "    elif x['fips'] == 6111:\n",
    "        return 'Ventura County'"
   ]
  },
  {
   "cell_type": "code",
   "execution_count": 4,
   "metadata": {},
   "outputs": [
    {
     "data": {
      "text/html": [
       "<div>\n",
       "<style scoped>\n",
       "    .dataframe tbody tr th:only-of-type {\n",
       "        vertical-align: middle;\n",
       "    }\n",
       "\n",
       "    .dataframe tbody tr th {\n",
       "        vertical-align: top;\n",
       "    }\n",
       "\n",
       "    .dataframe thead th {\n",
       "        text-align: right;\n",
       "    }\n",
       "</style>\n",
       "<table border=\"1\" class=\"dataframe\">\n",
       "  <thead>\n",
       "    <tr style=\"text-align: right;\">\n",
       "      <th></th>\n",
       "      <th>parcelid</th>\n",
       "      <th>typeconstructiontypeid</th>\n",
       "      <th>storytypeid</th>\n",
       "      <th>propertylandusetypeid</th>\n",
       "      <th>heatingorsystemtypeid</th>\n",
       "      <th>buildingclasstypeid</th>\n",
       "      <th>architecturalstyletypeid</th>\n",
       "      <th>airconditioningtypeid</th>\n",
       "      <th>id</th>\n",
       "      <th>basementsqft</th>\n",
       "      <th>...</th>\n",
       "      <th>logerror</th>\n",
       "      <th>transactiondate</th>\n",
       "      <th>airconditioningdesc</th>\n",
       "      <th>architecturalstyledesc</th>\n",
       "      <th>buildingclassdesc</th>\n",
       "      <th>heatingorsystemdesc</th>\n",
       "      <th>propertylandusedesc</th>\n",
       "      <th>storydesc</th>\n",
       "      <th>typeconstructiondesc</th>\n",
       "      <th>county</th>\n",
       "    </tr>\n",
       "  </thead>\n",
       "  <tbody>\n",
       "    <tr>\n",
       "      <th>0</th>\n",
       "      <td>14297519</td>\n",
       "      <td>NaN</td>\n",
       "      <td>NaN</td>\n",
       "      <td>261.0</td>\n",
       "      <td>NaN</td>\n",
       "      <td>NaN</td>\n",
       "      <td>NaN</td>\n",
       "      <td>NaN</td>\n",
       "      <td>1727539</td>\n",
       "      <td>NaN</td>\n",
       "      <td>...</td>\n",
       "      <td>0.025595</td>\n",
       "      <td>2017-01-01</td>\n",
       "      <td>NaN</td>\n",
       "      <td>NaN</td>\n",
       "      <td>NaN</td>\n",
       "      <td>NaN</td>\n",
       "      <td>Single Family Residential</td>\n",
       "      <td>NaN</td>\n",
       "      <td>NaN</td>\n",
       "      <td>Orange County</td>\n",
       "    </tr>\n",
       "    <tr>\n",
       "      <th>1</th>\n",
       "      <td>17052889</td>\n",
       "      <td>NaN</td>\n",
       "      <td>NaN</td>\n",
       "      <td>261.0</td>\n",
       "      <td>NaN</td>\n",
       "      <td>NaN</td>\n",
       "      <td>NaN</td>\n",
       "      <td>NaN</td>\n",
       "      <td>1387261</td>\n",
       "      <td>NaN</td>\n",
       "      <td>...</td>\n",
       "      <td>0.055619</td>\n",
       "      <td>2017-01-01</td>\n",
       "      <td>NaN</td>\n",
       "      <td>NaN</td>\n",
       "      <td>NaN</td>\n",
       "      <td>NaN</td>\n",
       "      <td>Single Family Residential</td>\n",
       "      <td>NaN</td>\n",
       "      <td>NaN</td>\n",
       "      <td>Ventura County</td>\n",
       "    </tr>\n",
       "    <tr>\n",
       "      <th>2</th>\n",
       "      <td>14186244</td>\n",
       "      <td>NaN</td>\n",
       "      <td>NaN</td>\n",
       "      <td>261.0</td>\n",
       "      <td>NaN</td>\n",
       "      <td>NaN</td>\n",
       "      <td>NaN</td>\n",
       "      <td>NaN</td>\n",
       "      <td>11677</td>\n",
       "      <td>NaN</td>\n",
       "      <td>...</td>\n",
       "      <td>0.005383</td>\n",
       "      <td>2017-01-01</td>\n",
       "      <td>NaN</td>\n",
       "      <td>NaN</td>\n",
       "      <td>NaN</td>\n",
       "      <td>NaN</td>\n",
       "      <td>Single Family Residential</td>\n",
       "      <td>NaN</td>\n",
       "      <td>NaN</td>\n",
       "      <td>Orange County</td>\n",
       "    </tr>\n",
       "    <tr>\n",
       "      <th>3</th>\n",
       "      <td>12177905</td>\n",
       "      <td>NaN</td>\n",
       "      <td>NaN</td>\n",
       "      <td>261.0</td>\n",
       "      <td>2.0</td>\n",
       "      <td>NaN</td>\n",
       "      <td>NaN</td>\n",
       "      <td>NaN</td>\n",
       "      <td>2288172</td>\n",
       "      <td>NaN</td>\n",
       "      <td>...</td>\n",
       "      <td>-0.103410</td>\n",
       "      <td>2017-01-01</td>\n",
       "      <td>NaN</td>\n",
       "      <td>NaN</td>\n",
       "      <td>NaN</td>\n",
       "      <td>Central</td>\n",
       "      <td>Single Family Residential</td>\n",
       "      <td>NaN</td>\n",
       "      <td>NaN</td>\n",
       "      <td>Los Angeles County</td>\n",
       "    </tr>\n",
       "    <tr>\n",
       "      <th>4</th>\n",
       "      <td>10887214</td>\n",
       "      <td>NaN</td>\n",
       "      <td>NaN</td>\n",
       "      <td>266.0</td>\n",
       "      <td>2.0</td>\n",
       "      <td>NaN</td>\n",
       "      <td>NaN</td>\n",
       "      <td>1.0</td>\n",
       "      <td>1970746</td>\n",
       "      <td>NaN</td>\n",
       "      <td>...</td>\n",
       "      <td>0.006940</td>\n",
       "      <td>2017-01-01</td>\n",
       "      <td>Central</td>\n",
       "      <td>NaN</td>\n",
       "      <td>NaN</td>\n",
       "      <td>Central</td>\n",
       "      <td>Condominium</td>\n",
       "      <td>NaN</td>\n",
       "      <td>NaN</td>\n",
       "      <td>Los Angeles County</td>\n",
       "    </tr>\n",
       "  </tbody>\n",
       "</table>\n",
       "<p>5 rows × 70 columns</p>\n",
       "</div>"
      ],
      "text/plain": [
       "   parcelid  typeconstructiontypeid  storytypeid  propertylandusetypeid  \\\n",
       "0  14297519                     NaN          NaN                  261.0   \n",
       "1  17052889                     NaN          NaN                  261.0   \n",
       "2  14186244                     NaN          NaN                  261.0   \n",
       "3  12177905                     NaN          NaN                  261.0   \n",
       "4  10887214                     NaN          NaN                  266.0   \n",
       "\n",
       "   heatingorsystemtypeid  buildingclasstypeid  architecturalstyletypeid  \\\n",
       "0                    NaN                  NaN                       NaN   \n",
       "1                    NaN                  NaN                       NaN   \n",
       "2                    NaN                  NaN                       NaN   \n",
       "3                    2.0                  NaN                       NaN   \n",
       "4                    2.0                  NaN                       NaN   \n",
       "\n",
       "   airconditioningtypeid       id  basementsqft  ...  logerror  \\\n",
       "0                    NaN  1727539           NaN  ...  0.025595   \n",
       "1                    NaN  1387261           NaN  ...  0.055619   \n",
       "2                    NaN    11677           NaN  ...  0.005383   \n",
       "3                    NaN  2288172           NaN  ... -0.103410   \n",
       "4                    1.0  1970746           NaN  ...  0.006940   \n",
       "\n",
       "   transactiondate  airconditioningdesc  architecturalstyledesc  \\\n",
       "0       2017-01-01                  NaN                     NaN   \n",
       "1       2017-01-01                  NaN                     NaN   \n",
       "2       2017-01-01                  NaN                     NaN   \n",
       "3       2017-01-01                  NaN                     NaN   \n",
       "4       2017-01-01              Central                     NaN   \n",
       "\n",
       "   buildingclassdesc  heatingorsystemdesc        propertylandusedesc  \\\n",
       "0                NaN                  NaN  Single Family Residential   \n",
       "1                NaN                  NaN  Single Family Residential   \n",
       "2                NaN                  NaN  Single Family Residential   \n",
       "3                NaN              Central  Single Family Residential   \n",
       "4                NaN              Central                Condominium   \n",
       "\n",
       "   storydesc  typeconstructiondesc              county  \n",
       "0        NaN                   NaN       Orange County  \n",
       "1        NaN                   NaN      Ventura County  \n",
       "2        NaN                   NaN       Orange County  \n",
       "3        NaN                   NaN  Los Angeles County  \n",
       "4        NaN                   NaN  Los Angeles County  \n",
       "\n",
       "[5 rows x 70 columns]"
      ]
     },
     "execution_count": 4,
     "metadata": {},
     "output_type": "execute_result"
    }
   ],
   "source": [
    "# Creating a county column\n",
    "df['county'] = df.apply(lambda x: fips_labels(x), axis=1)\n",
    "df.head()"
   ]
  },
  {
   "cell_type": "code",
   "execution_count": 5,
   "metadata": {},
   "outputs": [],
   "source": [
    "df= w.single_unit_properties(df)\n",
    "df=w.handle_missing_values(df, prop_required_column = .60, prop_required_row = .60)\n",
    "train, validate, test =w.impute_missing_values(df)\n",
    "train, validate, test = w.impute_missing_values_1(train, validate, test)"
   ]
  },
  {
   "cell_type": "code",
   "execution_count": 6,
   "metadata": {},
   "outputs": [
    {
     "data": {
      "image/png": "[encoded data removed]",
      "text/plain": [
       "<Figure size 288x144 with 1 Axes>"
      ]
     },
     "metadata": {
      "needs_background": "light"
     },
     "output_type": "display_data"
    },
    {
     "data": {
      "image/png": "[encoded data removed]",
      "text/plain": [
       "<Figure size 288x144 with 1 Axes>"
      ]
     },
     "metadata": {
      "needs_background": "light"
     },
     "output_type": "display_data"
    },
    {
     "data": {
      "image/png": "[encoded data removed]",
      "text/plain": [
       "<Figure size 288x144 with 1 Axes>"
      ]
     },
     "metadata": {
      "needs_background": "light"
     },
     "output_type": "display_data"
    },
    {
     "data": {
      "image/png": "[encoded data removed]",
      "text/plain": [
       "<Figure size 288x144 with 1 Axes>"
      ]
     },
     "metadata": {
      "needs_background": "light"
     },
     "output_type": "display_data"
    },
    {
     "data": {
      "image/png": "[encoded data removed]",
      "text/plain": [
       "<Figure size 288x144 with 1 Axes>"
      ]
     },
     "metadata": {
      "needs_background": "light"
     },
     "output_type": "display_data"
    },
    {
     "data": {
      "image/png": "[encoded data removed]",
      "text/plain": [
       "<Figure size 288x144 with 1 Axes>"
      ]
     },
     "metadata": {
      "needs_background": "light"
     },
     "output_type": "display_data"
    },
    {
     "data": {
      "image/png": "[encoded data removed]",
      "text/plain": [
       "<Figure size 288x144 with 1 Axes>"
      ]
     },
     "metadata": {
      "needs_background": "light"
     },
     "output_type": "display_data"
    },
    {
     "data": {
      "image/png": "[encoded data removed]",
      "text/plain": [
       "<Figure size 288x144 with 1 Axes>"
      ]
     },
     "metadata": {
      "needs_background": "light"
     },
     "output_type": "display_data"
    },
    {
     "data": {
      "image/png": "[encoded data removed]",
      "text/plain": [
       "<Figure size 288x144 with 1 Axes>"
      ]
     },
     "metadata": {
      "needs_background": "light"
     },
     "output_type": "display_data"
    },
    {
     "data": {
      "image/png": "[encoded data removed]",
      "text/plain": [
       "<Figure size 288x144 with 1 Axes>"
      ]
     },
     "metadata": {
      "needs_background": "light"
     },
     "output_type": "display_data"
    },
    {
     "data": {
      "image/png": "[encoded data removed]",
      "text/plain": [
       "<Figure size 288x144 with 1 Axes>"
      ]
     },
     "metadata": {
      "needs_background": "light"
     },
     "output_type": "display_data"
    },
    {
     "data": {
      "image/png": "[encoded data removed]",
      "text/plain": [
       "<Figure size 288x144 with 1 Axes>"
      ]
     },
     "metadata": {
      "needs_background": "light"
     },
     "output_type": "display_data"
    },
    {
     "data": {
      "image/png": "[encoded data removed]",
      "text/plain": [
       "<Figure size 288x144 with 1 Axes>"
      ]
     },
     "metadata": {
      "needs_background": "light"
     },
     "output_type": "display_data"
    },
    {
     "data": {
      "image/png": "[encoded data removed]",
      "text/plain": [
       "<Figure size 288x144 with 1 Axes>"
      ]
     },
     "metadata": {
      "needs_background": "light"
     },
     "output_type": "display_data"
    },
    {
     "data": {
      "image/png": "[encoded data removed]",
      "text/plain": [
       "<Figure size 288x144 with 1 Axes>"
      ]
     },
     "metadata": {
      "needs_background": "light"
     },
     "output_type": "display_data"
    },
    {
     "data": {
      "image/png": "[encoded data removed]",
      "text/plain": [
       "<Figure size 288x144 with 1 Axes>"
      ]
     },
     "metadata": {
      "needs_background": "light"
     },
     "output_type": "display_data"
    },
    {
     "data": {
      "image/png": "[encoded data removed]",
      "text/plain": [
       "<Figure size 288x144 with 1 Axes>"
      ]
     },
     "metadata": {
      "needs_background": "light"
     },
     "output_type": "display_data"
    },
    {
     "data": {
      "image/png": "[encoded data removed]",
      "text/plain": [
       "<Figure size 288x144 with 1 Axes>"
      ]
     },
     "metadata": {
      "needs_background": "light"
     },
     "output_type": "display_data"
    },
    {
     "data": {
      "image/png": "[encoded data removed]",
      "text/plain": [
       "<Figure size 288x144 with 1 Axes>"
      ]
     },
     "metadata": {
      "needs_background": "light"
     },
     "output_type": "display_data"
    },
    {
     "data": {
      "image/png": "[encoded data removed]",
      "text/plain": [
       "<Figure size 288x144 with 1 Axes>"
      ]
     },
     "metadata": {
      "needs_background": "light"
     },
     "output_type": "display_data"
    },
    {
     "data": {
      "image/png": "[encoded data removed]",
      "text/plain": [
       "<Figure size 288x144 with 1 Axes>"
      ]
     },
     "metadata": {
      "needs_background": "light"
     },
     "output_type": "display_data"
    },
    {
     "data": {
      "image/png": "[encoded data removed]",
      "text/plain": [
       "<Figure size 288x144 with 1 Axes>"
      ]
     },
     "metadata": {
      "needs_background": "light"
     },
     "output_type": "display_data"
    },
    {
     "data": {
      "image/png": "[encoded data removed]",
      "text/plain": [
       "<Figure size 288x144 with 1 Axes>"
      ]
     },
     "metadata": {
      "needs_background": "light"
     },
     "output_type": "display_data"
    },
    {
     "data": {
      "image/png": "[encoded data removed]",
      "text/plain": [
       "<Figure size 288x144 with 1 Axes>"
      ]
     },
     "metadata": {
      "needs_background": "light"
     },
     "output_type": "display_data"
    },
    {
     "data": {
      "image/png": "[encoded data removed]",
      "text/plain": [
       "<Figure size 288x144 with 1 Axes>"
      ]
     },
     "metadata": {
      "needs_background": "light"
     },
     "output_type": "display_data"
    },
    {
     "data": {
      "image/png": "[encoded data removed]",
      "text/plain": [
       "<Figure size 288x144 with 1 Axes>"
      ]
     },
     "metadata": {
      "needs_background": "light"
     },
     "output_type": "display_data"
    }
   ],
   "source": [
    "for col in train.columns:\n",
    "    plt.figure(figsize=(4,2))\n",
    "    plt.hist(train[col])\n",
    "    plt.title(col)\n",
    "    plt.show()"
   ]
  },
  {
   "cell_type": "markdown",
   "metadata": {},
   "source": [
    "## Features normally distributed\n",
    "    - bedroomcnt\n",
    "    - building quality type id\n",
    "    - fullbathcnt\n",
    "    - latitude\n",
    "    - year built\n",
    "    - age\n",
    "    - bed bath ratio\n",
    "    \n",
    "## Features skewed right\n",
    "    - sqft\n",
    "    \n",
    "## Features skewed left\n",
    "    - longitude\n",
    "    "
   ]
  },
  {
   "cell_type": "markdown",
   "metadata": {},
   "source": [
    "## Is there a relationship between price_per_sqft and logerror?"
   ]
  },
  {
   "cell_type": "code",
   "execution_count": 7,
   "metadata": {},
   "outputs": [
    {
     "data": {
      "image/png": "[encoded data removed]",
      "text/plain": [
       "<Figure size 864x432 with 1 Axes>"
      ]
     },
     "metadata": {
      "needs_background": "light"
     },
     "output_type": "display_data"
    }
   ],
   "source": [
    "plt.figure(figsize=(12,6))\n",
    "sns.scatterplot(data=train, x='price_per_sqft', y='logerror')\n",
    "plt.title('Is there a relationship between price per sqft and logerror?')\n",
    "plt.show()"
   ]
  },
  {
   "cell_type": "code",
   "execution_count": 8,
   "metadata": {},
   "outputs": [],
   "source": [
    "train['binned_price_per_sqft'] = pd.cut(train.price_per_sqft, [0,1000,2000,5000] , labels=[\"small\", \"medium\", \"large\"])\n",
    "validate['binned_price_per_sqft'] = pd.cut(validate.price_per_sqft, [0,1000,2000,5000] , labels=[\"small\", \"medium\", \"large\"])\n",
    "test['binned_price_per_sqft'] = pd.cut(test.price_per_sqft, [0,1000,2000,5000] , labels=[\"small\", \"medium\", \"large\"])"
   ]
  },
  {
   "cell_type": "code",
   "execution_count": 9,
   "metadata": {},
   "outputs": [
    {
     "data": {
      "image/png": "[encoded data removed]",
      "text/plain": [
       "<Figure size 1080x648 with 1 Axes>"
      ]
     },
     "metadata": {
      "needs_background": "light"
     },
     "output_type": "display_data"
    }
   ],
   "source": [
    "plt.figure(figsize=(15,9))\n",
    "sns.boxplot(x= 'binned_price_per_sqft', y = 'logerror', data = train)\n",
    "plt.title('Is there a relationship between price per sqft and logerror?')\n",
    "plt.show()"
   ]
  },
  {
   "cell_type": "markdown",
   "metadata": {},
   "source": [
    "## Hard to see if there is a correlation here. Going to run a statistical test (ANOVA) to see if there is a significance in the means of price per sqft and log error."
   ]
  },
  {
   "cell_type": "code",
   "execution_count": 10,
   "metadata": {},
   "outputs": [],
   "source": [
    "small_price_per_sqft_ratio = train[train.binned_price_per_sqft == 'small'].price_per_sqft\n",
    "medium_price_per_sqft_ratio = train[train.binned_price_per_sqft == 'medium'].price_per_sqft\n",
    "large_price_per_sqft_ratio = train[train.binned_price_per_sqft == 'large'].price_per_sqft"
   ]
  },
  {
   "cell_type": "markdown",
   "metadata": {},
   "source": [
    "- Ho: Means of binned price_per_sqft_ratio small, medium, large are equal\n",
    "- Ha: Means of binned price_per_sqft_ratio, medium, large are not equal\n",
    "- alpha = .05"
   ]
  },
  {
   "cell_type": "code",
   "execution_count": 11,
   "metadata": {},
   "outputs": [
    {
     "name": "stdout",
     "output_type": "stream",
     "text": [
      "25797.376400826815\n",
      "66359.22062652641\n",
      "441774.5297190322\n"
     ]
    }
   ],
   "source": [
    "print(small_price_per_sqft_ratio.var())\n",
    "print(medium_price_per_sqft_ratio.var())\n",
    "print(large_price_per_sqft_ratio.var())"
   ]
  },
  {
   "cell_type": "code",
   "execution_count": 12,
   "metadata": {},
   "outputs": [
    {
     "data": {
      "text/plain": [
       "(8553.03763805571, 0.0)"
      ]
     },
     "execution_count": 12,
     "metadata": {},
     "output_type": "execute_result"
    }
   ],
   "source": [
    "f, p = stats.f_oneway(small_price_per_sqft_ratio, medium_price_per_sqft_ratio, large_price_per_sqft_ratio)\n",
    "f, p"
   ]
  },
  {
   "cell_type": "markdown",
   "metadata": {},
   "source": [
    "- We reject the null Hypothesis. p-value is less than alpha. The means of binned price per sqft ratio are not equal."
   ]
  },
  {
   "cell_type": "code",
   "execution_count": 13,
   "metadata": {},
   "outputs": [],
   "source": [
    "train['binned_bed_bath_ratio'] = pd.qcut(train.bed_bath_ratio, 3, labels=[\"small\", \"medium\", \"large\"])\n",
    "validate['binned_bed_bath_ratio'] = pd.qcut(train.bed_bath_ratio, 3, labels=[\"small\", \"medium\", \"large\"])\n",
    "test['binned_bed_bath_ratio'] = pd.qcut(train.bed_bath_ratio, 3, labels=[\"small\", \"medium\", \"large\"])"
   ]
  },
  {
   "cell_type": "code",
   "execution_count": 14,
   "metadata": {},
   "outputs": [],
   "source": [
    " X_train, y_train, X_validate, y_validate, X_test, y_test = w.X_train_select(train, validate, test, target_var = 'logerror')"
   ]
  },
  {
   "cell_type": "code",
   "execution_count": 15,
   "metadata": {},
   "outputs": [
    {
     "data": {
      "text/html": [
       "<div>\n",
       "<style scoped>\n",
       "    .dataframe tbody tr th:only-of-type {\n",
       "        vertical-align: middle;\n",
       "    }\n",
       "\n",
       "    .dataframe tbody tr th {\n",
       "        vertical-align: top;\n",
       "    }\n",
       "\n",
       "    .dataframe thead th {\n",
       "        text-align: right;\n",
       "    }\n",
       "</style>\n",
       "<table border=\"1\" class=\"dataframe\">\n",
       "  <thead>\n",
       "    <tr style=\"text-align: right;\">\n",
       "      <th></th>\n",
       "      <th>Feature</th>\n",
       "      <th>Rank</th>\n",
       "    </tr>\n",
       "  </thead>\n",
       "  <tbody>\n",
       "    <tr>\n",
       "      <th>0</th>\n",
       "      <td>buildingqualitytypeid</td>\n",
       "      <td>1</td>\n",
       "    </tr>\n",
       "    <tr>\n",
       "      <th>6</th>\n",
       "      <td>roomcnt</td>\n",
       "      <td>1</td>\n",
       "    </tr>\n",
       "    <tr>\n",
       "      <th>7</th>\n",
       "      <td>yearbuilt</td>\n",
       "      <td>1</td>\n",
       "    </tr>\n",
       "    <tr>\n",
       "      <th>11</th>\n",
       "      <td>age</td>\n",
       "      <td>1</td>\n",
       "    </tr>\n",
       "    <tr>\n",
       "      <th>15</th>\n",
       "      <td>bed_bath_ratio</td>\n",
       "      <td>1</td>\n",
       "    </tr>\n",
       "    <tr>\n",
       "      <th>2</th>\n",
       "      <td>fips</td>\n",
       "      <td>2</td>\n",
       "    </tr>\n",
       "    <tr>\n",
       "      <th>13</th>\n",
       "      <td>price_per_sqft</td>\n",
       "      <td>3</td>\n",
       "    </tr>\n",
       "    <tr>\n",
       "      <th>1</th>\n",
       "      <td>sqft</td>\n",
       "      <td>4</td>\n",
       "    </tr>\n",
       "    <tr>\n",
       "      <th>14</th>\n",
       "      <td>lotsize_per_sqft</td>\n",
       "      <td>5</td>\n",
       "    </tr>\n",
       "    <tr>\n",
       "      <th>10</th>\n",
       "      <td>taxamount</td>\n",
       "      <td>6</td>\n",
       "    </tr>\n",
       "    <tr>\n",
       "      <th>8</th>\n",
       "      <td>structuretaxvaluedollarcnt</td>\n",
       "      <td>7</td>\n",
       "    </tr>\n",
       "    <tr>\n",
       "      <th>5</th>\n",
       "      <td>lotsizesquarefeet</td>\n",
       "      <td>8</td>\n",
       "    </tr>\n",
       "    <tr>\n",
       "      <th>9</th>\n",
       "      <td>home_value</td>\n",
       "      <td>9</td>\n",
       "    </tr>\n",
       "    <tr>\n",
       "      <th>4</th>\n",
       "      <td>longitude</td>\n",
       "      <td>10</td>\n",
       "    </tr>\n",
       "    <tr>\n",
       "      <th>3</th>\n",
       "      <td>latitude</td>\n",
       "      <td>11</td>\n",
       "    </tr>\n",
       "    <tr>\n",
       "      <th>12</th>\n",
       "      <td>acres</td>\n",
       "      <td>12</td>\n",
       "    </tr>\n",
       "  </tbody>\n",
       "</table>\n",
       "</div>"
      ],
      "text/plain": [
       "                       Feature  Rank\n",
       "0        buildingqualitytypeid     1\n",
       "6                      roomcnt     1\n",
       "7                    yearbuilt     1\n",
       "11                         age     1\n",
       "15              bed_bath_ratio     1\n",
       "2                         fips     2\n",
       "13              price_per_sqft     3\n",
       "1                         sqft     4\n",
       "14            lotsize_per_sqft     5\n",
       "10                   taxamount     6\n",
       "8   structuretaxvaluedollarcnt     7\n",
       "5            lotsizesquarefeet     8\n",
       "9                   home_value     9\n",
       "4                    longitude    10\n",
       "3                     latitude    11\n",
       "12                       acres    12"
      ]
     },
     "execution_count": 15,
     "metadata": {},
     "output_type": "execute_result"
    }
   ],
   "source": [
    "e.rfe_ranker(train)"
   ]
  },
  {
   "cell_type": "markdown",
   "metadata": {},
   "source": [
    "### After editing my variables to rank I will look more into building quality type id, age, bed bath ratio, and price_per sqft"
   ]
  },
  {
   "cell_type": "markdown",
   "metadata": {},
   "source": [
    "### Setting my scaler I want to use along with the variables I want to scale"
   ]
  },
  {
   "cell_type": "code",
   "execution_count": 16,
   "metadata": {},
   "outputs": [],
   "source": [
    "scaler = StandardScaler()\n",
    "columns_to_scale = train.drop(columns=['county',\"logerror\",'propertycountylandusecode','transactiondate','heatingorsystemdesc','binned_price_per_sqft','binned_bed_bath_ratio']).columns.tolist()\n",
    "X_train_scaled, X_validate_scaled, X_test_scaled = w.add_scaled_columns(X_train, X_validate, X_test, scaler, columns_to_scale)"
   ]
  },
  {
   "cell_type": "code",
   "execution_count": 17,
   "metadata": {},
   "outputs": [
    {
     "data": {
      "text/html": [
       "<div>\n",
       "<style scoped>\n",
       "    .dataframe tbody tr th:only-of-type {\n",
       "        vertical-align: middle;\n",
       "    }\n",
       "\n",
       "    .dataframe tbody tr th {\n",
       "        vertical-align: top;\n",
       "    }\n",
       "\n",
       "    .dataframe thead th {\n",
       "        text-align: right;\n",
       "    }\n",
       "</style>\n",
       "<table border=\"1\" class=\"dataframe\">\n",
       "  <thead>\n",
       "    <tr style=\"text-align: right;\">\n",
       "      <th></th>\n",
       "      <th>bathroomcnt</th>\n",
       "      <th>bedroomcnt</th>\n",
       "      <th>buildingqualitytypeid</th>\n",
       "      <th>sqft</th>\n",
       "      <th>fips</th>\n",
       "      <th>fullbathcnt</th>\n",
       "      <th>latitude</th>\n",
       "      <th>longitude</th>\n",
       "      <th>lotsizesquarefeet</th>\n",
       "      <th>propertycountylandusecode</th>\n",
       "      <th>...</th>\n",
       "      <th>yearbuilt_scaled</th>\n",
       "      <th>structuretaxvaluedollarcnt_scaled</th>\n",
       "      <th>home_value_scaled</th>\n",
       "      <th>taxamount_scaled</th>\n",
       "      <th>age_scaled</th>\n",
       "      <th>taxrate_scaled</th>\n",
       "      <th>acres_scaled</th>\n",
       "      <th>price_per_sqft_scaled</th>\n",
       "      <th>lotsize_per_sqft_scaled</th>\n",
       "      <th>bed_bath_ratio_scaled</th>\n",
       "    </tr>\n",
       "  </thead>\n",
       "  <tbody>\n",
       "    <tr>\n",
       "      <th>1616</th>\n",
       "      <td>1.0</td>\n",
       "      <td>2.0</td>\n",
       "      <td>6.0</td>\n",
       "      <td>906.0</td>\n",
       "      <td>6059.0</td>\n",
       "      <td>1.0</td>\n",
       "      <td>33853594.0</td>\n",
       "      <td>-118013182.0</td>\n",
       "      <td>4536.0</td>\n",
       "      <td>122</td>\n",
       "      <td>...</td>\n",
       "      <td>-0.122722</td>\n",
       "      <td>-0.804889</td>\n",
       "      <td>-0.398294</td>\n",
       "      <td>-0.440179</td>\n",
       "      <td>0.122722</td>\n",
       "      <td>-0.189102</td>\n",
       "      <td>-0.069464</td>\n",
       "      <td>0.271193</td>\n",
       "      <td>-0.114096</td>\n",
       "      <td>0.670994</td>\n",
       "    </tr>\n",
       "    <tr>\n",
       "      <th>33322</th>\n",
       "      <td>3.0</td>\n",
       "      <td>4.0</td>\n",
       "      <td>7.0</td>\n",
       "      <td>2548.0</td>\n",
       "      <td>6037.0</td>\n",
       "      <td>3.0</td>\n",
       "      <td>34467094.0</td>\n",
       "      <td>-118202886.0</td>\n",
       "      <td>107586.0</td>\n",
       "      <td>0101</td>\n",
       "      <td>...</td>\n",
       "      <td>0.852547</td>\n",
       "      <td>1.012244</td>\n",
       "      <td>-0.089560</td>\n",
       "      <td>-0.122922</td>\n",
       "      <td>-0.852547</td>\n",
       "      <td>-0.195544</td>\n",
       "      <td>1.126773</td>\n",
       "      <td>-0.424269</td>\n",
       "      <td>-0.785366</td>\n",
       "      <td>-0.508476</td>\n",
       "    </tr>\n",
       "    <tr>\n",
       "      <th>44530</th>\n",
       "      <td>4.5</td>\n",
       "      <td>5.0</td>\n",
       "      <td>6.0</td>\n",
       "      <td>4733.0</td>\n",
       "      <td>6059.0</td>\n",
       "      <td>4.0</td>\n",
       "      <td>33581133.0</td>\n",
       "      <td>-117690741.0</td>\n",
       "      <td>29600.0</td>\n",
       "      <td>122</td>\n",
       "      <td>...</td>\n",
       "      <td>1.960807</td>\n",
       "      <td>4.514371</td>\n",
       "      <td>3.410824</td>\n",
       "      <td>2.873108</td>\n",
       "      <td>-1.960807</td>\n",
       "      <td>-0.405778</td>\n",
       "      <td>0.221487</td>\n",
       "      <td>0.862518</td>\n",
       "      <td>-0.030965</td>\n",
       "      <td>-0.901632</td>\n",
       "    </tr>\n",
       "    <tr>\n",
       "      <th>32756</th>\n",
       "      <td>3.0</td>\n",
       "      <td>4.0</td>\n",
       "      <td>6.0</td>\n",
       "      <td>2776.0</td>\n",
       "      <td>6059.0</td>\n",
       "      <td>3.0</td>\n",
       "      <td>33700191.0</td>\n",
       "      <td>-117725630.0</td>\n",
       "      <td>6933.0</td>\n",
       "      <td>1</td>\n",
       "      <td>...</td>\n",
       "      <td>2.271120</td>\n",
       "      <td>1.323886</td>\n",
       "      <td>1.348215</td>\n",
       "      <td>2.272577</td>\n",
       "      <td>-2.271120</td>\n",
       "      <td>0.370641</td>\n",
       "      <td>-0.041639</td>\n",
       "      <td>0.671124</td>\n",
       "      <td>0.989083</td>\n",
       "      <td>-0.508476</td>\n",
       "    </tr>\n",
       "    <tr>\n",
       "      <th>67546</th>\n",
       "      <td>3.0</td>\n",
       "      <td>2.0</td>\n",
       "      <td>7.0</td>\n",
       "      <td>2083.0</td>\n",
       "      <td>6037.0</td>\n",
       "      <td>3.0</td>\n",
       "      <td>34044109.0</td>\n",
       "      <td>-118390335.0</td>\n",
       "      <td>6379.0</td>\n",
       "      <td>0100</td>\n",
       "      <td>...</td>\n",
       "      <td>-0.699017</td>\n",
       "      <td>-0.101927</td>\n",
       "      <td>0.633677</td>\n",
       "      <td>0.676059</td>\n",
       "      <td>0.699017</td>\n",
       "      <td>-0.151050</td>\n",
       "      <td>-0.048070</td>\n",
       "      <td>0.534198</td>\n",
       "      <td>0.546407</td>\n",
       "      <td>-1.687945</td>\n",
       "    </tr>\n",
       "    <tr>\n",
       "      <th>...</th>\n",
       "      <td>...</td>\n",
       "      <td>...</td>\n",
       "      <td>...</td>\n",
       "      <td>...</td>\n",
       "      <td>...</td>\n",
       "      <td>...</td>\n",
       "      <td>...</td>\n",
       "      <td>...</td>\n",
       "      <td>...</td>\n",
       "      <td>...</td>\n",
       "      <td>...</td>\n",
       "      <td>...</td>\n",
       "      <td>...</td>\n",
       "      <td>...</td>\n",
       "      <td>...</td>\n",
       "      <td>...</td>\n",
       "      <td>...</td>\n",
       "      <td>...</td>\n",
       "      <td>...</td>\n",
       "      <td>...</td>\n",
       "      <td>...</td>\n",
       "    </tr>\n",
       "    <tr>\n",
       "      <th>2159</th>\n",
       "      <td>2.0</td>\n",
       "      <td>3.0</td>\n",
       "      <td>6.0</td>\n",
       "      <td>1286.0</td>\n",
       "      <td>6059.0</td>\n",
       "      <td>2.0</td>\n",
       "      <td>33902086.0</td>\n",
       "      <td>-117903131.0</td>\n",
       "      <td>10044.0</td>\n",
       "      <td>122</td>\n",
       "      <td>...</td>\n",
       "      <td>-0.122722</td>\n",
       "      <td>-0.603142</td>\n",
       "      <td>-0.427908</td>\n",
       "      <td>-0.463133</td>\n",
       "      <td>0.122722</td>\n",
       "      <td>-0.169049</td>\n",
       "      <td>-0.005525</td>\n",
       "      <td>-0.223943</td>\n",
       "      <td>-0.523040</td>\n",
       "      <td>-0.213608</td>\n",
       "    </tr>\n",
       "    <tr>\n",
       "      <th>51460</th>\n",
       "      <td>1.0</td>\n",
       "      <td>3.0</td>\n",
       "      <td>4.0</td>\n",
       "      <td>1408.0</td>\n",
       "      <td>6037.0</td>\n",
       "      <td>1.0</td>\n",
       "      <td>34098343.0</td>\n",
       "      <td>-117927628.0</td>\n",
       "      <td>5430.0</td>\n",
       "      <td>0100</td>\n",
       "      <td>...</td>\n",
       "      <td>-0.433035</td>\n",
       "      <td>-0.743054</td>\n",
       "      <td>-0.791110</td>\n",
       "      <td>-0.775662</td>\n",
       "      <td>0.433035</td>\n",
       "      <td>0.315706</td>\n",
       "      <td>-0.059086</td>\n",
       "      <td>-0.889594</td>\n",
       "      <td>-0.620101</td>\n",
       "      <td>2.440199</td>\n",
       "    </tr>\n",
       "    <tr>\n",
       "      <th>69123</th>\n",
       "      <td>1.0</td>\n",
       "      <td>2.0</td>\n",
       "      <td>4.0</td>\n",
       "      <td>1266.0</td>\n",
       "      <td>6037.0</td>\n",
       "      <td>1.0</td>\n",
       "      <td>33823405.0</td>\n",
       "      <td>-118125615.0</td>\n",
       "      <td>5995.0</td>\n",
       "      <td>0100</td>\n",
       "      <td>...</td>\n",
       "      <td>-0.654687</td>\n",
       "      <td>-0.419289</td>\n",
       "      <td>0.127997</td>\n",
       "      <td>0.102370</td>\n",
       "      <td>0.654687</td>\n",
       "      <td>-0.195730</td>\n",
       "      <td>-0.052527</td>\n",
       "      <td>0.776707</td>\n",
       "      <td>0.182255</td>\n",
       "      <td>0.670994</td>\n",
       "    </tr>\n",
       "    <tr>\n",
       "      <th>66706</th>\n",
       "      <td>2.0</td>\n",
       "      <td>3.0</td>\n",
       "      <td>6.0</td>\n",
       "      <td>1684.0</td>\n",
       "      <td>6059.0</td>\n",
       "      <td>2.0</td>\n",
       "      <td>33664809.0</td>\n",
       "      <td>-117822654.0</td>\n",
       "      <td>5300.0</td>\n",
       "      <td>122</td>\n",
       "      <td>...</td>\n",
       "      <td>0.098930</td>\n",
       "      <td>-0.437335</td>\n",
       "      <td>0.672514</td>\n",
       "      <td>-0.859843</td>\n",
       "      <td>-0.098930</td>\n",
       "      <td>-1.534407</td>\n",
       "      <td>-0.060595</td>\n",
       "      <td>1.003845</td>\n",
       "      <td>0.866123</td>\n",
       "      <td>-0.213608</td>\n",
       "    </tr>\n",
       "    <tr>\n",
       "      <th>32584</th>\n",
       "      <td>3.0</td>\n",
       "      <td>5.0</td>\n",
       "      <td>7.0</td>\n",
       "      <td>3319.0</td>\n",
       "      <td>6037.0</td>\n",
       "      <td>3.0</td>\n",
       "      <td>34060821.0</td>\n",
       "      <td>-118345533.0</td>\n",
       "      <td>6701.0</td>\n",
       "      <td>0100</td>\n",
       "      <td>...</td>\n",
       "      <td>-1.585625</td>\n",
       "      <td>-0.074858</td>\n",
       "      <td>0.110670</td>\n",
       "      <td>0.123404</td>\n",
       "      <td>1.585625</td>\n",
       "      <td>-0.144312</td>\n",
       "      <td>-0.044332</td>\n",
       "      <td>-0.476067</td>\n",
       "      <td>0.061635</td>\n",
       "      <td>0.081259</td>\n",
       "    </tr>\n",
       "  </tbody>\n",
       "</table>\n",
       "<p>28133 rows × 48 columns</p>\n",
       "</div>"
      ],
      "text/plain": [
       "       bathroomcnt  bedroomcnt  buildingqualitytypeid    sqft    fips  \\\n",
       "1616           1.0         2.0                    6.0   906.0  6059.0   \n",
       "33322          3.0         4.0                    7.0  2548.0  6037.0   \n",
       "44530          4.5         5.0                    6.0  4733.0  6059.0   \n",
       "32756          3.0         4.0                    6.0  2776.0  6059.0   \n",
       "67546          3.0         2.0                    7.0  2083.0  6037.0   \n",
       "...            ...         ...                    ...     ...     ...   \n",
       "2159           2.0         3.0                    6.0  1286.0  6059.0   \n",
       "51460          1.0         3.0                    4.0  1408.0  6037.0   \n",
       "69123          1.0         2.0                    4.0  1266.0  6037.0   \n",
       "66706          2.0         3.0                    6.0  1684.0  6059.0   \n",
       "32584          3.0         5.0                    7.0  3319.0  6037.0   \n",
       "\n",
       "       fullbathcnt    latitude    longitude  lotsizesquarefeet  \\\n",
       "1616           1.0  33853594.0 -118013182.0             4536.0   \n",
       "33322          3.0  34467094.0 -118202886.0           107586.0   \n",
       "44530          4.0  33581133.0 -117690741.0            29600.0   \n",
       "32756          3.0  33700191.0 -117725630.0             6933.0   \n",
       "67546          3.0  34044109.0 -118390335.0             6379.0   \n",
       "...            ...         ...          ...                ...   \n",
       "2159           2.0  33902086.0 -117903131.0            10044.0   \n",
       "51460          1.0  34098343.0 -117927628.0             5430.0   \n",
       "69123          1.0  33823405.0 -118125615.0             5995.0   \n",
       "66706          2.0  33664809.0 -117822654.0             5300.0   \n",
       "32584          3.0  34060821.0 -118345533.0             6701.0   \n",
       "\n",
       "      propertycountylandusecode  ...  yearbuilt_scaled  \\\n",
       "1616                        122  ...         -0.122722   \n",
       "33322                      0101  ...          0.852547   \n",
       "44530                       122  ...          1.960807   \n",
       "32756                         1  ...          2.271120   \n",
       "67546                      0100  ...         -0.699017   \n",
       "...                         ...  ...               ...   \n",
       "2159                        122  ...         -0.122722   \n",
       "51460                      0100  ...         -0.433035   \n",
       "69123                      0100  ...         -0.654687   \n",
       "66706                       122  ...          0.098930   \n",
       "32584                      0100  ...         -1.585625   \n",
       "\n",
       "       structuretaxvaluedollarcnt_scaled  home_value_scaled  taxamount_scaled  \\\n",
       "1616                           -0.804889          -0.398294         -0.440179   \n",
       "33322                           1.012244          -0.089560         -0.122922   \n",
       "44530                           4.514371           3.410824          2.873108   \n",
       "32756                           1.323886           1.348215          2.272577   \n",
       "67546                          -0.101927           0.633677          0.676059   \n",
       "...                                  ...                ...               ...   \n",
       "2159                           -0.603142          -0.427908         -0.463133   \n",
       "51460                          -0.743054          -0.791110         -0.775662   \n",
       "69123                          -0.419289           0.127997          0.102370   \n",
       "66706                          -0.437335           0.672514         -0.859843   \n",
       "32584                          -0.074858           0.110670          0.123404   \n",
       "\n",
       "       age_scaled  taxrate_scaled acres_scaled price_per_sqft_scaled  \\\n",
       "1616     0.122722       -0.189102    -0.069464              0.271193   \n",
       "33322   -0.852547       -0.195544     1.126773             -0.424269   \n",
       "44530   -1.960807       -0.405778     0.221487              0.862518   \n",
       "32756   -2.271120        0.370641    -0.041639              0.671124   \n",
       "67546    0.699017       -0.151050    -0.048070              0.534198   \n",
       "...           ...             ...          ...                   ...   \n",
       "2159     0.122722       -0.169049    -0.005525             -0.223943   \n",
       "51460    0.433035        0.315706    -0.059086             -0.889594   \n",
       "69123    0.654687       -0.195730    -0.052527              0.776707   \n",
       "66706   -0.098930       -1.534407    -0.060595              1.003845   \n",
       "32584    1.585625       -0.144312    -0.044332             -0.476067   \n",
       "\n",
       "      lotsize_per_sqft_scaled  bed_bath_ratio_scaled  \n",
       "1616                -0.114096               0.670994  \n",
       "33322               -0.785366              -0.508476  \n",
       "44530               -0.030965              -0.901632  \n",
       "32756                0.989083              -0.508476  \n",
       "67546                0.546407              -1.687945  \n",
       "...                       ...                    ...  \n",
       "2159                -0.523040              -0.213608  \n",
       "51460               -0.620101               2.440199  \n",
       "69123                0.182255               0.670994  \n",
       "66706                0.866123              -0.213608  \n",
       "32584                0.061635               0.081259  \n",
       "\n",
       "[28133 rows x 48 columns]"
      ]
     },
     "execution_count": 17,
     "metadata": {},
     "output_type": "execute_result"
    }
   ],
   "source": [
    "X_train_scaled"
   ]
  },
  {
   "cell_type": "code",
   "execution_count": 18,
   "metadata": {},
   "outputs": [
    {
     "data": {
      "text/html": [
       "<div>\n",
       "<style scoped>\n",
       "    .dataframe tbody tr th:only-of-type {\n",
       "        vertical-align: middle;\n",
       "    }\n",
       "\n",
       "    .dataframe tbody tr th {\n",
       "        vertical-align: top;\n",
       "    }\n",
       "\n",
       "    .dataframe thead th {\n",
       "        text-align: right;\n",
       "    }\n",
       "</style>\n",
       "<table border=\"1\" class=\"dataframe\">\n",
       "  <thead>\n",
       "    <tr style=\"text-align: right;\">\n",
       "      <th></th>\n",
       "      <th>bathroomcnt</th>\n",
       "      <th>bedroomcnt</th>\n",
       "      <th>buildingqualitytypeid</th>\n",
       "      <th>sqft</th>\n",
       "      <th>fips</th>\n",
       "      <th>fullbathcnt</th>\n",
       "      <th>latitude</th>\n",
       "      <th>longitude</th>\n",
       "      <th>lotsizesquarefeet</th>\n",
       "      <th>propertycountylandusecode</th>\n",
       "      <th>...</th>\n",
       "      <th>yearbuilt_scaled</th>\n",
       "      <th>structuretaxvaluedollarcnt_scaled</th>\n",
       "      <th>home_value_scaled</th>\n",
       "      <th>taxamount_scaled</th>\n",
       "      <th>age_scaled</th>\n",
       "      <th>taxrate_scaled</th>\n",
       "      <th>acres_scaled</th>\n",
       "      <th>price_per_sqft_scaled</th>\n",
       "      <th>lotsize_per_sqft_scaled</th>\n",
       "      <th>bed_bath_ratio_scaled</th>\n",
       "    </tr>\n",
       "  </thead>\n",
       "  <tbody>\n",
       "    <tr>\n",
       "      <th>59922</th>\n",
       "      <td>2.0</td>\n",
       "      <td>2.0</td>\n",
       "      <td>6.0</td>\n",
       "      <td>1755.0</td>\n",
       "      <td>6059.0</td>\n",
       "      <td>2.0</td>\n",
       "      <td>33653357.0</td>\n",
       "      <td>-117624535.0</td>\n",
       "      <td>5000.0</td>\n",
       "      <td>122</td>\n",
       "      <td>...</td>\n",
       "      <td>1.517503</td>\n",
       "      <td>0.169294</td>\n",
       "      <td>-0.286767</td>\n",
       "      <td>-0.483091</td>\n",
       "      <td>-1.517503</td>\n",
       "      <td>-0.514827</td>\n",
       "      <td>-0.064078</td>\n",
       "      <td>-0.312351</td>\n",
       "      <td>-0.060997</td>\n",
       "      <td>-1.098211</td>\n",
       "    </tr>\n",
       "    <tr>\n",
       "      <th>57456</th>\n",
       "      <td>3.0</td>\n",
       "      <td>3.0</td>\n",
       "      <td>6.0</td>\n",
       "      <td>2836.0</td>\n",
       "      <td>6059.0</td>\n",
       "      <td>3.0</td>\n",
       "      <td>33890055.0</td>\n",
       "      <td>-117753765.0</td>\n",
       "      <td>10800.0</td>\n",
       "      <td>122</td>\n",
       "      <td>...</td>\n",
       "      <td>1.162860</td>\n",
       "      <td>0.989205</td>\n",
       "      <td>0.505084</td>\n",
       "      <td>0.483504</td>\n",
       "      <td>-1.162860</td>\n",
       "      <td>-0.205043</td>\n",
       "      <td>0.003251</td>\n",
       "      <td>-0.035825</td>\n",
       "      <td>-0.081287</td>\n",
       "      <td>-1.098211</td>\n",
       "    </tr>\n",
       "    <tr>\n",
       "      <th>52533</th>\n",
       "      <td>3.0</td>\n",
       "      <td>5.0</td>\n",
       "      <td>7.0</td>\n",
       "      <td>3014.0</td>\n",
       "      <td>6037.0</td>\n",
       "      <td>3.0</td>\n",
       "      <td>34634772.0</td>\n",
       "      <td>-118223018.0</td>\n",
       "      <td>13099.0</td>\n",
       "      <td>0101</td>\n",
       "      <td>...</td>\n",
       "      <td>1.650494</td>\n",
       "      <td>0.668864</td>\n",
       "      <td>-0.260793</td>\n",
       "      <td>-0.138232</td>\n",
       "      <td>-1.650494</td>\n",
       "      <td>0.125050</td>\n",
       "      <td>0.029938</td>\n",
       "      <td>-0.676206</td>\n",
       "      <td>-0.526437</td>\n",
       "      <td>0.081259</td>\n",
       "    </tr>\n",
       "    <tr>\n",
       "      <th>51697</th>\n",
       "      <td>1.0</td>\n",
       "      <td>2.0</td>\n",
       "      <td>6.0</td>\n",
       "      <td>1435.0</td>\n",
       "      <td>6059.0</td>\n",
       "      <td>1.0</td>\n",
       "      <td>33749809.0</td>\n",
       "      <td>-117848627.0</td>\n",
       "      <td>6125.0</td>\n",
       "      <td>122</td>\n",
       "      <td>...</td>\n",
       "      <td>-1.629956</td>\n",
       "      <td>-0.756917</td>\n",
       "      <td>-0.153763</td>\n",
       "      <td>-0.180807</td>\n",
       "      <td>1.629956</td>\n",
       "      <td>-0.180604</td>\n",
       "      <td>-0.051018</td>\n",
       "      <td>0.100073</td>\n",
       "      <td>-0.085963</td>\n",
       "      <td>0.670994</td>\n",
       "    </tr>\n",
       "    <tr>\n",
       "      <th>30724</th>\n",
       "      <td>2.0</td>\n",
       "      <td>3.0</td>\n",
       "      <td>6.0</td>\n",
       "      <td>1325.0</td>\n",
       "      <td>6037.0</td>\n",
       "      <td>2.0</td>\n",
       "      <td>33931383.0</td>\n",
       "      <td>-118028369.0</td>\n",
       "      <td>8267.0</td>\n",
       "      <td>0100</td>\n",
       "      <td>...</td>\n",
       "      <td>-0.122722</td>\n",
       "      <td>-0.834579</td>\n",
       "      <td>-0.834163</td>\n",
       "      <td>-0.838013</td>\n",
       "      <td>0.122722</td>\n",
       "      <td>0.291756</td>\n",
       "      <td>-0.026153</td>\n",
       "      <td>-0.941161</td>\n",
       "      <td>-0.720399</td>\n",
       "      <td>-0.213608</td>\n",
       "    </tr>\n",
       "    <tr>\n",
       "      <th>...</th>\n",
       "      <td>...</td>\n",
       "      <td>...</td>\n",
       "      <td>...</td>\n",
       "      <td>...</td>\n",
       "      <td>...</td>\n",
       "      <td>...</td>\n",
       "      <td>...</td>\n",
       "      <td>...</td>\n",
       "      <td>...</td>\n",
       "      <td>...</td>\n",
       "      <td>...</td>\n",
       "      <td>...</td>\n",
       "      <td>...</td>\n",
       "      <td>...</td>\n",
       "      <td>...</td>\n",
       "      <td>...</td>\n",
       "      <td>...</td>\n",
       "      <td>...</td>\n",
       "      <td>...</td>\n",
       "      <td>...</td>\n",
       "      <td>...</td>\n",
       "    </tr>\n",
       "    <tr>\n",
       "      <th>63502</th>\n",
       "      <td>2.0</td>\n",
       "      <td>4.0</td>\n",
       "      <td>6.0</td>\n",
       "      <td>1623.0</td>\n",
       "      <td>6111.0</td>\n",
       "      <td>2.0</td>\n",
       "      <td>34206951.0</td>\n",
       "      <td>-118873024.0</td>\n",
       "      <td>13900.0</td>\n",
       "      <td>1111</td>\n",
       "      <td>...</td>\n",
       "      <td>0.010269</td>\n",
       "      <td>-0.778138</td>\n",
       "      <td>-0.857238</td>\n",
       "      <td>-0.930533</td>\n",
       "      <td>-0.010269</td>\n",
       "      <td>-0.316675</td>\n",
       "      <td>0.039236</td>\n",
       "      <td>-1.026021</td>\n",
       "      <td>-0.774116</td>\n",
       "      <td>0.670994</td>\n",
       "    </tr>\n",
       "    <tr>\n",
       "      <th>63246</th>\n",
       "      <td>3.5</td>\n",
       "      <td>4.0</td>\n",
       "      <td>6.0</td>\n",
       "      <td>3886.0</td>\n",
       "      <td>6111.0</td>\n",
       "      <td>3.0</td>\n",
       "      <td>34297219.0</td>\n",
       "      <td>-118871493.0</td>\n",
       "      <td>8584.0</td>\n",
       "      <td>1111</td>\n",
       "      <td>...</td>\n",
       "      <td>1.916476</td>\n",
       "      <td>0.914093</td>\n",
       "      <td>0.931322</td>\n",
       "      <td>1.775766</td>\n",
       "      <td>-1.916476</td>\n",
       "      <td>0.443314</td>\n",
       "      <td>-0.022473</td>\n",
       "      <td>-0.112416</td>\n",
       "      <td>0.378555</td>\n",
       "      <td>-0.845467</td>\n",
       "    </tr>\n",
       "    <tr>\n",
       "      <th>67281</th>\n",
       "      <td>3.0</td>\n",
       "      <td>3.0</td>\n",
       "      <td>6.0</td>\n",
       "      <td>3186.0</td>\n",
       "      <td>6059.0</td>\n",
       "      <td>3.0</td>\n",
       "      <td>33507031.0</td>\n",
       "      <td>-117646588.0</td>\n",
       "      <td>12600.0</td>\n",
       "      <td>122</td>\n",
       "      <td>...</td>\n",
       "      <td>0.763886</td>\n",
       "      <td>0.702144</td>\n",
       "      <td>0.207921</td>\n",
       "      <td>0.087702</td>\n",
       "      <td>-0.763886</td>\n",
       "      <td>-0.313973</td>\n",
       "      <td>0.024146</td>\n",
       "      <td>-0.376152</td>\n",
       "      <td>-0.314871</td>\n",
       "      <td>-1.098211</td>\n",
       "    </tr>\n",
       "    <tr>\n",
       "      <th>58951</th>\n",
       "      <td>3.0</td>\n",
       "      <td>4.0</td>\n",
       "      <td>7.0</td>\n",
       "      <td>2268.0</td>\n",
       "      <td>6037.0</td>\n",
       "      <td>3.0</td>\n",
       "      <td>34113795.0</td>\n",
       "      <td>-118130508.0</td>\n",
       "      <td>9571.0</td>\n",
       "      <td>0100</td>\n",
       "      <td>...</td>\n",
       "      <td>-1.186652</td>\n",
       "      <td>-0.764811</td>\n",
       "      <td>-0.719403</td>\n",
       "      <td>-0.428715</td>\n",
       "      <td>1.186652</td>\n",
       "      <td>1.593228</td>\n",
       "      <td>-0.011016</td>\n",
       "      <td>-0.947643</td>\n",
       "      <td>-0.671160</td>\n",
       "      <td>-0.508476</td>\n",
       "    </tr>\n",
       "    <tr>\n",
       "      <th>1864</th>\n",
       "      <td>2.0</td>\n",
       "      <td>3.0</td>\n",
       "      <td>8.0</td>\n",
       "      <td>2256.0</td>\n",
       "      <td>6037.0</td>\n",
       "      <td>2.0</td>\n",
       "      <td>34152837.0</td>\n",
       "      <td>-118612470.0</td>\n",
       "      <td>12987.0</td>\n",
       "      <td>0100</td>\n",
       "      <td>...</td>\n",
       "      <td>0.010269</td>\n",
       "      <td>0.639895</td>\n",
       "      <td>0.614963</td>\n",
       "      <td>0.674648</td>\n",
       "      <td>-0.010269</td>\n",
       "      <td>-0.134207</td>\n",
       "      <td>0.028638</td>\n",
       "      <td>0.380334</td>\n",
       "      <td>-0.162159</td>\n",
       "      <td>-0.213608</td>\n",
       "    </tr>\n",
       "  </tbody>\n",
       "</table>\n",
       "<p>12057 rows × 48 columns</p>\n",
       "</div>"
      ],
      "text/plain": [
       "       bathroomcnt  bedroomcnt  buildingqualitytypeid    sqft    fips  \\\n",
       "59922          2.0         2.0                    6.0  1755.0  6059.0   \n",
       "57456          3.0         3.0                    6.0  2836.0  6059.0   \n",
       "52533          3.0         5.0                    7.0  3014.0  6037.0   \n",
       "51697          1.0         2.0                    6.0  1435.0  6059.0   \n",
       "30724          2.0         3.0                    6.0  1325.0  6037.0   \n",
       "...            ...         ...                    ...     ...     ...   \n",
       "63502          2.0         4.0                    6.0  1623.0  6111.0   \n",
       "63246          3.5         4.0                    6.0  3886.0  6111.0   \n",
       "67281          3.0         3.0                    6.0  3186.0  6059.0   \n",
       "58951          3.0         4.0                    7.0  2268.0  6037.0   \n",
       "1864           2.0         3.0                    8.0  2256.0  6037.0   \n",
       "\n",
       "       fullbathcnt    latitude    longitude  lotsizesquarefeet  \\\n",
       "59922          2.0  33653357.0 -117624535.0             5000.0   \n",
       "57456          3.0  33890055.0 -117753765.0            10800.0   \n",
       "52533          3.0  34634772.0 -118223018.0            13099.0   \n",
       "51697          1.0  33749809.0 -117848627.0             6125.0   \n",
       "30724          2.0  33931383.0 -118028369.0             8267.0   \n",
       "...            ...         ...          ...                ...   \n",
       "63502          2.0  34206951.0 -118873024.0            13900.0   \n",
       "63246          3.0  34297219.0 -118871493.0             8584.0   \n",
       "67281          3.0  33507031.0 -117646588.0            12600.0   \n",
       "58951          3.0  34113795.0 -118130508.0             9571.0   \n",
       "1864           2.0  34152837.0 -118612470.0            12987.0   \n",
       "\n",
       "      propertycountylandusecode  ...  yearbuilt_scaled  \\\n",
       "59922                       122  ...          1.517503   \n",
       "57456                       122  ...          1.162860   \n",
       "52533                      0101  ...          1.650494   \n",
       "51697                       122  ...         -1.629956   \n",
       "30724                      0100  ...         -0.122722   \n",
       "...                         ...  ...               ...   \n",
       "63502                      1111  ...          0.010269   \n",
       "63246                      1111  ...          1.916476   \n",
       "67281                       122  ...          0.763886   \n",
       "58951                      0100  ...         -1.186652   \n",
       "1864                       0100  ...          0.010269   \n",
       "\n",
       "       structuretaxvaluedollarcnt_scaled  home_value_scaled  taxamount_scaled  \\\n",
       "59922                           0.169294          -0.286767         -0.483091   \n",
       "57456                           0.989205           0.505084          0.483504   \n",
       "52533                           0.668864          -0.260793         -0.138232   \n",
       "51697                          -0.756917          -0.153763         -0.180807   \n",
       "30724                          -0.834579          -0.834163         -0.838013   \n",
       "...                                  ...                ...               ...   \n",
       "63502                          -0.778138          -0.857238         -0.930533   \n",
       "63246                           0.914093           0.931322          1.775766   \n",
       "67281                           0.702144           0.207921          0.087702   \n",
       "58951                          -0.764811          -0.719403         -0.428715   \n",
       "1864                            0.639895           0.614963          0.674648   \n",
       "\n",
       "       age_scaled  taxrate_scaled acres_scaled price_per_sqft_scaled  \\\n",
       "59922   -1.517503       -0.514827    -0.064078             -0.312351   \n",
       "57456   -1.162860       -0.205043     0.003251             -0.035825   \n",
       "52533   -1.650494        0.125050     0.029938             -0.676206   \n",
       "51697    1.629956       -0.180604    -0.051018              0.100073   \n",
       "30724    0.122722        0.291756    -0.026153             -0.941161   \n",
       "...           ...             ...          ...                   ...   \n",
       "63502   -0.010269       -0.316675     0.039236             -1.026021   \n",
       "63246   -1.916476        0.443314    -0.022473             -0.112416   \n",
       "67281   -0.763886       -0.313973     0.024146             -0.376152   \n",
       "58951    1.186652        1.593228    -0.011016             -0.947643   \n",
       "1864    -0.010269       -0.134207     0.028638              0.380334   \n",
       "\n",
       "      lotsize_per_sqft_scaled  bed_bath_ratio_scaled  \n",
       "59922               -0.060997              -1.098211  \n",
       "57456               -0.081287              -1.098211  \n",
       "52533               -0.526437               0.081259  \n",
       "51697               -0.085963               0.670994  \n",
       "30724               -0.720399              -0.213608  \n",
       "...                       ...                    ...  \n",
       "63502               -0.774116               0.670994  \n",
       "63246                0.378555              -0.845467  \n",
       "67281               -0.314871              -1.098211  \n",
       "58951               -0.671160              -0.508476  \n",
       "1864                -0.162159              -0.213608  \n",
       "\n",
       "[12057 rows x 48 columns]"
      ]
     },
     "execution_count": 18,
     "metadata": {},
     "output_type": "execute_result"
    }
   ],
   "source": [
    "X_validate_scaled"
   ]
  },
  {
   "cell_type": "code",
   "execution_count": 19,
   "metadata": {},
   "outputs": [
    {
     "data": {
      "text/html": [
       "<div>\n",
       "<style scoped>\n",
       "    .dataframe tbody tr th:only-of-type {\n",
       "        vertical-align: middle;\n",
       "    }\n",
       "\n",
       "    .dataframe tbody tr th {\n",
       "        vertical-align: top;\n",
       "    }\n",
       "\n",
       "    .dataframe thead th {\n",
       "        text-align: right;\n",
       "    }\n",
       "</style>\n",
       "<table border=\"1\" class=\"dataframe\">\n",
       "  <thead>\n",
       "    <tr style=\"text-align: right;\">\n",
       "      <th></th>\n",
       "      <th>bathroomcnt</th>\n",
       "      <th>bedroomcnt</th>\n",
       "      <th>buildingqualitytypeid</th>\n",
       "      <th>sqft</th>\n",
       "      <th>fips</th>\n",
       "      <th>fullbathcnt</th>\n",
       "      <th>latitude</th>\n",
       "      <th>longitude</th>\n",
       "      <th>lotsizesquarefeet</th>\n",
       "      <th>propertycountylandusecode</th>\n",
       "      <th>...</th>\n",
       "      <th>yearbuilt_scaled</th>\n",
       "      <th>structuretaxvaluedollarcnt_scaled</th>\n",
       "      <th>home_value_scaled</th>\n",
       "      <th>taxamount_scaled</th>\n",
       "      <th>age_scaled</th>\n",
       "      <th>taxrate_scaled</th>\n",
       "      <th>acres_scaled</th>\n",
       "      <th>price_per_sqft_scaled</th>\n",
       "      <th>lotsize_per_sqft_scaled</th>\n",
       "      <th>bed_bath_ratio_scaled</th>\n",
       "    </tr>\n",
       "  </thead>\n",
       "  <tbody>\n",
       "    <tr>\n",
       "      <th>31172</th>\n",
       "      <td>2.5</td>\n",
       "      <td>2.0</td>\n",
       "      <td>6.0</td>\n",
       "      <td>1462.0</td>\n",
       "      <td>6059.0</td>\n",
       "      <td>2.0</td>\n",
       "      <td>33718212.0</td>\n",
       "      <td>-117763786.0</td>\n",
       "      <td>1810.0</td>\n",
       "      <td>122</td>\n",
       "      <td>...</td>\n",
       "      <td>0.675225</td>\n",
       "      <td>-0.350166</td>\n",
       "      <td>0.035200</td>\n",
       "      <td>-0.135064</td>\n",
       "      <td>-0.675225</td>\n",
       "      <td>-0.395590</td>\n",
       "      <td>-0.101108</td>\n",
       "      <td>0.365377</td>\n",
       "      <td>2.250049</td>\n",
       "      <td>-1.452052</td>\n",
       "    </tr>\n",
       "    <tr>\n",
       "      <th>25782</th>\n",
       "      <td>2.0</td>\n",
       "      <td>4.0</td>\n",
       "      <td>4.0</td>\n",
       "      <td>1792.0</td>\n",
       "      <td>6037.0</td>\n",
       "      <td>2.0</td>\n",
       "      <td>34708673.0</td>\n",
       "      <td>-118144605.0</td>\n",
       "      <td>7499.0</td>\n",
       "      <td>0100</td>\n",
       "      <td>...</td>\n",
       "      <td>-0.344374</td>\n",
       "      <td>-0.762190</td>\n",
       "      <td>-0.856642</td>\n",
       "      <td>-0.766803</td>\n",
       "      <td>0.344374</td>\n",
       "      <td>1.305150</td>\n",
       "      <td>-0.035068</td>\n",
       "      <td>-1.044481</td>\n",
       "      <td>-0.725151</td>\n",
       "      <td>0.670994</td>\n",
       "    </tr>\n",
       "    <tr>\n",
       "      <th>61352</th>\n",
       "      <td>1.0</td>\n",
       "      <td>2.0</td>\n",
       "      <td>4.0</td>\n",
       "      <td>928.0</td>\n",
       "      <td>6037.0</td>\n",
       "      <td>1.0</td>\n",
       "      <td>34085134.0</td>\n",
       "      <td>-118347198.0</td>\n",
       "      <td>2149.0</td>\n",
       "      <td>0100</td>\n",
       "      <td>...</td>\n",
       "      <td>-1.585625</td>\n",
       "      <td>-0.685434</td>\n",
       "      <td>-0.322597</td>\n",
       "      <td>-0.358103</td>\n",
       "      <td>1.585625</td>\n",
       "      <td>-0.181972</td>\n",
       "      <td>-0.097173</td>\n",
       "      <td>0.418546</td>\n",
       "      <td>0.871097</td>\n",
       "      <td>0.670994</td>\n",
       "    </tr>\n",
       "    <tr>\n",
       "      <th>55888</th>\n",
       "      <td>3.5</td>\n",
       "      <td>4.0</td>\n",
       "      <td>6.0</td>\n",
       "      <td>3140.0</td>\n",
       "      <td>6059.0</td>\n",
       "      <td>3.0</td>\n",
       "      <td>33467924.0</td>\n",
       "      <td>-117595401.0</td>\n",
       "      <td>9867.0</td>\n",
       "      <td>122</td>\n",
       "      <td>...</td>\n",
       "      <td>1.650494</td>\n",
       "      <td>1.622189</td>\n",
       "      <td>0.646556</td>\n",
       "      <td>0.932991</td>\n",
       "      <td>-1.650494</td>\n",
       "      <td>0.065594</td>\n",
       "      <td>-0.007580</td>\n",
       "      <td>-0.050365</td>\n",
       "      <td>0.066498</td>\n",
       "      <td>-0.845467</td>\n",
       "    </tr>\n",
       "    <tr>\n",
       "      <th>29701</th>\n",
       "      <td>3.0</td>\n",
       "      <td>4.0</td>\n",
       "      <td>6.0</td>\n",
       "      <td>2250.0</td>\n",
       "      <td>6059.0</td>\n",
       "      <td>3.0</td>\n",
       "      <td>33792847.0</td>\n",
       "      <td>-118017466.0</td>\n",
       "      <td>5200.0</td>\n",
       "      <td>122</td>\n",
       "      <td>...</td>\n",
       "      <td>0.409243</td>\n",
       "      <td>-0.693067</td>\n",
       "      <td>-0.812650</td>\n",
       "      <td>-0.840646</td>\n",
       "      <td>-0.409243</td>\n",
       "      <td>0.046174</td>\n",
       "      <td>-0.061756</td>\n",
       "      <td>-1.038329</td>\n",
       "      <td>-0.632990</td>\n",
       "      <td>-0.508476</td>\n",
       "    </tr>\n",
       "    <tr>\n",
       "      <th>...</th>\n",
       "      <td>...</td>\n",
       "      <td>...</td>\n",
       "      <td>...</td>\n",
       "      <td>...</td>\n",
       "      <td>...</td>\n",
       "      <td>...</td>\n",
       "      <td>...</td>\n",
       "      <td>...</td>\n",
       "      <td>...</td>\n",
       "      <td>...</td>\n",
       "      <td>...</td>\n",
       "      <td>...</td>\n",
       "      <td>...</td>\n",
       "      <td>...</td>\n",
       "      <td>...</td>\n",
       "      <td>...</td>\n",
       "      <td>...</td>\n",
       "      <td>...</td>\n",
       "      <td>...</td>\n",
       "      <td>...</td>\n",
       "      <td>...</td>\n",
       "    </tr>\n",
       "    <tr>\n",
       "      <th>56169</th>\n",
       "      <td>2.0</td>\n",
       "      <td>4.0</td>\n",
       "      <td>6.0</td>\n",
       "      <td>1502.0</td>\n",
       "      <td>6059.0</td>\n",
       "      <td>2.0</td>\n",
       "      <td>33825341.0</td>\n",
       "      <td>-117949819.0</td>\n",
       "      <td>6360.0</td>\n",
       "      <td>122</td>\n",
       "      <td>...</td>\n",
       "      <td>-0.300044</td>\n",
       "      <td>-0.580703</td>\n",
       "      <td>-0.240870</td>\n",
       "      <td>-0.263351</td>\n",
       "      <td>0.300044</td>\n",
       "      <td>-0.164038</td>\n",
       "      <td>-0.048290</td>\n",
       "      <td>-0.089306</td>\n",
       "      <td>-0.186945</td>\n",
       "      <td>0.670994</td>\n",
       "    </tr>\n",
       "    <tr>\n",
       "      <th>70600</th>\n",
       "      <td>2.5</td>\n",
       "      <td>2.0</td>\n",
       "      <td>6.0</td>\n",
       "      <td>1748.0</td>\n",
       "      <td>6059.0</td>\n",
       "      <td>2.0</td>\n",
       "      <td>33475333.0</td>\n",
       "      <td>-117693044.0</td>\n",
       "      <td>3106.0</td>\n",
       "      <td>122</td>\n",
       "      <td>...</td>\n",
       "      <td>1.162860</td>\n",
       "      <td>-0.115994</td>\n",
       "      <td>-0.238465</td>\n",
       "      <td>-0.223427</td>\n",
       "      <td>-1.162860</td>\n",
       "      <td>-0.092273</td>\n",
       "      <td>-0.086064</td>\n",
       "      <td>-0.246706</td>\n",
       "      <td>0.491934</td>\n",
       "      <td>-1.452052</td>\n",
       "    </tr>\n",
       "    <tr>\n",
       "      <th>44691</th>\n",
       "      <td>2.0</td>\n",
       "      <td>3.0</td>\n",
       "      <td>6.0</td>\n",
       "      <td>1426.0</td>\n",
       "      <td>6037.0</td>\n",
       "      <td>2.0</td>\n",
       "      <td>33989122.0</td>\n",
       "      <td>-117868494.0</td>\n",
       "      <td>6368.0</td>\n",
       "      <td>0100</td>\n",
       "      <td>...</td>\n",
       "      <td>0.320582</td>\n",
       "      <td>-0.206709</td>\n",
       "      <td>-0.507121</td>\n",
       "      <td>-0.485006</td>\n",
       "      <td>-0.320582</td>\n",
       "      <td>0.013179</td>\n",
       "      <td>-0.048197</td>\n",
       "      <td>-0.447260</td>\n",
       "      <td>-0.411989</td>\n",
       "      <td>-0.213608</td>\n",
       "    </tr>\n",
       "    <tr>\n",
       "      <th>69045</th>\n",
       "      <td>2.0</td>\n",
       "      <td>3.0</td>\n",
       "      <td>6.0</td>\n",
       "      <td>1408.0</td>\n",
       "      <td>6037.0</td>\n",
       "      <td>2.0</td>\n",
       "      <td>33924474.0</td>\n",
       "      <td>-118190269.0</td>\n",
       "      <td>5035.0</td>\n",
       "      <td>0100</td>\n",
       "      <td>...</td>\n",
       "      <td>-1.452634</td>\n",
       "      <td>-0.328019</td>\n",
       "      <td>-0.383815</td>\n",
       "      <td>-0.318642</td>\n",
       "      <td>1.452634</td>\n",
       "      <td>0.063161</td>\n",
       "      <td>-0.063671</td>\n",
       "      <td>-0.240855</td>\n",
       "      <td>-0.169721</td>\n",
       "      <td>-0.213608</td>\n",
       "    </tr>\n",
       "    <tr>\n",
       "      <th>50425</th>\n",
       "      <td>4.5</td>\n",
       "      <td>4.0</td>\n",
       "      <td>6.0</td>\n",
       "      <td>4502.0</td>\n",
       "      <td>6111.0</td>\n",
       "      <td>4.0</td>\n",
       "      <td>34297436.0</td>\n",
       "      <td>-118753844.0</td>\n",
       "      <td>9019.0</td>\n",
       "      <td>1111</td>\n",
       "      <td>...</td>\n",
       "      <td>1.916476</td>\n",
       "      <td>1.213053</td>\n",
       "      <td>1.222609</td>\n",
       "      <td>1.090352</td>\n",
       "      <td>-1.916476</td>\n",
       "      <td>-0.292233</td>\n",
       "      <td>-0.017424</td>\n",
       "      <td>-0.120184</td>\n",
       "      <td>0.493430</td>\n",
       "      <td>-1.294789</td>\n",
       "    </tr>\n",
       "  </tbody>\n",
       "</table>\n",
       "<p>10048 rows × 48 columns</p>\n",
       "</div>"
      ],
      "text/plain": [
       "       bathroomcnt  bedroomcnt  buildingqualitytypeid    sqft    fips  \\\n",
       "31172          2.5         2.0                    6.0  1462.0  6059.0   \n",
       "25782          2.0         4.0                    4.0  1792.0  6037.0   \n",
       "61352          1.0         2.0                    4.0   928.0  6037.0   \n",
       "55888          3.5         4.0                    6.0  3140.0  6059.0   \n",
       "29701          3.0         4.0                    6.0  2250.0  6059.0   \n",
       "...            ...         ...                    ...     ...     ...   \n",
       "56169          2.0         4.0                    6.0  1502.0  6059.0   \n",
       "70600          2.5         2.0                    6.0  1748.0  6059.0   \n",
       "44691          2.0         3.0                    6.0  1426.0  6037.0   \n",
       "69045          2.0         3.0                    6.0  1408.0  6037.0   \n",
       "50425          4.5         4.0                    6.0  4502.0  6111.0   \n",
       "\n",
       "       fullbathcnt    latitude    longitude  lotsizesquarefeet  \\\n",
       "31172          2.0  33718212.0 -117763786.0             1810.0   \n",
       "25782          2.0  34708673.0 -118144605.0             7499.0   \n",
       "61352          1.0  34085134.0 -118347198.0             2149.0   \n",
       "55888          3.0  33467924.0 -117595401.0             9867.0   \n",
       "29701          3.0  33792847.0 -118017466.0             5200.0   \n",
       "...            ...         ...          ...                ...   \n",
       "56169          2.0  33825341.0 -117949819.0             6360.0   \n",
       "70600          2.0  33475333.0 -117693044.0             3106.0   \n",
       "44691          2.0  33989122.0 -117868494.0             6368.0   \n",
       "69045          2.0  33924474.0 -118190269.0             5035.0   \n",
       "50425          4.0  34297436.0 -118753844.0             9019.0   \n",
       "\n",
       "      propertycountylandusecode  ...  yearbuilt_scaled  \\\n",
       "31172                       122  ...          0.675225   \n",
       "25782                      0100  ...         -0.344374   \n",
       "61352                      0100  ...         -1.585625   \n",
       "55888                       122  ...          1.650494   \n",
       "29701                       122  ...          0.409243   \n",
       "...                         ...  ...               ...   \n",
       "56169                       122  ...         -0.300044   \n",
       "70600                       122  ...          1.162860   \n",
       "44691                      0100  ...          0.320582   \n",
       "69045                      0100  ...         -1.452634   \n",
       "50425                      1111  ...          1.916476   \n",
       "\n",
       "       structuretaxvaluedollarcnt_scaled  home_value_scaled  taxamount_scaled  \\\n",
       "31172                          -0.350166           0.035200         -0.135064   \n",
       "25782                          -0.762190          -0.856642         -0.766803   \n",
       "61352                          -0.685434          -0.322597         -0.358103   \n",
       "55888                           1.622189           0.646556          0.932991   \n",
       "29701                          -0.693067          -0.812650         -0.840646   \n",
       "...                                  ...                ...               ...   \n",
       "56169                          -0.580703          -0.240870         -0.263351   \n",
       "70600                          -0.115994          -0.238465         -0.223427   \n",
       "44691                          -0.206709          -0.507121         -0.485006   \n",
       "69045                          -0.328019          -0.383815         -0.318642   \n",
       "50425                           1.213053           1.222609          1.090352   \n",
       "\n",
       "       age_scaled  taxrate_scaled acres_scaled price_per_sqft_scaled  \\\n",
       "31172   -0.675225       -0.395590    -0.101108              0.365377   \n",
       "25782    0.344374        1.305150    -0.035068             -1.044481   \n",
       "61352    1.585625       -0.181972    -0.097173              0.418546   \n",
       "55888   -1.650494        0.065594    -0.007580             -0.050365   \n",
       "29701   -0.409243        0.046174    -0.061756             -1.038329   \n",
       "...           ...             ...          ...                   ...   \n",
       "56169    0.300044       -0.164038    -0.048290             -0.089306   \n",
       "70600   -1.162860       -0.092273    -0.086064             -0.246706   \n",
       "44691   -0.320582        0.013179    -0.048197             -0.447260   \n",
       "69045    1.452634        0.063161    -0.063671             -0.240855   \n",
       "50425   -1.916476       -0.292233    -0.017424             -0.120184   \n",
       "\n",
       "      lotsize_per_sqft_scaled  bed_bath_ratio_scaled  \n",
       "31172                2.250049              -1.452052  \n",
       "25782               -0.725151               0.670994  \n",
       "61352                0.871097               0.670994  \n",
       "55888                0.066498              -0.845467  \n",
       "29701               -0.632990              -0.508476  \n",
       "...                       ...                    ...  \n",
       "56169               -0.186945               0.670994  \n",
       "70600                0.491934              -1.452052  \n",
       "44691               -0.411989              -0.213608  \n",
       "69045               -0.169721              -0.213608  \n",
       "50425                0.493430              -1.294789  \n",
       "\n",
       "[10048 rows x 48 columns]"
      ]
     },
     "execution_count": 19,
     "metadata": {},
     "output_type": "execute_result"
    }
   ],
   "source": [
    "X_test_scaled"
   ]
  },
  {
   "cell_type": "markdown",
   "metadata": {},
   "source": [
    "## Price per sqft and lot size per sqft clusters (n_clusters = 4)"
   ]
  },
  {
   "cell_type": "code",
   "execution_count": 20,
   "metadata": {},
   "outputs": [
    {
     "name": "stdout",
     "output_type": "stream",
     "text": [
      "     k           sse\n",
      "0    2  7.869793e+08\n",
      "1    3  4.753336e+08\n",
      "2    4  3.453922e+08\n",
      "3    5  2.694832e+08\n",
      "4    6  2.194287e+08\n",
      "5    7  1.898016e+08\n",
      "6    8  1.643332e+08\n",
      "7    9  1.408406e+08\n",
      "8   10  1.209999e+08\n",
      "9   11  1.090263e+08\n",
      "10  12  9.872122e+07\n",
      "11  13  9.137059e+07\n",
      "12  14  8.441044e+07\n",
      "13  15  7.864053e+07\n",
      "14  16  7.304669e+07\n",
      "15  17  6.873545e+07\n",
      "16  18  6.481261e+07\n",
      "17  19  6.142888e+07\n"
     ]
    },
    {
     "data": {
      "image/png": "[encoded data removed]",
      "text/plain": [
       "<Figure size 432x288 with 1 Axes>"
      ]
     },
     "metadata": {
      "needs_background": "light"
     },
     "output_type": "display_data"
    }
   ],
   "source": [
    "size_vars = ['price_per_sqft', 'lotsize_per_sqft']\n",
    "e.elbow_plot(X_train_scaled, cluster_vars = size_vars)"
   ]
  },
  {
   "cell_type": "code",
   "execution_count": 21,
   "metadata": {},
   "outputs": [],
   "source": [
    "train_clusters, kmeans = e.run_kmeans(X_train, X_train_scaled, k=4, \n",
    "                                    cluster_vars = ['price_per_sqft', \n",
    "                                                    'lotsize_per_sqft'], \n",
    "                                    cluster_col_name = 'size_cluster')\n",
    "validate_clusters, kmeans = e.run_kmeans(X_validate, X_validate_scaled, k=4, \n",
    "                                    cluster_vars = ['price_per_sqft', \n",
    "                                                    'lotsize_per_sqft'], \n",
    "                                    cluster_col_name = 'size_cluster')\n",
    "test_clusters, kmeans = e.run_kmeans(X_test, X_test_scaled, k=4, \n",
    "                                    cluster_vars = ['price_per_sqft', \n",
    "                                                    'lotsize_per_sqft'], \n",
    "                                    cluster_col_name = 'size_cluster')"
   ]
  },
  {
   "cell_type": "code",
   "execution_count": 22,
   "metadata": {},
   "outputs": [
    {
     "data": {
      "text/plain": [
       "(28133, 48)"
      ]
     },
     "execution_count": 22,
     "metadata": {},
     "output_type": "execute_result"
    }
   ],
   "source": [
    "X_train_scaled.shape"
   ]
  },
  {
   "cell_type": "code",
   "execution_count": 23,
   "metadata": {},
   "outputs": [
    {
     "data": {
      "text/plain": [
       "(12057, 48)"
      ]
     },
     "execution_count": 23,
     "metadata": {},
     "output_type": "execute_result"
    }
   ],
   "source": [
    "X_validate_scaled.shape"
   ]
  },
  {
   "cell_type": "code",
   "execution_count": 24,
   "metadata": {},
   "outputs": [
    {
     "data": {
      "text/plain": [
       "(10048, 48)"
      ]
     },
     "execution_count": 24,
     "metadata": {},
     "output_type": "execute_result"
    }
   ],
   "source": [
    "X_test_scaled.shape"
   ]
  },
  {
   "cell_type": "code",
   "execution_count": 25,
   "metadata": {},
   "outputs": [],
   "source": [
    "centroid_col_names = ['centroid_' + i for i in size_vars]\n",
    "centroid_col_names\n",
    "\n",
    "centroids = pd.DataFrame(kmeans.cluster_centers_, \n",
    "             columns=centroid_col_names).reset_index().rename(columns={'index': 'size_cluster'})"
   ]
  },
  {
   "cell_type": "code",
   "execution_count": 26,
   "metadata": {},
   "outputs": [],
   "source": [
    "# concatenate cluster id\n",
    "X_train = pd.concat([X_train, train_clusters], axis=1)\n",
    "X_validate = pd.concat([X_validate, validate_clusters], axis=1)\n",
    "X_test = pd.concat([X_test, test_clusters], axis=1)\n",
    "\n",
    "#join on clusterid to get centroids\n",
    "X_train = X_train.merge(centroids, how='left', on='size_cluster').\\\n",
    "                set_index(X_train.index)\n",
    "X_validate = X_validate.merge(centroids, how='left', on='size_cluster').\\\n",
    "                set_index(X_validate.index)\n",
    "X_test = X_test.merge(centroids, how='left', on='size_cluster').\\\n",
    "                set_index(X_test.index)"
   ]
  },
  {
   "cell_type": "code",
   "execution_count": 27,
   "metadata": {},
   "outputs": [],
   "source": [
    "# concatenate cluster id\n",
    "X_train_scaled = pd.concat([X_train_scaled, train_clusters], \n",
    "                           axis=1)\n",
    "X_validate_scaled = pd.concat([X_validate_scaled, validate_clusters], \n",
    "                           axis=1)\n",
    "X_test_scaled = pd.concat([X_test_scaled, test_clusters], \n",
    "                           axis=1)\n",
    "\n",
    "# join on clusterid to get centroids\n",
    "X_train_scaled = X_train_scaled.merge(centroids, how='left', on='size_cluster').\\\n",
    "                set_index(X_train.index)\n",
    "X_validate_scaled = X_validate_scaled.merge(centroids, how='left', on='size_cluster').\\\n",
    "                set_index(X_validate.index)\n",
    "X_test_scaled = X_test_scaled.merge(centroids, how='left', on='size_cluster').\\\n",
    "                set_index(X_test.index)"
   ]
  },
  {
   "cell_type": "code",
   "execution_count": 28,
   "metadata": {},
   "outputs": [
    {
     "data": {
      "image/png": "[encoded data removed]",
      "text/plain": [
       "<Figure size 432x288 with 1 Axes>"
      ]
     },
     "metadata": {
      "needs_background": "light"
     },
     "output_type": "display_data"
    }
   ],
   "source": [
    "sns.scatterplot(x='price_per_sqft', y='lotsize_per_sqft', hue='size_cluster', data=X_train)\n",
    "plt.title(\"Price per SQFT and Lot size per sqft\")\n",
    "plt.show()"
   ]
  },
  {
   "cell_type": "code",
   "execution_count": 29,
   "metadata": {},
   "outputs": [
    {
     "data": {
      "image/png": "[encoded data removed]",
      "text/plain": [
       "<Figure size 432x288 with 1 Axes>"
      ]
     },
     "metadata": {
      "needs_background": "light"
     },
     "output_type": "display_data"
    }
   ],
   "source": [
    "sns.boxplot(X_train.size_cluster, y_train.logerror)\n",
    "plt.ylim(-.07,.07)\n",
    "plt.show()"
   ]
  },
  {
   "cell_type": "code",
   "execution_count": 30,
   "metadata": {},
   "outputs": [],
   "source": [
    "dummy_df = pd.get_dummies(X_train_scaled,\n",
    "                           columns=['size_cluster'], \n",
    "                           drop_first=True)\n",
    "dummy_df1 = pd.get_dummies(X_validate_scaled,\n",
    "                           columns=['size_cluster'], \n",
    "                           drop_first=True)\n",
    "dummy_df2 = pd.get_dummies(X_test_scaled,\n",
    "                           columns=['size_cluster'], \n",
    "                           drop_first=True)"
   ]
  },
  {
   "cell_type": "code",
   "execution_count": 31,
   "metadata": {},
   "outputs": [
    {
     "data": {
      "text/html": [
       "<div>\n",
       "<style scoped>\n",
       "    .dataframe tbody tr th:only-of-type {\n",
       "        vertical-align: middle;\n",
       "    }\n",
       "\n",
       "    .dataframe tbody tr th {\n",
       "        vertical-align: top;\n",
       "    }\n",
       "\n",
       "    .dataframe thead tr th {\n",
       "        text-align: left;\n",
       "    }\n",
       "\n",
       "    .dataframe thead tr:last-of-type th {\n",
       "        text-align: right;\n",
       "    }\n",
       "</style>\n",
       "<table border=\"1\" class=\"dataframe\">\n",
       "  <thead>\n",
       "    <tr>\n",
       "      <th></th>\n",
       "      <th colspan=\"5\" halign=\"left\">bed_bath_ratio</th>\n",
       "      <th colspan=\"5\" halign=\"left\">age</th>\n",
       "      <th colspan=\"5\" halign=\"left\">buildingqualitytypeid</th>\n",
       "    </tr>\n",
       "    <tr>\n",
       "      <th></th>\n",
       "      <th>mean</th>\n",
       "      <th>median</th>\n",
       "      <th>std</th>\n",
       "      <th>min</th>\n",
       "      <th>max</th>\n",
       "      <th>mean</th>\n",
       "      <th>median</th>\n",
       "      <th>std</th>\n",
       "      <th>min</th>\n",
       "      <th>max</th>\n",
       "      <th>mean</th>\n",
       "      <th>median</th>\n",
       "      <th>std</th>\n",
       "      <th>min</th>\n",
       "      <th>max</th>\n",
       "    </tr>\n",
       "    <tr>\n",
       "      <th>size_cluster</th>\n",
       "      <th></th>\n",
       "      <th></th>\n",
       "      <th></th>\n",
       "      <th></th>\n",
       "      <th></th>\n",
       "      <th></th>\n",
       "      <th></th>\n",
       "      <th></th>\n",
       "      <th></th>\n",
       "      <th></th>\n",
       "      <th></th>\n",
       "      <th></th>\n",
       "      <th></th>\n",
       "      <th></th>\n",
       "      <th></th>\n",
       "    </tr>\n",
       "  </thead>\n",
       "  <tbody>\n",
       "    <tr>\n",
       "      <th>0</th>\n",
       "      <td>1.668903</td>\n",
       "      <td>1.50</td>\n",
       "      <td>0.568849</td>\n",
       "      <td>0.400000</td>\n",
       "      <td>5.0</td>\n",
       "      <td>54.534331</td>\n",
       "      <td>57.0</td>\n",
       "      <td>21.684542</td>\n",
       "      <td>1.0</td>\n",
       "      <td>139.0</td>\n",
       "      <td>6.100896</td>\n",
       "      <td>6.0</td>\n",
       "      <td>1.317507</td>\n",
       "      <td>1.0</td>\n",
       "      <td>12.0</td>\n",
       "    </tr>\n",
       "    <tr>\n",
       "      <th>1</th>\n",
       "      <td>1.591703</td>\n",
       "      <td>1.50</td>\n",
       "      <td>0.551601</td>\n",
       "      <td>0.500000</td>\n",
       "      <td>5.0</td>\n",
       "      <td>52.350216</td>\n",
       "      <td>55.0</td>\n",
       "      <td>22.816293</td>\n",
       "      <td>2.0</td>\n",
       "      <td>132.0</td>\n",
       "      <td>6.027975</td>\n",
       "      <td>6.0</td>\n",
       "      <td>1.203428</td>\n",
       "      <td>3.0</td>\n",
       "      <td>12.0</td>\n",
       "    </tr>\n",
       "    <tr>\n",
       "      <th>2</th>\n",
       "      <td>1.472872</td>\n",
       "      <td>1.50</td>\n",
       "      <td>0.579697</td>\n",
       "      <td>0.333333</td>\n",
       "      <td>5.0</td>\n",
       "      <td>63.194283</td>\n",
       "      <td>66.0</td>\n",
       "      <td>24.517459</td>\n",
       "      <td>2.0</td>\n",
       "      <td>128.0</td>\n",
       "      <td>6.507147</td>\n",
       "      <td>6.0</td>\n",
       "      <td>1.693418</td>\n",
       "      <td>3.0</td>\n",
       "      <td>12.0</td>\n",
       "    </tr>\n",
       "    <tr>\n",
       "      <th>3</th>\n",
       "      <td>1.408973</td>\n",
       "      <td>1.25</td>\n",
       "      <td>0.619385</td>\n",
       "      <td>0.500000</td>\n",
       "      <td>4.0</td>\n",
       "      <td>67.496599</td>\n",
       "      <td>69.0</td>\n",
       "      <td>22.006342</td>\n",
       "      <td>5.0</td>\n",
       "      <td>102.0</td>\n",
       "      <td>6.598639</td>\n",
       "      <td>6.0</td>\n",
       "      <td>1.694713</td>\n",
       "      <td>4.0</td>\n",
       "      <td>12.0</td>\n",
       "    </tr>\n",
       "  </tbody>\n",
       "</table>\n",
       "</div>"
      ],
      "text/plain": [
       "             bed_bath_ratio                                        age         \\\n",
       "                       mean median       std       min  max       mean median   \n",
       "size_cluster                                                                    \n",
       "0                  1.668903   1.50  0.568849  0.400000  5.0  54.534331   57.0   \n",
       "1                  1.591703   1.50  0.551601  0.500000  5.0  52.350216   55.0   \n",
       "2                  1.472872   1.50  0.579697  0.333333  5.0  63.194283   66.0   \n",
       "3                  1.408973   1.25  0.619385  0.500000  4.0  67.496599   69.0   \n",
       "\n",
       "                                    buildingqualitytypeid                   \\\n",
       "                    std  min    max                  mean median       std   \n",
       "size_cluster                                                                 \n",
       "0             21.684542  1.0  139.0              6.100896    6.0  1.317507   \n",
       "1             22.816293  2.0  132.0              6.027975    6.0  1.203428   \n",
       "2             24.517459  2.0  128.0              6.507147    6.0  1.693418   \n",
       "3             22.006342  5.0  102.0              6.598639    6.0  1.694713   \n",
       "\n",
       "                         \n",
       "              min   max  \n",
       "size_cluster             \n",
       "0             1.0  12.0  \n",
       "1             3.0  12.0  \n",
       "2             3.0  12.0  \n",
       "3             4.0  12.0  "
      ]
     },
     "execution_count": 31,
     "metadata": {},
     "output_type": "execute_result"
    }
   ],
   "source": [
    "X_train.groupby(['size_cluster'])['bed_bath_ratio', \n",
    "                                 'age', \n",
    "                                  'buildingqualitytypeid'].agg(['mean', 'median', \n",
    "                                               'std', 'min', 'max'])"
   ]
  },
  {
   "cell_type": "code",
   "execution_count": 32,
   "metadata": {},
   "outputs": [
    {
     "data": {
      "text/plain": [
       "Index(['bathroomcnt', 'bedroomcnt', 'buildingqualitytypeid', 'sqft', 'fips',\n",
       "       'fullbathcnt', 'latitude', 'longitude', 'lotsizesquarefeet',\n",
       "       'propertycountylandusecode', 'roomcnt', 'unitcnt', 'yearbuilt',\n",
       "       'structuretaxvaluedollarcnt', 'home_value', 'taxamount',\n",
       "       'transactiondate', 'heatingorsystemdesc', 'county', 'age', 'taxrate',\n",
       "       'acres', 'price_per_sqft', 'lotsize_per_sqft', 'bed_bath_ratio',\n",
       "       'binned_price_per_sqft', 'binned_bed_bath_ratio', 'bathroomcnt_scaled',\n",
       "       'bedroomcnt_scaled', 'buildingqualitytypeid_scaled', 'sqft_scaled',\n",
       "       'fips_scaled', 'fullbathcnt_scaled', 'latitude_scaled',\n",
       "       'longitude_scaled', 'lotsizesquarefeet_scaled', 'roomcnt_scaled',\n",
       "       'unitcnt_scaled', 'yearbuilt_scaled',\n",
       "       'structuretaxvaluedollarcnt_scaled', 'home_value_scaled',\n",
       "       'taxamount_scaled', 'age_scaled', 'taxrate_scaled', 'acres_scaled',\n",
       "       'price_per_sqft_scaled', 'lotsize_per_sqft_scaled',\n",
       "       'bed_bath_ratio_scaled', 'size_cluster', 'centroid_price_per_sqft',\n",
       "       'centroid_lotsize_per_sqft'],\n",
       "      dtype='object')"
      ]
     },
     "execution_count": 32,
     "metadata": {},
     "output_type": "execute_result"
    }
   ],
   "source": [
    "X_train_scaled.columns"
   ]
  },
  {
   "cell_type": "code",
   "execution_count": 33,
   "metadata": {},
   "outputs": [],
   "source": [
    "X_train_scaled = X_train_scaled.drop(columns = ['bathroomcnt', 'bedroomcnt', 'buildingqualitytypeid', 'sqft', 'fips',\n",
    "       'fullbathcnt', 'latitude', 'longitude', 'lotsizesquarefeet',\n",
    "       'propertycountylandusecode', 'roomcnt', 'unitcnt', 'yearbuilt',\n",
    "       'structuretaxvaluedollarcnt', 'home_value', 'taxamount',\n",
    "       'transactiondate', 'heatingorsystemdesc', 'county', 'age', 'taxrate',\n",
    "       'acres', 'price_per_sqft', 'lotsize_per_sqft', 'bed_bath_ratio',\n",
    "       'binned_price_per_sqft', 'binned_bed_bath_ratio','centroid_price_per_sqft',\n",
    "       'centroid_lotsize_per_sqft'])"
   ]
  },
  {
   "cell_type": "code",
   "execution_count": 34,
   "metadata": {},
   "outputs": [],
   "source": [
    "X_validate_scaled = X_validate_scaled.drop(columns = ['bathroomcnt', 'bedroomcnt', 'buildingqualitytypeid', 'sqft', 'fips',\n",
    "       'fullbathcnt', 'latitude', 'longitude', 'lotsizesquarefeet',\n",
    "       'propertycountylandusecode', 'roomcnt', 'unitcnt', 'yearbuilt',\n",
    "       'structuretaxvaluedollarcnt', 'home_value', 'taxamount',\n",
    "       'transactiondate', 'heatingorsystemdesc', 'county', 'age', 'taxrate',\n",
    "       'acres', 'price_per_sqft', 'lotsize_per_sqft', 'bed_bath_ratio',\n",
    "       'binned_price_per_sqft', 'binned_bed_bath_ratio','centroid_price_per_sqft',\n",
    "       'centroid_lotsize_per_sqft'])"
   ]
  },
  {
   "cell_type": "code",
   "execution_count": 35,
   "metadata": {},
   "outputs": [],
   "source": [
    "X_test_scaled = X_test_scaled.drop(columns = ['bathroomcnt', 'bedroomcnt', 'buildingqualitytypeid', 'sqft', 'fips',\n",
    "       'fullbathcnt', 'latitude', 'longitude', 'lotsizesquarefeet',\n",
    "       'propertycountylandusecode', 'roomcnt', 'unitcnt', 'yearbuilt',\n",
    "       'structuretaxvaluedollarcnt', 'home_value', 'taxamount',\n",
    "       'transactiondate', 'heatingorsystemdesc', 'county', 'age', 'taxrate',\n",
    "       'acres', 'price_per_sqft', 'lotsize_per_sqft', 'bed_bath_ratio',\n",
    "       'binned_price_per_sqft', 'binned_bed_bath_ratio','centroid_price_per_sqft',\n",
    "       'centroid_lotsize_per_sqft'])"
   ]
  },
  {
   "cell_type": "markdown",
   "metadata": {},
   "source": [
    "## Creating a baseline"
   ]
  },
  {
   "cell_type": "code",
   "execution_count": 36,
   "metadata": {},
   "outputs": [
    {
     "data": {
      "image/png": "[encoded data removed]",
      "text/plain": [
       "<Figure size 432x288 with 1 Axes>"
      ]
     },
     "metadata": {
      "needs_background": "light"
     },
     "output_type": "display_data"
    }
   ],
   "source": [
    "sns.distplot(y_train, axlabel = 'Logerror')\n",
    "plt.xlim(-.6,.6)\n",
    "plt.ylim(0, 7)\n",
    "plt.title(\"Distribution of Dependent Variable (logerror)\")\n",
    "plt.show()"
   ]
  },
  {
   "cell_type": "code",
   "execution_count": 37,
   "metadata": {},
   "outputs": [
    {
     "name": "stdout",
     "output_type": "stream",
     "text": [
      "logerror    0.017637\n",
      "dtype: float64\n"
     ]
    }
   ],
   "source": [
    "mean = np.mean(y_train)\n",
    "print(mean)"
   ]
  },
  {
   "cell_type": "code",
   "execution_count": 38,
   "metadata": {},
   "outputs": [
    {
     "data": {
      "text/plain": [
       "(28133, 1)"
      ]
     },
     "execution_count": 38,
     "metadata": {},
     "output_type": "execute_result"
    }
   ],
   "source": [
    "y_train.shape"
   ]
  },
  {
   "cell_type": "code",
   "execution_count": 39,
   "metadata": {},
   "outputs": [
    {
     "name": "stdout",
     "output_type": "stream",
     "text": [
      "Baseline RMSE is 0.17374246260320253\n"
     ]
    }
   ],
   "source": [
    "baseline_rmse = mean_squared_error(y_train, np.full(28133, np.mean(y_train)))**(1/2)\n",
    "print (f'Baseline RMSE is {baseline_rmse}')"
   ]
  },
  {
   "cell_type": "markdown",
   "metadata": {},
   "source": [
    "# Linear Regression Model"
   ]
  },
  {
   "cell_type": "code",
   "execution_count": 40,
   "metadata": {},
   "outputs": [
    {
     "name": "stdout",
     "output_type": "stream",
     "text": [
      " Linear Regression Train model RMSE is 0.17330510791818535\n"
     ]
    }
   ],
   "source": [
    "# Initiate model\n",
    "lm = LinearRegression()\n",
    "# Fit the model\n",
    "lm.fit(X_train_scaled, y_train)\n",
    "# Make predictions\n",
    "lm_pred = lm.predict(X_train_scaled)\n",
    "# Compute RMSE\n",
    "lm_rmse = mean_squared_error(y_train, lm_pred)**(1/2)\n",
    "print(f' Linear Regression Train model RMSE is {lm_rmse}')"
   ]
  },
  {
   "cell_type": "markdown",
   "metadata": {},
   "source": [
    "# Lassolars Model"
   ]
  },
  {
   "cell_type": "code",
   "execution_count": 41,
   "metadata": {},
   "outputs": [
    {
     "name": "stdout",
     "output_type": "stream",
     "text": [
      " Lassolars Train model RMSE is 0.17374246260320253\n"
     ]
    }
   ],
   "source": [
    "# Initiate model\n",
    "lars = LassoLars(alpha=1)\n",
    "# Fit the model\n",
    "lars.fit(X_train_scaled, y_train)\n",
    "# Make Predictions\n",
    "lars_pred = lars.predict(X_train_scaled)\n",
    "# Compute RMSE\n",
    "lars_rmse = mean_squared_error(y_train, lars_pred)**(1/2)\n",
    "print(f' Lassolars Train model RMSE is {lars_rmse}')"
   ]
  },
  {
   "cell_type": "code",
   "execution_count": 42,
   "metadata": {},
   "outputs": [
    {
     "name": "stdout",
     "output_type": "stream",
     "text": [
      " Lassolars Train model RMSE is 0.17374246260320253\n"
     ]
    }
   ],
   "source": [
    "# Initiate model alpha set to 20\n",
    "lars2 = LassoLars(alpha=20)\n",
    "# Fit the model\n",
    "lars2.fit(X_train_scaled, y_train)\n",
    "# Make Predictions\n",
    "lars_pred2 = lars2.predict(X_train_scaled)\n",
    "# Compute RMSE\n",
    "lars_rmse2 = mean_squared_error(y_train, lars_pred2)**(1/2)\n",
    "print(f' Lassolars Train model RMSE is {lars_rmse2}')"
   ]
  },
  {
   "cell_type": "markdown",
   "metadata": {},
   "source": [
    "# Polynomial Features Model"
   ]
  },
  {
   "cell_type": "code",
   "execution_count": 43,
   "metadata": {},
   "outputs": [
    {
     "name": "stdout",
     "output_type": "stream",
     "text": [
      " Polynomial Features model RMSE is 0.17220733967604554\n"
     ]
    }
   ],
   "source": [
    "# Initiate model\n",
    "pf = PolynomialFeatures(degree=2)\n",
    "\n",
    "# Fit and transform the model to get new features (originals squared)\n",
    "X_train_squared = pf.fit_transform(X_train_scaled)\n",
    "X_validate_squared = pf.transform(X_validate_scaled)  \n",
    "X_test_squared = pf.transform(X_test_scaled)          \n",
    "\n",
    "# New features inputed into linear model. \n",
    "lm_squared = LinearRegression(normalize=True)\n",
    "lm_squared.fit(X_train_squared, y_train)\n",
    "# Make predictions\n",
    "lm_squared_pred = lm_squared.predict(X_train_squared)\n",
    "# Compute RMSE\n",
    "lm_squared_rmse = mean_squared_error(y_train, lm_squared_pred)**(1/2)\n",
    "print(f' Polynomial Features model RMSE is {lm_squared_rmse}')"
   ]
  },
  {
   "cell_type": "markdown",
   "metadata": {},
   "source": [
    "### Take aways:\n",
    "    - Polynomial performed the best with a RMSE of 0.17220\n",
    "    - Linear Regression model was the 2nd best with a RMSE of 0.17330\n",
    "    - Both Lassolars models performed the same with an RMSE of 0.17374\n",
    "    - Going to validate on the 3 top models including the first Lassolars"
   ]
  },
  {
   "cell_type": "markdown",
   "metadata": {},
   "source": [
    "# Validate Linear Regression"
   ]
  },
  {
   "cell_type": "code",
   "execution_count": 44,
   "metadata": {},
   "outputs": [
    {
     "name": "stdout",
     "output_type": "stream",
     "text": [
      " Linear Regression validate model RMSE is 0.16435997145710343\n"
     ]
    }
   ],
   "source": [
    "# Make predictions\n",
    "lm_pred_v = lm.predict(X_validate_scaled)\n",
    "# Compute RMSE\n",
    "lm_rmse_v = mean_squared_error(y_validate, lm_pred_v)**(1/2)\n",
    "print(f' Linear Regression validate model RMSE is {lm_rmse_v}')"
   ]
  },
  {
   "cell_type": "markdown",
   "metadata": {},
   "source": [
    "# Validate Lassolars"
   ]
  },
  {
   "cell_type": "code",
   "execution_count": 46,
   "metadata": {},
   "outputs": [
    {
     "name": "stdout",
     "output_type": "stream",
     "text": [
      " Lassolars validate model RMSE is 0.16411613234388617\n"
     ]
    }
   ],
   "source": [
    "# Make predictions\n",
    "lars_pred_v = lars.predict(X_validate_scaled)\n",
    "# Compute RMSE\n",
    "lars_rmse_v = mean_squared_error(y_validate, lars_pred_v)**(1/2)\n",
    "print(f' Lassolars validate model RMSE is {lars_rmse_v}')"
   ]
  },
  {
   "cell_type": "markdown",
   "metadata": {},
   "source": [
    "# Validate Polynomial Features"
   ]
  },
  {
   "cell_type": "code",
   "execution_count": 47,
   "metadata": {},
   "outputs": [
    {
     "name": "stdout",
     "output_type": "stream",
     "text": [
      " Polynomial validate model RMSE is 7679292.500385546\n"
     ]
    }
   ],
   "source": [
    "# Make predictions\n",
    "lm_squared_pred_v = lm_squared.predict(X_validate_squared)\n",
    "# Compute RMSE\n",
    "lm_squared_rmse_v = mean_squared_error(y_validate, lm_squared_pred_v)**(1/2)\n",
    "print(f' Polynomial validate model RMSE is {lm_squared_rmse_v}')"
   ]
  },
  {
   "cell_type": "markdown",
   "metadata": {},
   "source": [
    "### Takeaways:\n",
    "    - "
   ]
  },
  {
   "cell_type": "code",
   "execution_count": null,
   "metadata": {},
   "outputs": [],
   "source": []
  },
  {
   "cell_type": "code",
   "execution_count": null,
   "metadata": {},
   "outputs": [],
   "source": []
  },
  {
   "cell_type": "code",
   "execution_count": null,
   "metadata": {},
   "outputs": [],
   "source": []
  },
  {
   "cell_type": "code",
   "execution_count": null,
   "metadata": {},
   "outputs": [],
   "source": []
  },
  {
   "cell_type": "code",
   "execution_count": null,
   "metadata": {},
   "outputs": [],
   "source": []
  },
  {
   "cell_type": "code",
   "execution_count": null,
   "metadata": {},
   "outputs": [],
   "source": []
  },
  {
   "cell_type": "code",
   "execution_count": null,
   "metadata": {},
   "outputs": [],
   "source": []
  },
  {
   "cell_type": "markdown",
   "metadata": {},
   "source": [
    "## Building quality type id and bed bath ratio clusters (n_clusters = 4)"
   ]
  },
  {
   "cell_type": "code",
   "execution_count": null,
   "metadata": {},
   "outputs": [],
   "source": [
    "#home_vars = ['buildingqualitytypeid', 'bed_bath_ratio']\n",
    "e.elbow_plot(X_train_scaled, cluster_vars = home_vars) "
   ]
  },
  {
   "cell_type": "code",
   "execution_count": null,
   "metadata": {},
   "outputs": [],
   "source": [
    "train_clusters, kmeans = e.run_kmeans(X_train, X_train_scaled, k=4, \n",
    "                                    cluster_vars = ['buildingqualitytypeid', 'bed_bath_ratio'], \n",
    "                                    cluster_col_name = 'home_cluster')"
   ]
  },
  {
   "cell_type": "code",
   "execution_count": null,
   "metadata": {},
   "outputs": [],
   "source": [
    "centroid_col_names = ['centroid_' + i for i in home_vars]\n",
    "centroid_col_names\n",
    "\n",
    "centroids = pd.DataFrame(kmeans.cluster_centers_, \n",
    "             columns=centroid_col_names).reset_index().rename(columns={'index': 'home_cluster'})"
   ]
  },
  {
   "cell_type": "code",
   "execution_count": null,
   "metadata": {},
   "outputs": [],
   "source": [
    "centroids"
   ]
  },
  {
   "cell_type": "code",
   "execution_count": null,
   "metadata": {},
   "outputs": [],
   "source": [
    "# concatenate cluster id\n",
    "X_train = pd.concat([X_train, train_clusters], axis=1)\n",
    "X_validate = pd.concat([X_validate, validate_clusters], axis=1)\n",
    "X_test = pd.concat([X_test, test_clusters], axis=1)\n",
    "\n",
    "# join on clusterid to get centroids\n",
    "X_train = X_train.merge(centroids, how='left', on='home_cluster').\\\n",
    "                set_index(X_train.index)\n",
    "X_validate = X_validate.merge(centroids, how='left', on='home_cluster').\\\n",
    "                set_index(X_validate.index)\n",
    "X_test = X_test.merge(centroids, how='left', on='home_cluster').\\\n",
    "                set_index(X_test.index)"
   ]
  },
  {
   "cell_type": "code",
   "execution_count": null,
   "metadata": {},
   "outputs": [],
   "source": [
    "# concatenate cluster id\n",
    "X_train_scaled = pd.concat([X_train_scaled, train_clusters], \n",
    "                           axis=1)\n",
    "X_validate_scaled = pd.concat([X_validate_scaled, validate_clusters], \n",
    "                           axis=1)\n",
    "X_test_scaled = pd.concat([X_test_scaled, test_clusters], \n",
    "                           axis=1)\n",
    "\n",
    "# join on clusterid to get centroids\n",
    "X_train_scaled = X_train_scaled.merge(centroids, how='left', on='home_cluster').\\\n",
    "                set_index(X_train.index)\n",
    "X_validate_scaled = X_validate_scaled.merge(centroids, how='left', on='home_cluster').\\\n",
    "                set_index(X_validate.index)\n",
    "X_test_scaled = X_test_scaled.merge(centroids, how='left', on='home_cluster').\\\n",
    "                set_index(X_test.index)\n"
   ]
  },
  {
   "cell_type": "code",
   "execution_count": null,
   "metadata": {},
   "outputs": [],
   "source": [
    "X_train_scaled.head()"
   ]
  },
  {
   "cell_type": "code",
   "execution_count": null,
   "metadata": {},
   "outputs": [],
   "source": []
  }
 ],
 "metadata": {
  "kernelspec": {
   "display_name": "Python 3",
   "language": "python",
   "name": "python3"
  },
  "language_info": {
   "codemirror_mode": {
    "name": "ipython",
    "version": 3
   },
   "file_extension": ".py",
   "mimetype": "text/x-python",
   "name": "python",
   "nbconvert_exporter": "python",
   "pygments_lexer": "ipython3",
   "version": "3.7.6"
  }
 },
 "nbformat": 4,
 "nbformat_minor": 4
}
